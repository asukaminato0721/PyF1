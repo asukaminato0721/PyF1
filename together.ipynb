{
 "cells": [
  {
   "cell_type": "markdown",
   "metadata": {},
   "source": [
    "# Examples"
   ]
  },
  {
   "cell_type": "markdown",
   "metadata": {},
   "source": [
    "## Basic Examples"
   ]
  },
  {
   "cell_type": "code",
   "execution_count": 1,
   "metadata": {
    "ExecuteTime": {
     "end_time": "2020-04-20T11:33:33.216899Z",
     "start_time": "2020-04-20T11:33:32.848885Z"
    }
   },
   "outputs": [
    {
     "data": {
      "text/latex": [
       "$\\displaystyle \\frac{a d + b c}{b d}$"
      ],
      "text/plain": [
       "(a*d + b*c)/(b*d)"
      ]
     },
     "execution_count": 1,
     "metadata": {},
     "output_type": "execute_result"
    }
   ],
   "source": [
    "from sympy.abc import *\n",
    "from sympy import *\n",
    "together(a/b + c/d)"
   ]
  },
  {
   "cell_type": "code",
   "execution_count": 3,
   "metadata": {
    "ExecuteTime": {
     "end_time": "2020-04-20T11:33:53.226105Z",
     "start_time": "2020-04-20T11:33:53.190145Z"
    }
   },
   "outputs": [
    {
     "data": {
      "text/latex": [
       "$\\displaystyle \\frac{x}{x - 1}$"
      ],
      "text/plain": [
       "x/(x - 1)"
      ]
     },
     "execution_count": 3,
     "metadata": {},
     "output_type": "execute_result"
    }
   ],
   "source": [
    "together(x**2/(x**2 - 1) + x/(x**2 - 1)).simplify()"
   ]
  },
  {
   "cell_type": "code",
   "execution_count": 5,
   "metadata": {
    "ExecuteTime": {
     "end_time": "2020-04-20T11:34:10.022223Z",
     "start_time": "2020-04-20T11:34:09.991218Z"
    }
   },
   "outputs": [
    {
     "data": {
      "text/latex": [
       "$\\displaystyle \\frac{4 x^{3} + 18 x^{2} + 22 x + 6}{x^{4} + 6 x^{3} + 11 x^{2} + 6 x}$"
      ],
      "text/plain": [
       "(4*x**3 + 18*x**2 + 22*x + 6)/(x**4 + 6*x**3 + 11*x**2 + 6*x)"
      ]
     },
     "execution_count": 5,
     "metadata": {},
     "output_type": "execute_result"
    }
   ],
   "source": [
    "together(1/x + 1/(x + 1) + 1/(x + 2) + 1/(x + 3)).cancel()"
   ]
  },
  {
   "cell_type": "code",
   "execution_count": 8,
   "metadata": {
    "ExecuteTime": {
     "end_time": "2020-04-20T11:34:39.510358Z",
     "start_time": "2020-04-20T11:34:39.493356Z"
    }
   },
   "outputs": [
    {
     "data": {
      "text/latex": [
       "$\\displaystyle x$"
      ],
      "text/plain": [
       "x"
      ]
     },
     "execution_count": 8,
     "metadata": {},
     "output_type": "execute_result"
    }
   ],
   "source": [
    "together(x**2/(x - y) - x* y/(x - y))"
   ]
  },
  {
   "cell_type": "code",
   "execution_count": 10,
   "metadata": {
    "ExecuteTime": {
     "end_time": "2020-04-20T11:34:57.053532Z",
     "start_time": "2020-04-20T11:34:57.042542Z"
    }
   },
   "outputs": [
    {
     "data": {
      "text/latex": [
       "$\\displaystyle \\frac{2 x + 1}{x \\left(x + 1\\right)}$"
      ],
      "text/plain": [
       "(2*x + 1)/(x*(x + 1))"
      ]
     },
     "execution_count": 10,
     "metadata": {},
     "output_type": "execute_result"
    }
   ],
   "source": [
    "together(1/x + 1/(1 + x) )"
   ]
  },
  {
   "cell_type": "code",
   "execution_count": 11,
   "metadata": {
    "ExecuteTime": {
     "end_time": "2020-04-20T11:35:05.456850Z",
     "start_time": "2020-04-20T11:35:05.442848Z"
    }
   },
   "outputs": [
    {
     "data": {
      "text/latex": [
       "$\\displaystyle \\frac{x^{2} - 2}{x + \\sqrt{2}}$"
      ],
      "text/plain": [
       "(x**2 - 2)/(x + sqrt(2))"
      ]
     },
     "execution_count": 11,
     "metadata": {},
     "output_type": "execute_result"
    }
   ],
   "source": [
    "together((x**2 - 2)/(sqrt(2) + x))"
   ]
  },
  {
   "cell_type": "code",
   "execution_count": 12,
   "metadata": {
    "ExecuteTime": {
     "end_time": "2020-04-20T11:35:12.259359Z",
     "start_time": "2020-04-20T11:35:12.243355Z"
    }
   },
   "outputs": [
    {
     "data": {
      "text/latex": [
       "$\\displaystyle \\frac{x^{2} + x - 2 + \\sqrt{2}}{\\left(x + \\sqrt{2}\\right) \\left(x^{2} - 2\\right)}$"
      ],
      "text/plain": [
       "(x**2 + x - 2 + sqrt(2))/((x + sqrt(2))*(x**2 - 2))"
      ]
     },
     "execution_count": 12,
     "metadata": {},
     "output_type": "execute_result"
    }
   ],
   "source": [
    "together(1/(sqrt(2) + x) + 1/(x**2 - 2))"
   ]
  },
  {
   "cell_type": "code",
   "execution_count": 15,
   "metadata": {
    "ExecuteTime": {
     "end_time": "2020-04-20T11:35:50.565142Z",
     "start_time": "2020-04-20T11:35:50.554143Z"
    }
   },
   "outputs": [
    {
     "data": {
      "text/latex": [
       "$\\displaystyle \\frac{x^{2} - 2}{x + \\sqrt{2}}$"
      ],
      "text/plain": [
       "(x**2 - 2)/(x + sqrt(2))"
      ]
     },
     "execution_count": 15,
     "metadata": {},
     "output_type": "execute_result"
    }
   ],
   "source": [
    "together((x**2 - 2)/(sqrt(2) + x))"
   ]
  },
  {
   "cell_type": "code",
   "execution_count": 16,
   "metadata": {
    "ExecuteTime": {
     "end_time": "2020-04-20T11:35:57.970565Z",
     "start_time": "2020-04-20T11:35:57.961564Z"
    }
   },
   "outputs": [
    {
     "data": {
      "text/latex": [
       "$\\displaystyle \\frac{2 x + 1}{x \\left(x + 1\\right)}$"
      ],
      "text/plain": [
       "(2*x + 1)/(x*(x + 1))"
      ]
     },
     "execution_count": 16,
     "metadata": {},
     "output_type": "execute_result"
    }
   ],
   "source": [
    "together(1/x + 1/(1 + x))"
   ]
  },
  {
   "cell_type": "code",
   "execution_count": 17,
   "metadata": {
    "ExecuteTime": {
     "end_time": "2020-04-20T11:36:09.730821Z",
     "start_time": "2020-04-20T11:36:09.709828Z"
    }
   },
   "outputs": [
    {
     "data": {
      "text/latex": [
       "$\\displaystyle \\frac{\\left(x - 2\\right) \\left(x - 1\\right)}{\\left(x - 5\\right) \\left(x - 4\\right) \\left(x - 3\\right)}$"
      ],
      "text/plain": [
       "(x - 2)*(x - 1)/((x - 5)*(x - 4)*(x - 3))"
      ]
     },
     "execution_count": 17,
     "metadata": {},
     "output_type": "execute_result"
    }
   ],
   "source": [
    "together((x - 1)* (x - 2)/((x - 3) *(x - 4)* (x - 5)))"
   ]
  },
  {
   "cell_type": "code",
   "execution_count": 19,
   "metadata": {
    "ExecuteTime": {
     "end_time": "2020-04-20T11:36:23.573921Z",
     "start_time": "2020-04-20T11:36:23.570924Z"
    }
   },
   "outputs": [],
   "source": [
    "# together(1/x + 1/(1 + x), modulus = 2)"
   ]
  },
  {
   "cell_type": "code",
   "execution_count": 21,
   "metadata": {
    "ExecuteTime": {
     "end_time": "2020-04-20T11:36:38.617532Z",
     "start_time": "2020-04-20T11:36:38.494474Z"
    }
   },
   "outputs": [
    {
     "data": {
      "text/latex": [
       "$\\displaystyle \\frac{1}{\\cos{\\left(x \\right)}} + \\frac{1}{\\sin{\\left(x \\right)}}$"
      ],
      "text/plain": [
       "1/cos(x) + 1/sin(x)"
      ]
     },
     "execution_count": 21,
     "metadata": {},
     "output_type": "execute_result"
    }
   ],
   "source": [
    "together(1/sin(x) + 1/cos(x)).simplify()"
   ]
  },
  {
   "cell_type": "code",
   "execution_count": 23,
   "metadata": {
    "ExecuteTime": {
     "end_time": "2020-04-20T11:36:59.662314Z",
     "start_time": "2020-04-20T11:36:59.659313Z"
    }
   },
   "outputs": [],
   "source": [
    "# together(1/sin(x) + 1/cos(x), trig = true)"
   ]
  },
  {
   "cell_type": "code",
   "execution_count": 24,
   "metadata": {
    "ExecuteTime": {
     "end_time": "2020-04-20T11:37:09.579704Z",
     "start_time": "2020-04-20T11:37:09.568697Z"
    }
   },
   "outputs": [
    {
     "data": {
      "text/latex": [
       "$\\displaystyle \\frac{a d + b c}{b d}$"
      ],
      "text/plain": [
       "(a*d + b*c)/(b*d)"
      ]
     },
     "execution_count": 24,
     "metadata": {},
     "output_type": "execute_result"
    }
   ],
   "source": [
    "together(a/b + c/d)"
   ]
  },
  {
   "cell_type": "code",
   "execution_count": 27,
   "metadata": {
    "ExecuteTime": {
     "end_time": "2020-04-20T11:37:39.554346Z",
     "start_time": "2020-04-20T11:37:39.551349Z"
    }
   },
   "outputs": [],
   "source": [
    "# apart(together(a/b + c/d))"
   ]
  },
  {
   "cell_type": "code",
   "execution_count": 29,
   "metadata": {
    "ExecuteTime": {
     "end_time": "2020-04-20T11:38:02.920530Z",
     "start_time": "2020-04-20T11:38:02.861532Z"
    }
   },
   "outputs": [
    {
     "data": {
      "text/latex": [
       "$\\displaystyle \\frac{2 x + 3}{x^{2} + 3 x + 2}$"
      ],
      "text/plain": [
       "(2*x + 3)/(x**2 + 3*x + 2)"
      ]
     },
     "execution_count": 29,
     "metadata": {},
     "output_type": "execute_result"
    }
   ],
   "source": [
    "r = (x - 1)/(x**2 - 1) + (x - 2)/(x**2 - 4);\n",
    "together(r).simplify()"
   ]
  },
  {
   "cell_type": "code",
   "execution_count": 31,
   "metadata": {
    "ExecuteTime": {
     "end_time": "2020-04-20T11:38:21.953542Z",
     "start_time": "2020-04-20T11:38:21.945503Z"
    }
   },
   "outputs": [
    {
     "data": {
      "text/latex": [
       "$\\displaystyle \\frac{x + y}{x y}$"
      ],
      "text/plain": [
       "(x + y)/(x*y)"
      ]
     },
     "execution_count": 31,
     "metadata": {},
     "output_type": "execute_result"
    }
   ],
   "source": [
    "expr = together(1/x + 1/y)\n",
    "expr"
   ]
  }
 ],
 "metadata": {
  "file_extension": ".py",
  "kernelspec": {
   "display_name": "Python 3.7.0 32-bit",
   "language": "python",
   "name": "python37032bit1f7a973f3e4e43a28dc60a300a73d1fe"
  },
  "language_info": {
   "codemirror_mode": {
    "name": "ipython",
    "version": 3
   },
   "file_extension": ".py",
   "mimetype": "text/x-python",
   "name": "python",
   "nbconvert_exporter": "python",
   "pygments_lexer": "ipython3",
   "version": "3.7.0"
  },
  "mimetype": "text/x-python",
  "name": "python",
  "npconvert_exporter": "python",
  "pygments_lexer": "ipython3",
  "toc": {
   "base_numbering": 1,
   "nav_menu": {},
   "number_sections": true,
   "sideBar": true,
   "skip_h1_title": false,
   "title_cell": "Table of Contents",
   "title_sidebar": "Contents",
   "toc_cell": false,
   "toc_position": {},
   "toc_section_display": true,
   "toc_window_display": true
  },
  "version": 3
 },
 "nbformat": 4,
 "nbformat_minor": 2
}
