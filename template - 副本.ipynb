{
 "cells": [
  {
   "cell_type": "markdown",
   "metadata": {},
   "source": [
    "# Examples"
   ]
  },
  {
   "cell_type": "code",
   "execution_count": 1,
   "metadata": {},
   "outputs": [],
   "source": [
    "from sympy.abc import *\n",
    "from sympy import *\n",
    "from sympy.stats import *"
   ]
  },
  {
   "cell_type": "markdown",
   "metadata": {},
   "source": [
    "## Basic Examples"
   ]
  },
  {
   "cell_type": "code",
   "execution_count": 5,
   "metadata": {},
   "outputs": [
    {
     "data": {
      "text/latex": [
       "$\\displaystyle \\begin{cases} p^{x} \\left(1 - p\\right)^{n - x} {\\binom{n}{x}} & \\text{for}\\: \\left(x \\in \\mathbb{Z}\\right) \\wedge n \\geq x \\wedge x \\geq 0 \\\\0 & \\text{otherwise} \\end{cases}$"
      ],
      "text/plain": [
       "Piecewise((p**x*(1 - p)**(n - x)*binomial(n, x), Contains(x, Integers) & (n >= x) & (x >= 0)), (0, True))"
      ]
     },
     "execution_count": 5,
     "metadata": {},
     "output_type": "execute_result"
    }
   ],
   "source": [
    "n,p=symbols(\"n p\")\n",
    "density(Binomial(\"X\",n,p))(x)"
   ]
  },
  {
   "cell_type": "code",
   "execution_count": 24,
   "metadata": {},
   "outputs": [
    {
     "data": {
      "text/latex": [
       "$\\displaystyle \\sum_{ki=0}^{x} \\begin{cases} p^{ki} \\left(1 - p\\right)^{- ki} \\left(1 - p\\right)^{n} {\\binom{n}{ki}} & \\text{for}\\: ki \\geq 0 \\wedge ki \\leq n \\\\0 & \\text{otherwise} \\end{cases}$"
      ],
      "text/plain": [
       "Sum(Piecewise((p**_ki*(1 - p)**(-_ki)*(1 - p)**n*binomial(n, _ki), (_ki >= 0) & (_ki <= n)), (0, True)), (_ki, 0, x))"
      ]
     },
     "execution_count": 24,
     "metadata": {},
     "output_type": "execute_result"
    }
   ],
   "source": [
    "n=symbols(\"n\",integer=True)\n",
    "p=symbols(\"p\")\n",
    "cdf(Binomial(\"X\",n,p))(x).simplify()"
   ]
  },
  {
   "cell_type": "markdown",
   "metadata": {},
   "source": [
    "Mean and variance of a binomial distribution:"
   ]
  },
  {
   "cell_type": "code",
   "execution_count": 25,
   "metadata": {},
   "outputs": [
    {
     "data": {
      "text/latex": [
       "$\\displaystyle \\sum_{k=0}^{n} \\begin{cases} k p^{k} \\left(1 - p\\right)^{- k} \\left(1 - p\\right)^{n} {\\binom{n}{k}} & \\text{for}\\: k \\geq 0 \\wedge k \\leq n \\\\0 & \\text{otherwise} \\end{cases}$"
      ],
      "text/plain": [
       "Sum(Piecewise((_k*p**_k*(1 - p)**(-_k)*(1 - p)**n*binomial(n, _k), (_k >= 0) & (_k <= n)), (0, True)), (_k, 0, n))"
      ]
     },
     "execution_count": 25,
     "metadata": {},
     "output_type": "execute_result"
    }
   ],
   "source": [
    "E(Binomial(\"X\",n,p)).simplify()"
   ]
  },
  {
   "cell_type": "code",
   "execution_count": 26,
   "metadata": {},
   "outputs": [
    {
     "data": {
      "text/latex": [
       "$\\displaystyle \\sum_{k=0}^{n} \\begin{cases} p^{k} \\left(1 - p\\right)^{- k} \\left(1 - p\\right)^{n} \\left(k^{2} - 2 k \\sum_{k=0}^{n} \\begin{cases} k p^{k} \\left(1 - p\\right)^{- k} \\left(1 - p\\right)^{n} {\\binom{n}{k}} & \\text{for}\\: k \\geq 0 \\wedge k \\leq n \\\\0 & \\text{otherwise} \\end{cases} + \\left(\\sum_{k=0}^{n} \\begin{cases} k p^{k} \\left(1 - p\\right)^{- k} \\left(1 - p\\right)^{n} {\\binom{n}{k}} & \\text{for}\\: k \\geq 0 \\wedge k \\leq n \\\\0 & \\text{otherwise} \\end{cases}\\right)^{2}\\right) {\\binom{n}{k}} & \\text{for}\\: k \\geq 0 \\wedge k \\leq n \\\\0 & \\text{otherwise} \\end{cases}$"
      ],
      "text/plain": [
       "Sum(Piecewise((p**_k*(1 - p)**(-_k)*(1 - p)**n*(_k**2 - 2*_k*Sum(Piecewise((_k*p**_k*(1 - p)**(-_k)*(1 - p)**n*binomial(n, _k), (_k >= 0) & (_k <= n)), (0, True)), (_k, 0, n)) + Sum(Piecewise((_k*p**_k*(1 - p)**(-_k)*(1 - p)**n*binomial(n, _k), (_k >= 0) & (_k <= n)), (0, True)), (_k, 0, n))**2)*binomial(n, _k), (_k >= 0) & (_k <= n)), (0, True)), (_k, 0, n))"
      ]
     },
     "execution_count": 26,
     "metadata": {},
     "output_type": "execute_result"
    }
   ],
   "source": [
    "variance(Binomial(\"X\",n,p)).simplify()"
   ]
  },
  {
   "cell_type": "markdown",
   "metadata": {},
   "source": [
    "## Scope"
   ]
  },
  {
   "cell_type": "code",
   "execution_count": 27,
   "metadata": {},
   "outputs": [
    {
     "data": {
      "text/latex": [
       "$\\displaystyle \\frac{27}{64}$"
      ],
      "text/plain": [
       "27/64"
      ]
     },
     "execution_count": 27,
     "metadata": {},
     "output_type": "execute_result"
    }
   ],
   "source": [
    "P(\n",
    "    Eq(\n",
    "        Binomial(\"X\",3,Rational(3,4)),2\n",
    "    )\n",
    ")"
   ]
  },
  {
   "cell_type": "code",
   "execution_count": 28,
   "metadata": {},
   "outputs": [
    {
     "data": {
      "text/latex": [
       "$\\displaystyle \\frac{27}{4096}$"
      ],
      "text/plain": [
       "27/4096"
      ]
     },
     "execution_count": 28,
     "metadata": {},
     "output_type": "execute_result"
    }
   ],
   "source": [
    "P(\n",
    "    Eq(\n",
    "        Binomial(\"X\",3,Rational(3,4)),2\n",
    "    )\n",
    ")*P(\n",
    "    Eq(\n",
    "        Binomial(\"X\",3,Rational(3,4)),0\n",
    "    )\n",
    ")"
   ]
  },
  {
   "cell_type": "code",
   "execution_count": 29,
   "metadata": {},
   "outputs": [
    {
     "data": {
      "text/latex": [
       "$\\displaystyle \\sum_{k=0}^{n} \\begin{cases} 3^{k} 4^{- n} k {\\binom{n}{k}} & \\text{for}\\: k \\geq 0 \\wedge k \\leq n \\\\0 & \\text{otherwise} \\end{cases}$"
      ],
      "text/plain": [
       "Sum(Piecewise((3**_k*4**(-n)*_k*binomial(n, _k), (_k >= 0) & (_k <= n)), (0, True)), (_k, 0, n))"
      ]
     },
     "execution_count": 29,
     "metadata": {},
     "output_type": "execute_result"
    }
   ],
   "source": [
    "E( Binomial(\"X\",n,Rational(3,4))).simplify()"
   ]
  },
  {
   "cell_type": "code",
   "execution_count": 31,
   "metadata": {},
   "outputs": [
    {
     "data": {
      "text/latex": [
       "$\\displaystyle \\frac{9}{10}$"
      ],
      "text/plain": [
       "9/10"
      ]
     },
     "execution_count": 31,
     "metadata": {},
     "output_type": "execute_result"
    }
   ],
   "source": [
    "E( Binomial(\"X\",3,Rational(3,10)))"
   ]
  },
  {
   "cell_type": "code",
   "execution_count": 33,
   "metadata": {},
   "outputs": [
    {
     "data": {
      "text/latex": [
       "$\\displaystyle \\frac{837}{10000}$"
      ],
      "text/plain": [
       "837/10000"
      ]
     },
     "execution_count": 33,
     "metadata": {},
     "output_type": "execute_result"
    }
   ],
   "source": [
    "P( Binomial(\"X\",4,Rational(3,10))>=3)"
   ]
  },
  {
   "cell_type": "code",
   "execution_count": 34,
   "metadata": {},
   "outputs": [
    {
     "data": {
      "text/latex": [
       "$\\displaystyle 150$"
      ],
      "text/plain": [
       "150"
      ]
     },
     "execution_count": 34,
     "metadata": {},
     "output_type": "execute_result"
    }
   ],
   "source": [
    "E( Binomial(\"X\",500,Rational(3,10)))"
   ]
  },
  {
   "cell_type": "code",
   "execution_count": 39,
   "metadata": {},
   "outputs": [
    {
     "data": {
      "text/latex": [
       "$\\displaystyle \\frac{18028505720779282715431630437}{633825300114114700748351602688}$"
      ],
      "text/plain": [
       "18028505720779282715431630437/633825300114114700748351602688"
      ]
     },
     "execution_count": 39,
     "metadata": {},
     "output_type": "execute_result"
    }
   ],
   "source": [
    "P(\n",
    "    And(\n",
    "        60<=Binomial(\"X\",100,Rational(1,2)),\n",
    "        Binomial(\"X\",100,Rational(1,2)) <=80\n",
    "        )\n",
    ")"
   ]
  },
  {
   "cell_type": "code",
   "execution_count": 40,
   "metadata": {},
   "outputs": [
    {
     "data": {
      "text/latex": [
       "$\\displaystyle \\frac{4285791403871183827199031118015103621198743893118136090089003130290176}{7888609052210118054117285652827862296732064351090230047702789306640625}$"
      ],
      "text/plain": [
       "4285791403871183827199031118015103621198743893118136090089003130290176/7888609052210118054117285652827862296732064351090230047702789306640625"
      ]
     },
     "execution_count": 40,
     "metadata": {},
     "output_type": "execute_result"
    }
   ],
   "source": [
    "P(\n",
    "    And(\n",
    "        60<=Binomial(\"X\",100,Rational(3,5)),\n",
    "        Binomial(\"X\",100,Rational(3,5)) <=80\n",
    "        )\n",
    ")"
   ]
  },
  {
   "cell_type": "markdown",
   "metadata": {},
   "source": [
    "A machine produces parts, with 1 in 10 defective:"
   ]
  },
  {
   "cell_type": "code",
   "execution_count": 41,
   "metadata": {},
   "outputs": [
    {
     "data": {
      "text/latex": [
       "$\\displaystyle \\frac{45927}{50000}$"
      ],
      "text/plain": [
       "45927/50000"
      ]
     },
     "execution_count": 41,
     "metadata": {},
     "output_type": "execute_result"
    }
   ],
   "source": [
    "P(\n",
    "        Binomial(\"X\",5,Rational(1,10)) <=1      \n",
    ")"
   ]
  },
  {
   "cell_type": "markdown",
   "metadata": {},
   "source": [
    "An airplane engine fails with probability p; compute the probability that no more than 2 of 4 fail:"
   ]
  },
  {
   "cell_type": "code",
   "execution_count": 46,
   "metadata": {},
   "outputs": [
    {
     "data": {
      "text/latex": [
       "$\\displaystyle 3 p^{4} - 4 p^{3} + 1$"
      ],
      "text/plain": [
       "3*p**4 - 4*p**3 + 1"
      ]
     },
     "execution_count": 46,
     "metadata": {},
     "output_type": "execute_result"
    }
   ],
   "source": [
    "prob1=P(\n",
    "    Binomial(\"X\",4,p) <=2    \n",
    ").simplify()\n",
    "prob1"
   ]
  },
  {
   "cell_type": "code",
   "execution_count": 47,
   "metadata": {},
   "outputs": [
    {
     "data": {
      "text/latex": [
       "$\\displaystyle 1 - p^{2}$"
      ],
      "text/plain": [
       "1 - p**2"
      ]
     },
     "execution_count": 47,
     "metadata": {},
     "output_type": "execute_result"
    }
   ],
   "source": [
    "prob2=P(\n",
    "    Binomial(\"X\",2,p) <=1    \n",
    ").simplify()\n",
    "prob2"
   ]
  },
  {
   "cell_type": "code",
   "execution_count": 60,
   "metadata": {},
   "outputs": [
    {
     "data": {
      "text/latex": [
       "$\\displaystyle \\left(0, \\frac{1}{3}\\right)$"
      ],
      "text/plain": [
       "Interval.open(0, 1/3)"
      ]
     },
     "execution_count": 60,
     "metadata": {},
     "output_type": "execute_result"
    }
   ],
   "source": [
    "solveset(\n",
    "    prob1>prob2,symbol=p,domain=Interval.open(0,1)\n",
    "    )"
   ]
  },
  {
   "cell_type": "code",
   "execution_count": 62,
   "metadata": {},
   "outputs": [
    {
     "data": {
      "image/png": "[encoded data removed]",
      "text/plain": [
       "<Figure size 432x288 with 1 Axes>"
      ]
     },
     "metadata": {
      "needs_background": "light"
     },
     "output_type": "display_data"
    },
    {
     "data": {
      "text/plain": [
       "<sympy.plotting.plot.Plot at 0x10336f30>"
      ]
     },
     "execution_count": 62,
     "metadata": {},
     "output_type": "execute_result"
    }
   ],
   "source": [
    "plot(prob1,prob2,(p,0,1))"
   ]
  },
  {
   "cell_type": "markdown",
   "metadata": {},
   "source": [
    "A system uses triple redundancy with three microprocessors and is designed to operate as long as one processor is still functional. The probability that a microprocessor is still functional after  seconds is . Find the probability that the system is still operating after  seconds:"
   ]
  },
  {
   "cell_type": "code",
   "execution_count": 66,
   "metadata": {},
   "outputs": [
    {
     "data": {
      "text/latex": [
       "$\\displaystyle \\left(3 e^{2 t λ} - 3 e^{t λ} + 1\\right) e^{- 3 t λ}$"
      ],
      "text/plain": [
       "(3*exp(2*t*λ) - 3*exp(t*λ) + 1)*exp(-3*t*λ)"
      ]
     },
     "execution_count": 66,
     "metadata": {},
     "output_type": "execute_result"
    }
   ],
   "source": [
    "λ,t =symbols(\"λ t\")\n",
    "P(\n",
    "    Binomial(\"X\",3,exp(-λ *t )) >=1   \n",
    ").simplify()"
   ]
  },
  {
   "cell_type": "code",
   "execution_count": 78,
   "metadata": {},
   "outputs": [
    {
     "data": {
      "text/latex": [
       "$\\displaystyle \\left[- 100000000 \\log{\\left(1 - \\frac{\\sqrt[3]{10}}{10} \\right)}, \\infty\\right)$"
      ],
      "text/plain": [
       "Interval(-100000000*log(1 - 10**(1/3)/10), oo)"
      ]
     },
     "execution_count": 78,
     "metadata": {},
     "output_type": "execute_result"
    }
   ],
   "source": [
    "λ=Rational(1,10**8)\n",
    "solveset(\n",
    "    1- ( 1- exp(-t*λ))**3  <=Rational(99,100),\n",
    "    t,\n",
    "    domain=S.Reals\n",
    ")"
   ]
  },
  {
   "cell_type": "markdown",
   "metadata": {},
   "source": [
    "Gary Kasparov, chess champion, plays in a tournament simultaneously against 100 amateurs. It has been estimated that he loses about 1% of such games. Find the probability of losing 0, 2, 5, and 10 games:"
   ]
  },
  {
   "cell_type": "code",
   "execution_count": 79,
   "metadata": {},
   "outputs": [
    {
     "data": {
      "text/latex": [
       "$\\displaystyle \\left[\\begin{matrix}\\frac{36603234127322950493061602657251738618971207663892369140595737269931704475072474818719654351002695040066156910065284327471823569680179941585710535449170757427389035006098270837114978219916760849490001}{100000000000000000000000000000000000000000000000000000000000000000000000000000000000000000000000000000000000000000000000000000000000000000000000000000000000000000000000000000000000000000000000000000000} & \\frac{369729637649726772657187905628805440595668764281741102430259972423552570455277523421410650010128232727940978889548326540119429996769494359451621570193644014418071060667659301384999779999159200499899}{2000000000000000000000000000000000000000000000000000000000000000000000000000000000000000000000000000000000000000000000000000000000000000000000000000000000000000000000000000000000000000000000000000000} & \\frac{1811116952350926209796788531631705545559887866143441825510513407649750610248937769514309320630176358169907907420313940388671585536670043657134097142355490421539228373267811941971396398776051175953}{625000000000000000000000000000000000000000000000000000000000000000000000000000000000000000000000000000000000000000000000000000000000000000000000000000000000000000000000000000000000000000000000000000} & \\frac{175150892349430229412207679356393546504626886034049615403244484175618944050214387208804741459326626533123620408155588032767644478813167265453642239421246258223123289975569123622140221110587411}{2500000000000000000000000000000000000000000000000000000000000000000000000000000000000000000000000000000000000000000000000000000000000000000000000000000000000000000000000000000000000000000000000000000}\\end{matrix}\\right]$"
      ],
      "text/plain": [
       "[36603234127322950493061602657251738618971207663892369140595737269931704475072474818719654351002695040066156910065284327471823569680179941585710535449170757427389035006098270837114978219916760849490001/100000000000000000000000000000000000000000000000000000000000000000000000000000000000000000000000000000000000000000000000000000000000000000000000000000000000000000000000000000000000000000000000000000000, 369729637649726772657187905628805440595668764281741102430259972423552570455277523421410650010128232727940978889548326540119429996769494359451621570193644014418071060667659301384999779999159200499899/2000000000000000000000000000000000000000000000000000000000000000000000000000000000000000000000000000000000000000000000000000000000000000000000000000000000000000000000000000000000000000000000000000000, 1811116952350926209796788531631705545559887866143441825510513407649750610248937769514309320630176358169907907420313940388671585536670043657134097142355490421539228373267811941971396398776051175953/625000000000000000000000000000000000000000000000000000000000000000000000000000000000000000000000000000000000000000000000000000000000000000000000000000000000000000000000000000000000000000000000000000, 175150892349430229412207679356393546504626886034049615403244484175618944050214387208804741459326626533123620408155588032767644478813167265453642239421246258223123289975569123622140221110587411/2500000000000000000000000000000000000000000000000000000000000000000000000000000000000000000000000000000000000000000000000000000000000000000000000000000000000000000000000000000000000000000000000000000]"
      ]
     },
     "execution_count": 79,
     "metadata": {},
     "output_type": "execute_result"
    }
   ],
   "source": [
    "k=symbols(\"k\")\n",
    "Array(\n",
    "    P(\n",
    "        Eq(\n",
    "            Binomial(\"X\",100,Rational(1,100)),k\n",
    "            )\n",
    "    ) for k in [0,2,5,10]\n",
    ")"
   ]
  },
  {
   "cell_type": "code",
   "execution_count": 80,
   "metadata": {},
   "outputs": [
    {
     "data": {
      "text/latex": [
       "$\\displaystyle \\left[\\begin{matrix}e^{-1} & \\frac{1}{2 e} & \\frac{1}{120 e} & \\frac{1}{3628800 e}\\end{matrix}\\right]$"
      ],
      "text/plain": [
       "[exp(-1), exp(-1)/2, exp(-1)/120, exp(-1)/3628800]"
      ]
     },
     "execution_count": 80,
     "metadata": {},
     "output_type": "execute_result"
    }
   ],
   "source": [
    "k=symbols(\"k\")\n",
    "Array(\n",
    "    P(\n",
    "        Eq(\n",
    "            Poisson(\"X\",1),k\n",
    "            )\n",
    "    ) for k in [0,2,5,10]\n",
    ")"
   ]
  },
  {
   "cell_type": "code",
   "execution_count": 81,
   "metadata": {},
   "outputs": [
    {
     "data": {
      "text/latex": [
       "$\\displaystyle \\left[\\begin{matrix}\\frac{59049}{100000} & \\frac{729}{10000} & \\frac{1}{100000} & 0\\end{matrix}\\right]$"
      ],
      "text/plain": [
       "[59049/100000, 729/10000, 1/100000, 0]"
      ]
     },
     "execution_count": 81,
     "metadata": {},
     "output_type": "execute_result"
    }
   ],
   "source": [
    "k=symbols(\"k\")\n",
    "Array(\n",
    "    P(\n",
    "        Eq(\n",
    "            Binomial(\"X\",5,Rational(1,10)),k\n",
    "            )\n",
    "    ) for k in [0,2,5,10]\n",
    ")"
   ]
  },
  {
   "cell_type": "code",
   "execution_count": 82,
   "metadata": {},
   "outputs": [
    {
     "data": {
      "text/latex": [
       "$\\displaystyle \\left[\\begin{matrix}e^{- \\frac{1}{2}} & \\frac{1}{8 e^{\\frac{1}{2}}} & \\frac{1}{3840 e^{\\frac{1}{2}}} & \\frac{1}{3715891200 e^{\\frac{1}{2}}}\\end{matrix}\\right]$"
      ],
      "text/plain": [
       "[exp(-1/2), exp(-1/2)/8, exp(-1/2)/3840, exp(-1/2)/3715891200]"
      ]
     },
     "execution_count": 82,
     "metadata": {},
     "output_type": "execute_result"
    }
   ],
   "source": [
    "k=symbols(\"k\")\n",
    "Array(\n",
    "    P(\n",
    "        Eq(\n",
    "            Poisson(\"X\",Rational(1,2)),k\n",
    "            )\n",
    "    ) for k in [0,2,5,10]\n",
    ")"
   ]
  },
  {
   "cell_type": "markdown",
   "metadata": {},
   "source": [
    "A packet consisting of a string of n symbols is transmitted over a noisy channel. Each symbol has probability  of incorrect transmission. Find n such that the probability of incorrect packet transmission is less than :"
   ]
  },
  {
   "cell_type": "code",
   "execution_count": 85,
   "metadata": {},
   "outputs": [
    {
     "ename": "NotImplementedError",
     "evalue": "Currently, probability queries are not supported for random variables with symbolic sized distributions.",
     "output_type": "error",
     "traceback": [
      "\u001b[1;31m---------------------------------------------------------------------------\u001b[0m",
      "\u001b[1;31mNotImplementedError\u001b[0m                       Traceback (most recent call last)",
      "\u001b[1;32m<ipython-input-85-a7782f773410>\u001b[0m in \u001b[0;36m<module>\u001b[1;34m\u001b[0m\n\u001b[0;32m      4\u001b[0m            \u001b[0mn\u001b[0m\u001b[1;33m,\u001b[0m\u001b[1;33m\u001b[0m\u001b[0m\n\u001b[0;32m      5\u001b[0m            \u001b[0mRational\u001b[0m\u001b[1;33m(\u001b[0m\u001b[1;36m1\u001b[0m\u001b[1;33m,\u001b[0m\u001b[1;36m10\u001b[0m\u001b[1;33m**\u001b[0m\u001b[1;36m4\u001b[0m\u001b[1;33m)\u001b[0m\u001b[1;33m\u001b[0m\u001b[0m\n\u001b[1;32m----> 6\u001b[1;33m            )>=1\n\u001b[0m\u001b[0;32m      7\u001b[0m \u001b[1;33m\u001b[0m\u001b[0m\n\u001b[0;32m      8\u001b[0m     )\n",
      "\u001b[1;32mD:\\Program Files\\Python3.7\\lib\\site-packages\\sympy\\stats\\rv.py\u001b[0m in \u001b[0;36mprobability\u001b[1;34m(condition, given_condition, numsamples, evaluate, **kwargs)\u001b[0m\n\u001b[0;32m    802\u001b[0m \u001b[1;33m\u001b[0m\u001b[0m\n\u001b[0;32m    803\u001b[0m     \u001b[1;31m# Otherwise pass work off to the ProbabilitySpace\u001b[0m\u001b[1;33m\u001b[0m\u001b[1;33m\u001b[0m\u001b[0m\n\u001b[1;32m--> 804\u001b[1;33m     \u001b[0mresult\u001b[0m \u001b[1;33m=\u001b[0m \u001b[0mpspace\u001b[0m\u001b[1;33m(\u001b[0m\u001b[0mcondition\u001b[0m\u001b[1;33m)\u001b[0m\u001b[1;33m.\u001b[0m\u001b[0mprobability\u001b[0m\u001b[1;33m(\u001b[0m\u001b[0mcondition\u001b[0m\u001b[1;33m,\u001b[0m \u001b[1;33m**\u001b[0m\u001b[0mkwargs\u001b[0m\u001b[1;33m)\u001b[0m\u001b[1;33m\u001b[0m\u001b[0m\n\u001b[0m\u001b[0;32m    805\u001b[0m     \u001b[1;32mif\u001b[0m \u001b[0mevaluate\u001b[0m \u001b[1;32mand\u001b[0m \u001b[0mhasattr\u001b[0m\u001b[1;33m(\u001b[0m\u001b[0mresult\u001b[0m\u001b[1;33m,\u001b[0m \u001b[1;34m'doit'\u001b[0m\u001b[1;33m)\u001b[0m\u001b[1;33m:\u001b[0m\u001b[1;33m\u001b[0m\u001b[0m\n\u001b[0;32m    806\u001b[0m         \u001b[1;32mreturn\u001b[0m \u001b[0mresult\u001b[0m\u001b[1;33m.\u001b[0m\u001b[0mdoit\u001b[0m\u001b[1;33m(\u001b[0m\u001b[1;33m)\u001b[0m\u001b[1;33m\u001b[0m\u001b[0m\n",
      "\u001b[1;32mD:\\Program Files\\Python3.7\\lib\\site-packages\\sympy\\stats\\frv.py\u001b[0m in \u001b[0;36mprobability\u001b[1;34m(self, condition)\u001b[0m\n\u001b[0;32m    460\u001b[0m         \u001b[1;32mif\u001b[0m \u001b[0mself\u001b[0m\u001b[1;33m.\u001b[0m\u001b[0m_is_symbolic\u001b[0m\u001b[1;33m:\u001b[0m\u001b[1;33m\u001b[0m\u001b[0m\n\u001b[0;32m    461\u001b[0m             \u001b[1;31m#TODO: Implement the mechanism for handling queries for symbolic sized distributions.\u001b[0m\u001b[1;33m\u001b[0m\u001b[1;33m\u001b[0m\u001b[0m\n\u001b[1;32m--> 462\u001b[1;33m             raise NotImplementedError(\"Currently, probability queries are not \"\n\u001b[0m\u001b[0;32m    463\u001b[0m             \"supported for random variables with symbolic sized distributions.\")\n\u001b[0;32m    464\u001b[0m         \u001b[0mcondition\u001b[0m \u001b[1;33m=\u001b[0m \u001b[0mrv_subs\u001b[0m\u001b[1;33m(\u001b[0m\u001b[0mcondition\u001b[0m\u001b[1;33m)\u001b[0m\u001b[1;33m\u001b[0m\u001b[0m\n",
      "\u001b[1;31mNotImplementedError\u001b[0m: Currently, probability queries are not supported for random variables with symbolic sized distributions."
     ]
    }
   ],
   "source": [
    "P(\n",
    "       Binomial(\n",
    "           \"X\",\n",
    "           n,\n",
    "           Rational(1,10**4)\n",
    "           )>=1\n",
    "    )"
   ]
  },
  {
   "cell_type": "code",
   "execution_count": 87,
   "metadata": {},
   "outputs": [
    {
     "data": {
      "text/latex": [
       "$\\displaystyle \\sum_{n=1}^{\\infty} \\frac{10000^{- n} n^{n} e^{- \\frac{n}{10000}}}{n!}$"
      ],
      "text/plain": [
       "Sum(10000**(-n)*n**n*exp(-n/10000)/factorial(n), (n, 1, oo))"
      ]
     },
     "execution_count": 87,
     "metadata": {},
     "output_type": "execute_result"
    }
   ],
   "source": [
    "P(\n",
    "      Poisson(\n",
    "           \"X\",\n",
    "           n*Rational(1,10**4)\n",
    "           )>=1\n",
    "    ).simplify()"
   ]
  },
  {
   "cell_type": "code",
   "execution_count": 89,
   "metadata": {},
   "outputs": [
    {
     "ename": "NotImplementedError",
     "evalue": "Currently, probability queries are not supported for random variables with symbolic sized distributions.",
     "output_type": "error",
     "traceback": [
      "\u001b[1;31m---------------------------------------------------------------------------\u001b[0m",
      "\u001b[1;31mNotImplementedError\u001b[0m                       Traceback (most recent call last)",
      "\u001b[1;32m<ipython-input-89-464bc47db16f>\u001b[0m in \u001b[0;36m<module>\u001b[1;34m\u001b[0m\n\u001b[0;32m      3\u001b[0m            \u001b[1;34m\"X\"\u001b[0m\u001b[1;33m,\u001b[0m\u001b[1;33m\u001b[0m\u001b[0m\n\u001b[0;32m      4\u001b[0m            \u001b[0mn\u001b[0m\u001b[1;33m,\u001b[0m\u001b[0mp\u001b[0m\u001b[1;33m\u001b[0m\u001b[0m\n\u001b[1;32m----> 5\u001b[1;33m            )>=c\n\u001b[0m\u001b[0;32m      6\u001b[0m     ).simplify()\n",
      "\u001b[1;32mD:\\Program Files\\Python3.7\\lib\\site-packages\\sympy\\stats\\rv.py\u001b[0m in \u001b[0;36mprobability\u001b[1;34m(condition, given_condition, numsamples, evaluate, **kwargs)\u001b[0m\n\u001b[0;32m    802\u001b[0m \u001b[1;33m\u001b[0m\u001b[0m\n\u001b[0;32m    803\u001b[0m     \u001b[1;31m# Otherwise pass work off to the ProbabilitySpace\u001b[0m\u001b[1;33m\u001b[0m\u001b[1;33m\u001b[0m\u001b[0m\n\u001b[1;32m--> 804\u001b[1;33m     \u001b[0mresult\u001b[0m \u001b[1;33m=\u001b[0m \u001b[0mpspace\u001b[0m\u001b[1;33m(\u001b[0m\u001b[0mcondition\u001b[0m\u001b[1;33m)\u001b[0m\u001b[1;33m.\u001b[0m\u001b[0mprobability\u001b[0m\u001b[1;33m(\u001b[0m\u001b[0mcondition\u001b[0m\u001b[1;33m,\u001b[0m \u001b[1;33m**\u001b[0m\u001b[0mkwargs\u001b[0m\u001b[1;33m)\u001b[0m\u001b[1;33m\u001b[0m\u001b[0m\n\u001b[0m\u001b[0;32m    805\u001b[0m     \u001b[1;32mif\u001b[0m \u001b[0mevaluate\u001b[0m \u001b[1;32mand\u001b[0m \u001b[0mhasattr\u001b[0m\u001b[1;33m(\u001b[0m\u001b[0mresult\u001b[0m\u001b[1;33m,\u001b[0m \u001b[1;34m'doit'\u001b[0m\u001b[1;33m)\u001b[0m\u001b[1;33m:\u001b[0m\u001b[1;33m\u001b[0m\u001b[0m\n\u001b[0;32m    806\u001b[0m         \u001b[1;32mreturn\u001b[0m \u001b[0mresult\u001b[0m\u001b[1;33m.\u001b[0m\u001b[0mdoit\u001b[0m\u001b[1;33m(\u001b[0m\u001b[1;33m)\u001b[0m\u001b[1;33m\u001b[0m\u001b[0m\n",
      "\u001b[1;32mD:\\Program Files\\Python3.7\\lib\\site-packages\\sympy\\stats\\frv.py\u001b[0m in \u001b[0;36mprobability\u001b[1;34m(self, condition)\u001b[0m\n\u001b[0;32m    460\u001b[0m         \u001b[1;32mif\u001b[0m \u001b[0mself\u001b[0m\u001b[1;33m.\u001b[0m\u001b[0m_is_symbolic\u001b[0m\u001b[1;33m:\u001b[0m\u001b[1;33m\u001b[0m\u001b[0m\n\u001b[0;32m    461\u001b[0m             \u001b[1;31m#TODO: Implement the mechanism for handling queries for symbolic sized distributions.\u001b[0m\u001b[1;33m\u001b[0m\u001b[1;33m\u001b[0m\u001b[0m\n\u001b[1;32m--> 462\u001b[1;33m             raise NotImplementedError(\"Currently, probability queries are not \"\n\u001b[0m\u001b[0;32m    463\u001b[0m             \"supported for random variables with symbolic sized distributions.\")\n\u001b[0;32m    464\u001b[0m         \u001b[0mcondition\u001b[0m \u001b[1;33m=\u001b[0m \u001b[0mrv_subs\u001b[0m\u001b[1;33m(\u001b[0m\u001b[0mcondition\u001b[0m\u001b[1;33m)\u001b[0m\u001b[1;33m\u001b[0m\u001b[0m\n",
      "\u001b[1;31mNotImplementedError\u001b[0m: Currently, probability queries are not supported for random variables with symbolic sized distributions."
     ]
    }
   ],
   "source": [
    "P(\n",
    "      Binomial(\n",
    "           \"X\",\n",
    "           n,p\n",
    "           )>=c\n",
    "    ).simplify()"
   ]
  },
  {
   "cell_type": "code",
   "execution_count": 94,
   "metadata": {},
   "outputs": [
    {
     "data": {
      "text/latex": [
       "$\\displaystyle \\left[\\begin{matrix}\\frac{4990107195671143843959764660313601220649966459287816421095806566315590037537253666574031544020746703}{5000000000000000000000000000000000000000000000000000000000000000000000000000000000000000000000000000} & \\frac{1248990532657042167381193865469395320718920736531468573219437243990862804777118750553147169910265047}{1250000000000000000000000000000000000000000000000000000000000000000000000000000000000000000000000000}\\end{matrix}\\right]$"
      ],
      "text/plain": [
       "[4990107195671143843959764660313601220649966459287816421095806566315590037537253666574031544020746703/5000000000000000000000000000000000000000000000000000000000000000000000000000000000000000000000000000, 1248990532657042167381193865469395320718920736531468573219437243990862804777118750553147169910265047/1250000000000000000000000000000000000000000000000000000000000000000000000000000000000000000000000000]"
      ]
     },
     "execution_count": 94,
     "metadata": {},
     "output_type": "execute_result"
    }
   ],
   "source": [
    "Array([\n",
    "cdf(Binomial(\"X\",100,Rational(1,10)))[19],\n",
    "cdf(Binomial(\"X\",100,Rational(1,10)))[20]\n",
    "]\n",
    ")"
   ]
  },
  {
   "cell_type": "markdown",
   "metadata": {},
   "source": [
    "### Numerical Evaluation"
   ]
  },
  {
   "cell_type": "markdown",
   "metadata": {},
   "source": [
    "### Specific Values"
   ]
  },
  {
   "cell_type": "markdown",
   "metadata": {},
   "source": [
    "### Visualization"
   ]
  },
  {
   "cell_type": "markdown",
   "metadata": {},
   "source": [
    "## Function Properties"
   ]
  },
  {
   "cell_type": "markdown",
   "metadata": {},
   "source": [
    "### Differentiation"
   ]
  },
  {
   "cell_type": "markdown",
   "metadata": {},
   "source": [
    "### Integration"
   ]
  },
  {
   "cell_type": "markdown",
   "metadata": {},
   "source": [
    "### Series Expansions"
   ]
  },
  {
   "cell_type": "markdown",
   "metadata": {},
   "source": [
    "### Integral Transforms"
   ]
  },
  {
   "cell_type": "markdown",
   "metadata": {},
   "source": [
    "### Function Identities and Simplifications"
   ]
  },
  {
   "cell_type": "markdown",
   "metadata": {},
   "source": [
    "### Function Representations"
   ]
  },
  {
   "cell_type": "markdown",
   "metadata": {},
   "source": [
    "## Applications"
   ]
  },
  {
   "cell_type": "markdown",
   "metadata": {},
   "source": [
    "## Properties & Relations"
   ]
  },
  {
   "cell_type": "code",
   "execution_count": 97,
   "metadata": {},
   "outputs": [
    {
     "data": {
      "text/latex": [
       "$\\displaystyle X + Y$"
      ],
      "text/plain": [
       "X + Y"
      ]
     },
     "execution_count": 97,
     "metadata": {},
     "output_type": "execute_result"
    }
   ],
   "source": [
    "n1,n2=symbols(\"n_1 n_2\")\n",
    "Binomial(\"X\",n1,p)+Binomial(\"Y\",n2,p)"
   ]
  },
  {
   "cell_type": "markdown",
   "metadata": {},
   "source": [
    "## Possible Issues"
   ]
  },
  {
   "cell_type": "markdown",
   "metadata": {},
   "source": [
    "## Neat Example"
   ]
  },
  {
   "cell_type": "code",
   "execution_count": 2,
   "metadata": {
    "ExecuteTime": {
     "end_time": "2020-04-26T01:34:58.897482Z",
     "start_time": "2020-04-26T01:32:35.301208Z"
    }
   },
   "outputs": [
    {
     "data": {
      "image/png": "[encoded data removed]",
      "text/plain": [
       "<Figure size 432x288 with 1 Axes>"
      ]
     },
     "metadata": {
      "needs_background": "light"
     },
     "output_type": "display_data"
    },
    {
     "data": {
      "text/plain": [
       "<sympy.plotting.plot.Plot at 0xfb55210>"
      ]
     },
     "execution_count": 2,
     "metadata": {},
     "output_type": "execute_result"
    }
   ],
   "source": [
    "from sympy.abc import x,n,f,g,k\n",
    "from sympy import *\n",
    "from sympy.stats import E, Binomial\n",
    "f = sin(pi*x)/(1+x**2)\n",
    "f.subs(x, 2)\n",
    "n, x = symbols(\"n x\")\n",
    "g = E(\n",
    "    f.subs(x, Binomial(\"x\", n, x)/n)\n",
    ")\n",
    "plot(\n",
    "    f,\n",
    "    *Array(g.subs(n, k) for k in [2, 5, 10, 20, 50]),\n",
    "    (x, 0, 1)\n",
    ")"
   ]
  },
  {
   "cell_type": "code",
   "execution_count": null,
   "metadata": {},
   "outputs": [],
   "source": []
  }
 ],
 "metadata": {
  "file_extension": ".py",
  "kernelspec": {
   "display_name": "Python 3.7.0 32-bit",
   "language": "python",
   "name": "python37032bit1f7a973f3e4e43a28dc60a300a73d1fe"
  },
  "language_info": {
   "codemirror_mode": {
    "name": "ipython",
    "version": 3
   },
   "file_extension": ".py",
   "mimetype": "text/x-python",
   "name": "python",
   "nbconvert_exporter": "python",
   "pygments_lexer": "ipython3",
   "version": "3.7.0"
  },
  "latex_envs": {
   "LaTeX_envs_menu_present": true,
   "autoclose": true,
   "autocomplete": true,
   "bibliofile": "biblio.bib",
   "cite_by": "apalike",
   "current_citInitial": 1,
   "eqLabelWithNumbers": true,
   "eqNumInitial": 1,
   "hotkeys": {
    "equation": "Ctrl-E",
    "itemize": "Ctrl-I"
   },
   "labels_anchors": false,
   "latex_user_defs": false,
   "report_style_numbering": false,
   "user_envs_cfg": false
  },
  "mimetype": "text/x-python",
  "name": "python",
  "npconvert_exporter": "python",
  "pygments_lexer": "ipython3",
  "toc": {
   "base_numbering": 1,
   "nav_menu": {},
   "number_sections": true,
   "sideBar": true,
   "skip_h1_title": false,
   "title_cell": "Table of Contents",
   "title_sidebar": "Contents",
   "toc_cell": false,
   "toc_position": {},
   "toc_section_display": true,
   "toc_window_display": true
  },
  "version": 3
 },
 "nbformat": 4,
 "nbformat_minor": 2
}
