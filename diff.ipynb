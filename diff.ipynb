{
 "cells": [
  {
   "cell_type": "markdown",
   "metadata": {},
   "source": [
    "# Examples"
   ]
  },
  {
   "cell_type": "code",
   "execution_count": 2,
   "metadata": {
    "ExecuteTime": {
     "end_time": "2020-04-21T01:39:24.250450Z",
     "start_time": "2020-04-21T01:39:23.661241Z"
    }
   },
   "outputs": [],
   "source": [
    "from sympy.abc import *\n",
    "from sympy import *"
   ]
  },
  {
   "cell_type": "markdown",
   "metadata": {},
   "source": [
    "## Basic Examples"
   ]
  },
  {
   "cell_type": "code",
   "execution_count": 10,
   "metadata": {
    "ExecuteTime": {
     "end_time": "2020-04-21T01:43:18.278822Z",
     "start_time": "2020-04-21T01:43:18.262809Z"
    }
   },
   "outputs": [
    {
     "data": {
      "text/latex": [
       "$\\displaystyle \\frac{d^{n}}{d x^{n}} x^{n}$"
      ],
      "text/plain": [
       "Derivative(x**n, (x, n))"
      ]
     },
     "execution_count": 10,
     "metadata": {},
     "output_type": "execute_result"
    }
   ],
   "source": [
    "n=symbols(\"n\",integer=True)\n",
    "diff(x**n,(x,n)).simplify()"
   ]
  },
  {
   "cell_type": "code",
   "execution_count": 4,
   "metadata": {
    "ExecuteTime": {
     "end_time": "2020-04-21T01:39:50.899486Z",
     "start_time": "2020-04-21T01:39:50.499845Z"
    }
   },
   "outputs": [
    {
     "data": {
      "text/latex": [
       "$\\displaystyle 40 \\left(7 \\sin^{4}{\\left(x \\right)} - 117 \\sin^{2}{\\left(x \\right)} \\cos^{2}{\\left(x \\right)} + 126 \\cos^{4}{\\left(x \\right)}\\right) \\sin^{6}{\\left(x \\right)}$"
      ],
      "text/plain": [
       "40*(7*sin(x)**4 - 117*sin(x)**2*cos(x)**2 + 126*cos(x)**4)*sin(x)**6"
      ]
     },
     "execution_count": 4,
     "metadata": {},
     "output_type": "execute_result"
    }
   ],
   "source": [
    "(sin(x)**10).diff(x, 4)"
   ]
  },
  {
   "cell_type": "code",
   "execution_count": 7,
   "metadata": {
    "ExecuteTime": {
     "end_time": "2020-04-21T01:41:09.004069Z",
     "start_time": "2020-04-21T01:41:08.468389Z"
    }
   },
   "outputs": [
    {
     "data": {
      "text/latex": [
       "$\\displaystyle \\frac{8 x y \\sin{\\left(x y \\right)} + \\left(x^{2} + y^{2}\\right)^{2} \\left(- x y \\sin{\\left(x y \\right)} + \\cos{\\left(x y \\right)}\\right) - 2 \\left(x^{2} + y^{2}\\right)^{2} \\cos{\\left(x y \\right)}}{\\left(x^{2} + y^{2}\\right)^{3}}$"
      ],
      "text/plain": [
       "(8*x*y*sin(x*y) + (x**2 + y**2)**2*(-x*y*sin(x*y) + cos(x*y)) - 2*(x**2 + y**2)**2*cos(x*y))/(x**2 + y**2)**3"
      ]
     },
     "execution_count": 7,
     "metadata": {},
     "output_type": "execute_result"
    }
   ],
   "source": [
    "(sin(x *y)/(x**2 + y**2)).diff(x,y).simplify().radsimp()"
   ]
  },
  {
   "cell_type": "code",
   "execution_count": 12,
   "metadata": {
    "ExecuteTime": {
     "end_time": "2020-04-21T01:44:41.586872Z",
     "start_time": "2020-04-21T01:44:41.568872Z"
    }
   },
   "outputs": [
    {
     "data": {
      "text/latex": [
       "$\\displaystyle x f{\\left(x \\right)} \\frac{d^{2}}{d x^{2}} f{\\left(x \\right)} + x \\left(\\frac{d}{d x} f{\\left(x \\right)}\\right)^{2} + f{\\left(x \\right)} \\frac{d}{d x} f{\\left(x \\right)}$"
      ],
      "text/plain": [
       "x*f(x)*Derivative(f(x), (x, 2)) + x*Derivative(f(x), x)**2 + f(x)*Derivative(f(x), x)"
      ]
     },
     "execution_count": 12,
     "metadata": {},
     "output_type": "execute_result"
    }
   ],
   "source": [
    "f=Function(\"f\")\n",
    "diff(x* f(x) * f(x).diff(x), x)"
   ]
  },
  {
   "cell_type": "code",
   "execution_count": 15,
   "metadata": {
    "ExecuteTime": {
     "end_time": "2020-04-21T01:45:45.849638Z",
     "start_time": "2020-04-21T01:45:43.838763Z"
    }
   },
   "outputs": [
    {
     "ename": "RecursionError",
     "evalue": "maximum recursion depth exceeded while calling a Python object",
     "output_type": "error",
     "traceback": [
      "\u001b[1;31m---------------------------------------------------------------------------\u001b[0m",
      "\u001b[1;31mKeyError\u001b[0m                                  Traceback (most recent call last)",
      "\u001b[1;32mD:\\Program Files\\Python3.7\\lib\\site-packages\\sympy\\core\\assumptions.py\u001b[0m in \u001b[0;36mgetit\u001b[1;34m(self)\u001b[0m\n\u001b[0;32m    261\u001b[0m         \u001b[1;32mtry\u001b[0m\u001b[1;33m:\u001b[0m\u001b[1;33m\u001b[0m\u001b[0m\n\u001b[1;32m--> 262\u001b[1;33m             \u001b[1;32mreturn\u001b[0m \u001b[0mself\u001b[0m\u001b[1;33m.\u001b[0m\u001b[0m_assumptions\u001b[0m\u001b[1;33m[\u001b[0m\u001b[0mfact\u001b[0m\u001b[1;33m]\u001b[0m\u001b[1;33m\u001b[0m\u001b[0m\n\u001b[0m\u001b[0;32m    263\u001b[0m         \u001b[1;32mexcept\u001b[0m \u001b[0mKeyError\u001b[0m\u001b[1;33m:\u001b[0m\u001b[1;33m\u001b[0m\u001b[0m\n",
      "\u001b[1;31mKeyError\u001b[0m: 'zero'",
      "\nDuring handling of the above exception, another exception occurred:\n",
      "\u001b[1;31mKeyError\u001b[0m                                  Traceback (most recent call last)",
      "\u001b[1;32mD:\\Program Files\\Python3.7\\lib\\site-packages\\sympy\\core\\assumptions.py\u001b[0m in \u001b[0;36mgetit\u001b[1;34m(self)\u001b[0m\n\u001b[0;32m    261\u001b[0m         \u001b[1;32mtry\u001b[0m\u001b[1;33m:\u001b[0m\u001b[1;33m\u001b[0m\u001b[0m\n\u001b[1;32m--> 262\u001b[1;33m             \u001b[1;32mreturn\u001b[0m \u001b[0mself\u001b[0m\u001b[1;33m.\u001b[0m\u001b[0m_assumptions\u001b[0m\u001b[1;33m[\u001b[0m\u001b[0mfact\u001b[0m\u001b[1;33m]\u001b[0m\u001b[1;33m\u001b[0m\u001b[0m\n\u001b[0m\u001b[0;32m    263\u001b[0m         \u001b[1;32mexcept\u001b[0m \u001b[0mKeyError\u001b[0m\u001b[1;33m:\u001b[0m\u001b[1;33m\u001b[0m\u001b[0m\n",
      "\u001b[1;31mKeyError\u001b[0m: 'finite'",
      "\nDuring handling of the above exception, another exception occurred:\n",
      "\u001b[1;31mKeyError\u001b[0m                                  Traceback (most recent call last)",
      "\u001b[1;32mD:\\Program Files\\Python3.7\\lib\\site-packages\\sympy\\core\\assumptions.py\u001b[0m in \u001b[0;36mgetit\u001b[1;34m(self)\u001b[0m\n\u001b[0;32m    261\u001b[0m         \u001b[1;32mtry\u001b[0m\u001b[1;33m:\u001b[0m\u001b[1;33m\u001b[0m\u001b[0m\n\u001b[1;32m--> 262\u001b[1;33m             \u001b[1;32mreturn\u001b[0m \u001b[0mself\u001b[0m\u001b[1;33m.\u001b[0m\u001b[0m_assumptions\u001b[0m\u001b[1;33m[\u001b[0m\u001b[0mfact\u001b[0m\u001b[1;33m]\u001b[0m\u001b[1;33m\u001b[0m\u001b[0m\n\u001b[0m\u001b[0;32m    263\u001b[0m         \u001b[1;32mexcept\u001b[0m \u001b[0mKeyError\u001b[0m\u001b[1;33m:\u001b[0m\u001b[1;33m\u001b[0m\u001b[0m\n",
      "\u001b[1;31mKeyError\u001b[0m: 'extended_positive'",
      "\nDuring handling of the above exception, another exception occurred:\n",
      "\u001b[1;31mRecursionError\u001b[0m                            Traceback (most recent call last)",
      "\u001b[1;32m<ipython-input-15-6fd2bc1fc569>\u001b[0m in \u001b[0;36m<module>\u001b[1;34m\u001b[0m\n\u001b[1;32m----> 1\u001b[1;33m \u001b[0mzeta\u001b[0m\u001b[1;33m(\u001b[0m\u001b[0mz\u001b[0m\u001b[1;33m)\u001b[0m\u001b[1;33m.\u001b[0m\u001b[0mdiff\u001b[0m\u001b[1;33m(\u001b[0m\u001b[0mz\u001b[0m\u001b[1;33m)\u001b[0m\u001b[1;33m.\u001b[0m\u001b[0msubs\u001b[0m\u001b[1;33m(\u001b[0m\u001b[0mz\u001b[0m\u001b[1;33m,\u001b[0m\u001b[1;36m2\u001b[0m\u001b[1;33m)\u001b[0m\u001b[1;33m.\u001b[0m\u001b[0mevalf\u001b[0m\u001b[1;33m(\u001b[0m\u001b[1;33m)\u001b[0m\u001b[1;33m\u001b[0m\u001b[0m\n\u001b[0m",
      "\u001b[1;32mD:\\Program Files\\Python3.7\\lib\\site-packages\\sympy\\core\\function.py\u001b[0m in \u001b[0;36mevalf\u001b[1;34m(self, prec, **options)\u001b[0m\n\u001b[0;32m   2268\u001b[0m \u001b[1;33m\u001b[0m\u001b[0m\n\u001b[0;32m   2269\u001b[0m     \u001b[1;32mdef\u001b[0m \u001b[0mevalf\u001b[0m\u001b[1;33m(\u001b[0m\u001b[0mself\u001b[0m\u001b[1;33m,\u001b[0m \u001b[0mprec\u001b[0m\u001b[1;33m=\u001b[0m\u001b[1;32mNone\u001b[0m\u001b[1;33m,\u001b[0m \u001b[1;33m**\u001b[0m\u001b[0moptions\u001b[0m\u001b[1;33m)\u001b[0m\u001b[1;33m:\u001b[0m\u001b[1;33m\u001b[0m\u001b[0m\n\u001b[1;32m-> 2270\u001b[1;33m         \u001b[1;32mreturn\u001b[0m \u001b[0mself\u001b[0m\u001b[1;33m.\u001b[0m\u001b[0mdoit\u001b[0m\u001b[1;33m(\u001b[0m\u001b[1;33m)\u001b[0m\u001b[1;33m.\u001b[0m\u001b[0mevalf\u001b[0m\u001b[1;33m(\u001b[0m\u001b[0mprec\u001b[0m\u001b[1;33m,\u001b[0m \u001b[1;33m**\u001b[0m\u001b[0moptions\u001b[0m\u001b[1;33m)\u001b[0m\u001b[1;33m\u001b[0m\u001b[0m\n\u001b[0m\u001b[0;32m   2271\u001b[0m \u001b[1;33m\u001b[0m\u001b[0m\n\u001b[0;32m   2272\u001b[0m     \u001b[0mn\u001b[0m \u001b[1;33m=\u001b[0m \u001b[0mevalf\u001b[0m\u001b[1;33m\u001b[0m\u001b[0m\n",
      "\u001b[1;32mD:\\Program Files\\Python3.7\\lib\\site-packages\\sympy\\core\\function.py\u001b[0m in \u001b[0;36mevalf\u001b[1;34m(self, prec, **options)\u001b[0m\n\u001b[0;32m   2268\u001b[0m \u001b[1;33m\u001b[0m\u001b[0m\n\u001b[0;32m   2269\u001b[0m     \u001b[1;32mdef\u001b[0m \u001b[0mevalf\u001b[0m\u001b[1;33m(\u001b[0m\u001b[0mself\u001b[0m\u001b[1;33m,\u001b[0m \u001b[0mprec\u001b[0m\u001b[1;33m=\u001b[0m\u001b[1;32mNone\u001b[0m\u001b[1;33m,\u001b[0m \u001b[1;33m**\u001b[0m\u001b[0moptions\u001b[0m\u001b[1;33m)\u001b[0m\u001b[1;33m:\u001b[0m\u001b[1;33m\u001b[0m\u001b[0m\n\u001b[1;32m-> 2270\u001b[1;33m         \u001b[1;32mreturn\u001b[0m \u001b[0mself\u001b[0m\u001b[1;33m.\u001b[0m\u001b[0mdoit\u001b[0m\u001b[1;33m(\u001b[0m\u001b[1;33m)\u001b[0m\u001b[1;33m.\u001b[0m\u001b[0mevalf\u001b[0m\u001b[1;33m(\u001b[0m\u001b[0mprec\u001b[0m\u001b[1;33m,\u001b[0m \u001b[1;33m**\u001b[0m\u001b[0moptions\u001b[0m\u001b[1;33m)\u001b[0m\u001b[1;33m\u001b[0m\u001b[0m\n\u001b[0m\u001b[0;32m   2271\u001b[0m \u001b[1;33m\u001b[0m\u001b[0m\n\u001b[0;32m   2272\u001b[0m     \u001b[0mn\u001b[0m \u001b[1;33m=\u001b[0m \u001b[0mevalf\u001b[0m\u001b[1;33m\u001b[0m\u001b[0m\n",
      "\u001b[1;32mD:\\Program Files\\Python3.7\\lib\\site-packages\\sympy\\core\\function.py\u001b[0m in \u001b[0;36mevalf\u001b[1;34m(self, prec, **options)\u001b[0m\n\u001b[0;32m   2268\u001b[0m \u001b[1;33m\u001b[0m\u001b[0m\n\u001b[0;32m   2269\u001b[0m     \u001b[1;32mdef\u001b[0m \u001b[0mevalf\u001b[0m\u001b[1;33m(\u001b[0m\u001b[0mself\u001b[0m\u001b[1;33m,\u001b[0m \u001b[0mprec\u001b[0m\u001b[1;33m=\u001b[0m\u001b[1;32mNone\u001b[0m\u001b[1;33m,\u001b[0m \u001b[1;33m**\u001b[0m\u001b[0moptions\u001b[0m\u001b[1;33m)\u001b[0m\u001b[1;33m:\u001b[0m\u001b[1;33m\u001b[0m\u001b[0m\n\u001b[1;32m-> 2270\u001b[1;33m         \u001b[1;32mreturn\u001b[0m \u001b[0mself\u001b[0m\u001b[1;33m.\u001b[0m\u001b[0mdoit\u001b[0m\u001b[1;33m(\u001b[0m\u001b[1;33m)\u001b[0m\u001b[1;33m.\u001b[0m\u001b[0mevalf\u001b[0m\u001b[1;33m(\u001b[0m\u001b[0mprec\u001b[0m\u001b[1;33m,\u001b[0m \u001b[1;33m**\u001b[0m\u001b[0moptions\u001b[0m\u001b[1;33m)\u001b[0m\u001b[1;33m\u001b[0m\u001b[0m\n\u001b[0m\u001b[0;32m   2271\u001b[0m \u001b[1;33m\u001b[0m\u001b[0m\n\u001b[0;32m   2272\u001b[0m     \u001b[0mn\u001b[0m \u001b[1;33m=\u001b[0m \u001b[0mevalf\u001b[0m\u001b[1;33m\u001b[0m\u001b[0m\n",
      "\u001b[1;32mD:\\Program Files\\Python3.7\\lib\\site-packages\\sympy\\core\\function.py\u001b[0m in \u001b[0;36mevalf\u001b[1;34m(self, prec, **options)\u001b[0m\n\u001b[0;32m   2268\u001b[0m \u001b[1;33m\u001b[0m\u001b[0m\n\u001b[0;32m   2269\u001b[0m     \u001b[1;32mdef\u001b[0m \u001b[0mevalf\u001b[0m\u001b[1;33m(\u001b[0m\u001b[0mself\u001b[0m\u001b[1;33m,\u001b[0m \u001b[0mprec\u001b[0m\u001b[1;33m=\u001b[0m\u001b[1;32mNone\u001b[0m\u001b[1;33m,\u001b[0m \u001b[1;33m**\u001b[0m\u001b[0moptions\u001b[0m\u001b[1;33m)\u001b[0m\u001b[1;33m:\u001b[0m\u001b[1;33m\u001b[0m\u001b[0m\n\u001b[1;32m-> 2270\u001b[1;33m         \u001b[1;32mreturn\u001b[0m \u001b[0mself\u001b[0m\u001b[1;33m.\u001b[0m\u001b[0mdoit\u001b[0m\u001b[1;33m(\u001b[0m\u001b[1;33m)\u001b[0m\u001b[1;33m.\u001b[0m\u001b[0mevalf\u001b[0m\u001b[1;33m(\u001b[0m\u001b[0mprec\u001b[0m\u001b[1;33m,\u001b[0m \u001b[1;33m**\u001b[0m\u001b[0moptions\u001b[0m\u001b[1;33m)\u001b[0m\u001b[1;33m\u001b[0m\u001b[0m\n\u001b[0m\u001b[0;32m   2271\u001b[0m \u001b[1;33m\u001b[0m\u001b[0m\n\u001b[0;32m   2272\u001b[0m     \u001b[0mn\u001b[0m \u001b[1;33m=\u001b[0m \u001b[0mevalf\u001b[0m\u001b[1;33m\u001b[0m\u001b[0m\n",
      "\u001b[1;32mD:\\Program Files\\Python3.7\\lib\\site-packages\\sympy\\core\\function.py\u001b[0m in \u001b[0;36mevalf\u001b[1;34m(self, prec, **options)\u001b[0m\n\u001b[0;32m   2268\u001b[0m \u001b[1;33m\u001b[0m\u001b[0m\n\u001b[0;32m   2269\u001b[0m     \u001b[1;32mdef\u001b[0m \u001b[0mevalf\u001b[0m\u001b[1;33m(\u001b[0m\u001b[0mself\u001b[0m\u001b[1;33m,\u001b[0m \u001b[0mprec\u001b[0m\u001b[1;33m=\u001b[0m\u001b[1;32mNone\u001b[0m\u001b[1;33m,\u001b[0m \u001b[1;33m**\u001b[0m\u001b[0moptions\u001b[0m\u001b[1;33m)\u001b[0m\u001b[1;33m:\u001b[0m\u001b[1;33m\u001b[0m\u001b[0m\n\u001b[1;32m-> 2270\u001b[1;33m         \u001b[1;32mreturn\u001b[0m \u001b[0mself\u001b[0m\u001b[1;33m.\u001b[0m\u001b[0mdoit\u001b[0m\u001b[1;33m(\u001b[0m\u001b[1;33m)\u001b[0m\u001b[1;33m.\u001b[0m\u001b[0mevalf\u001b[0m\u001b[1;33m(\u001b[0m\u001b[0mprec\u001b[0m\u001b[1;33m,\u001b[0m \u001b[1;33m**\u001b[0m\u001b[0moptions\u001b[0m\u001b[1;33m)\u001b[0m\u001b[1;33m\u001b[0m\u001b[0m\n\u001b[0m\u001b[0;32m   2271\u001b[0m \u001b[1;33m\u001b[0m\u001b[0m\n\u001b[0;32m   2272\u001b[0m     \u001b[0mn\u001b[0m \u001b[1;33m=\u001b[0m \u001b[0mevalf\u001b[0m\u001b[1;33m\u001b[0m\u001b[0m\n",
      "... last 5 frames repeated, from the frame below ...\n",
      "\u001b[1;32mD:\\Program Files\\Python3.7\\lib\\site-packages\\sympy\\core\\function.py\u001b[0m in \u001b[0;36mevalf\u001b[1;34m(self, prec, **options)\u001b[0m\n\u001b[0;32m   2268\u001b[0m \u001b[1;33m\u001b[0m\u001b[0m\n\u001b[0;32m   2269\u001b[0m     \u001b[1;32mdef\u001b[0m \u001b[0mevalf\u001b[0m\u001b[1;33m(\u001b[0m\u001b[0mself\u001b[0m\u001b[1;33m,\u001b[0m \u001b[0mprec\u001b[0m\u001b[1;33m=\u001b[0m\u001b[1;32mNone\u001b[0m\u001b[1;33m,\u001b[0m \u001b[1;33m**\u001b[0m\u001b[0moptions\u001b[0m\u001b[1;33m)\u001b[0m\u001b[1;33m:\u001b[0m\u001b[1;33m\u001b[0m\u001b[0m\n\u001b[1;32m-> 2270\u001b[1;33m         \u001b[1;32mreturn\u001b[0m \u001b[0mself\u001b[0m\u001b[1;33m.\u001b[0m\u001b[0mdoit\u001b[0m\u001b[1;33m(\u001b[0m\u001b[1;33m)\u001b[0m\u001b[1;33m.\u001b[0m\u001b[0mevalf\u001b[0m\u001b[1;33m(\u001b[0m\u001b[0mprec\u001b[0m\u001b[1;33m,\u001b[0m \u001b[1;33m**\u001b[0m\u001b[0moptions\u001b[0m\u001b[1;33m)\u001b[0m\u001b[1;33m\u001b[0m\u001b[0m\n\u001b[0m\u001b[0;32m   2271\u001b[0m \u001b[1;33m\u001b[0m\u001b[0m\n\u001b[0;32m   2272\u001b[0m     \u001b[0mn\u001b[0m \u001b[1;33m=\u001b[0m \u001b[0mevalf\u001b[0m\u001b[1;33m\u001b[0m\u001b[0m\n",
      "\u001b[1;31mRecursionError\u001b[0m: maximum recursion depth exceeded while calling a Python object"
     ]
    }
   ],
   "source": [
    "zeta(z).diff(z).subs(z,2).evalf()\n",
    "# bug https://github.com/sympy/sympy/issues/11802"
   ]
  },
  {
   "cell_type": "code",
   "execution_count": 16,
   "metadata": {
    "ExecuteTime": {
     "end_time": "2020-04-21T01:53:05.673095Z",
     "start_time": "2020-04-21T01:53:05.657092Z"
    }
   },
   "outputs": [
    {
     "data": {
      "text/latex": [
       "$\\displaystyle - \\frac{2 x}{\\left(x^{2} + 1\\right)^{2}}$"
      ],
      "text/plain": [
       "-2*x/(x**2 + 1)**2"
      ]
     },
     "execution_count": 16,
     "metadata": {},
     "output_type": "execute_result"
    }
   ],
   "source": [
    "atan(x).diff(x,x)"
   ]
  },
  {
   "cell_type": "code",
   "execution_count": 17,
   "metadata": {
    "ExecuteTime": {
     "end_time": "2020-04-21T01:53:31.410259Z",
     "start_time": "2020-04-21T01:53:31.394263Z"
    }
   },
   "outputs": [
    {
     "data": {
      "text/latex": [
       "$\\displaystyle a x^{2} \\cos{\\left(a x \\right)} + 2 x \\sin{\\left(a x \\right)}$"
      ],
      "text/plain": [
       "a*x**2*cos(a*x) + 2*x*sin(a*x)"
      ]
     },
     "execution_count": 17,
     "metadata": {},
     "output_type": "execute_result"
    }
   ],
   "source": [
    "diff(x**2 *sin(a* x), x)"
   ]
  },
  {
   "cell_type": "code",
   "execution_count": 18,
   "metadata": {
    "ExecuteTime": {
     "end_time": "2020-04-21T01:53:44.964687Z",
     "start_time": "2020-04-21T01:53:44.940715Z"
    }
   },
   "outputs": [
    {
     "data": {
      "text/latex": [
       "$\\displaystyle - a^{2} x^{2} \\sin{\\left(a x \\right)} + 4 a x \\cos{\\left(a x \\right)} + 2 \\sin{\\left(a x \\right)}$"
      ],
      "text/plain": [
       "-a**2*x**2*sin(a*x) + 4*a*x*cos(a*x) + 2*sin(a*x)"
      ]
     },
     "execution_count": 18,
     "metadata": {},
     "output_type": "execute_result"
    }
   ],
   "source": [
    "diff(x**2 *sin(a *x), (x, 2))"
   ]
  },
  {
   "cell_type": "code",
   "execution_count": 19,
   "metadata": {
    "ExecuteTime": {
     "end_time": "2020-04-21T01:54:11.595576Z",
     "start_time": "2020-04-21T01:54:11.575613Z"
    }
   },
   "outputs": [
    {
     "data": {
      "text/latex": [
       "$\\displaystyle -4$"
      ],
      "text/plain": [
       "-4"
      ]
     },
     "execution_count": 19,
     "metadata": {},
     "output_type": "execute_result"
    }
   ],
   "source": [
    "diff(sin(x) + cos(2* x), (x, 2)) .subs( x , 0)"
   ]
  },
  {
   "cell_type": "code",
   "execution_count": 22,
   "metadata": {
    "ExecuteTime": {
     "end_time": "2020-04-21T01:56:42.740636Z",
     "start_time": "2020-04-21T01:56:42.724585Z"
    }
   },
   "outputs": [
    {
     "data": {
      "text/latex": [
       "$\\displaystyle 5 x^{4} + 18 x^{2}$"
      ],
      "text/plain": [
       "5*x**4 + 18*x**2"
      ]
     },
     "execution_count": 22,
     "metadata": {},
     "output_type": "execute_result"
    }
   ],
   "source": [
    "f=Function(\"f\")\n",
    "f=x**5+6*x**3\n",
    "diff(f, x)"
   ]
  },
  {
   "cell_type": "code",
   "execution_count": 26,
   "metadata": {
    "ExecuteTime": {
     "end_time": "2020-04-21T01:57:49.020957Z",
     "start_time": "2020-04-21T01:57:48.996957Z"
    }
   },
   "outputs": [
    {
     "data": {
      "text/latex": [
       "$\\displaystyle x \\frac{d^{2}}{d x^{2}} f{\\left(x \\right)} + 2 g{\\left(x \\right)} \\frac{d}{d x} g{\\left(x \\right)} + \\frac{d}{d x} f{\\left(x \\right)}$"
      ],
      "text/plain": [
       "x*Derivative(f(x), (x, 2)) + 2*g(x)*Derivative(g(x), x) + Derivative(f(x), x)"
      ]
     },
     "execution_count": 26,
     "metadata": {},
     "output_type": "execute_result"
    }
   ],
   "source": [
    "f=Function(\"f\")\n",
    "g=Function(\"g\")\n",
    "diff(x* f(x).diff(x) + g(x)**2, x)"
   ]
  },
  {
   "cell_type": "code",
   "execution_count": 28,
   "metadata": {
    "ExecuteTime": {
     "end_time": "2020-04-21T01:58:04.161912Z",
     "start_time": "2020-04-21T01:58:04.152911Z"
    }
   },
   "outputs": [
    {
     "data": {
      "text/latex": [
       "$\\displaystyle 2 x e^{5 y}$"
      ],
      "text/plain": [
       "2*x*exp(5*y)"
      ]
     },
     "execution_count": 28,
     "metadata": {},
     "output_type": "execute_result"
    }
   ],
   "source": [
    "diff(x**2*E**(5 *y), x)"
   ]
  },
  {
   "cell_type": "code",
   "execution_count": 29,
   "metadata": {
    "ExecuteTime": {
     "end_time": "2020-04-21T01:58:17.041359Z",
     "start_time": "2020-04-21T01:58:17.032423Z"
    }
   },
   "outputs": [
    {
     "data": {
      "text/latex": [
       "$\\displaystyle 5 x^{2} e^{5 y}$"
      ],
      "text/plain": [
       "5*x**2*exp(5*y)"
      ]
     },
     "execution_count": 29,
     "metadata": {},
     "output_type": "execute_result"
    }
   ],
   "source": [
    "diff(x**2 *E**(5 *y), y)"
   ]
  },
  {
   "cell_type": "code",
   "execution_count": 30,
   "metadata": {
    "ExecuteTime": {
     "end_time": "2020-04-21T01:58:43.551626Z",
     "start_time": "2020-04-21T01:58:43.543680Z"
    }
   },
   "outputs": [
    {
     "data": {
      "text/latex": [
       "$\\displaystyle 10 x e^{5 y}$"
      ],
      "text/plain": [
       "10*x*exp(5*y)"
      ]
     },
     "execution_count": 30,
     "metadata": {},
     "output_type": "execute_result"
    }
   ],
   "source": [
    "diff(x**2 *E**(5* y), x, y)"
   ]
  },
  {
   "cell_type": "code",
   "execution_count": 31,
   "metadata": {
    "ExecuteTime": {
     "end_time": "2020-04-21T01:58:55.536081Z",
     "start_time": "2020-04-21T01:58:55.523084Z"
    }
   },
   "outputs": [
    {
     "data": {
      "text/latex": [
       "$\\displaystyle 250 e^{5 y}$"
      ],
      "text/plain": [
       "250*exp(5*y)"
      ]
     },
     "execution_count": 31,
     "metadata": {},
     "output_type": "execute_result"
    }
   ],
   "source": [
    "diff(x**2 *E**(5 *y), (x, 2), (y, 3))"
   ]
  },
  {
   "cell_type": "code",
   "execution_count": 32,
   "metadata": {
    "ExecuteTime": {
     "end_time": "2020-04-21T01:59:18.536771Z",
     "start_time": "2020-04-21T01:59:18.521773Z"
    }
   },
   "outputs": [
    {
     "data": {
      "text/latex": [
       "$\\displaystyle \\cos{\\left(f{\\left(x \\right)} \\right)} \\frac{d}{d x} f{\\left(x \\right)} + \\frac{d^{3}}{d x^{3}} f{\\left(x \\right)}$"
      ],
      "text/plain": [
       "cos(f(x))*Derivative(f(x), x) + Derivative(f(x), (x, 3))"
      ]
     },
     "execution_count": 32,
     "metadata": {},
     "output_type": "execute_result"
    }
   ],
   "source": [
    "diff(sin(f(x)) + f(x).diff(x,2), x)"
   ]
  },
  {
   "cell_type": "code",
   "execution_count": 33,
   "metadata": {
    "ExecuteTime": {
     "end_time": "2020-04-21T01:59:40.226134Z",
     "start_time": "2020-04-21T01:59:40.215114Z"
    }
   },
   "outputs": [
    {
     "data": {
      "text/latex": [
       "$\\displaystyle \\cos{\\left(f{\\left(x \\right)} \\right)}$"
      ],
      "text/plain": [
       "cos(f(x))"
      ]
     },
     "execution_count": 33,
     "metadata": {},
     "output_type": "execute_result"
    }
   ],
   "source": [
    "diff(sin(f(x)) + f(x).diff(x,2), f(x))"
   ]
  },
  {
   "cell_type": "code",
   "execution_count": 34,
   "metadata": {
    "ExecuteTime": {
     "end_time": "2020-04-21T02:00:04.973448Z",
     "start_time": "2020-04-21T02:00:04.961464Z"
    }
   },
   "outputs": [
    {
     "data": {
      "text/latex": [
       "$\\displaystyle 1$"
      ],
      "text/plain": [
       "1"
      ]
     },
     "execution_count": 34,
     "metadata": {},
     "output_type": "execute_result"
    }
   ],
   "source": [
    "diff(sin(f(x)) + f(x).diff(x,2), f(x).diff(x,2))"
   ]
  },
  {
   "cell_type": "code",
   "execution_count": 38,
   "metadata": {
    "ExecuteTime": {
     "end_time": "2020-04-21T02:00:47.674126Z",
     "start_time": "2020-04-21T02:00:47.660122Z"
    }
   },
   "outputs": [
    {
     "data": {
      "text/latex": [
       "$\\displaystyle \\left[\\begin{matrix}6 t & 4 & \\cos{\\left(t \\right)}\\end{matrix}\\right]$"
      ],
      "text/plain": [
       "[6*t, 4, cos(t)]"
      ]
     },
     "execution_count": 38,
     "metadata": {},
     "output_type": "execute_result"
    }
   ],
   "source": [
    "Array(diff(j, t) for j in [3* t**2, 4 *t, sin(t)])"
   ]
  },
  {
   "cell_type": "code",
   "execution_count": 43,
   "metadata": {
    "ExecuteTime": {
     "end_time": "2020-04-21T02:03:27.495885Z",
     "start_time": "2020-04-21T02:03:27.483879Z"
    }
   },
   "outputs": [
    {
     "data": {
      "text/latex": [
       "$\\displaystyle \\left[\\begin{matrix}- \\sin{\\left(\\theta \\right)} & - \\cos{\\left(\\theta \\right)}\\\\\\cos{\\left(\\theta \\right)} & - \\sin{\\left(\\theta \\right)}\\end{matrix}\\right]$"
      ],
      "text/plain": [
       "Matrix([\n",
       "[-sin(theta), -cos(theta)],\n",
       "[ cos(theta), -sin(theta)]])"
      ]
     },
     "execution_count": 43,
     "metadata": {},
     "output_type": "execute_result"
    }
   ],
   "source": [
    "Matrix(\n",
    "    [[cos(theta), -sin(theta)], \n",
    "     [sin(theta), cos(theta)]]).applyfunc(lambda j:diff(j, theta))"
   ]
  },
  {
   "cell_type": "code",
   "execution_count": 45,
   "metadata": {
    "ExecuteTime": {
     "end_time": "2020-04-21T02:04:07.595970Z",
     "start_time": "2020-04-21T02:04:07.582965Z"
    }
   },
   "outputs": [
    {
     "data": {
      "text/latex": [
       "$\\displaystyle f{\\left(x \\right)} \\frac{d^{2}}{d x^{2}} f{\\left(x \\right)} + \\left(\\frac{d}{d x} f{\\left(x \\right)}\\right)^{2}$"
      ],
      "text/plain": [
       "f(x)*Derivative(f(x), (x, 2)) + Derivative(f(x), x)**2"
      ]
     },
     "execution_count": 45,
     "metadata": {},
     "output_type": "execute_result"
    }
   ],
   "source": [
    "diff(f(x)* f(x).diff(x), x)"
   ]
  },
  {
   "cell_type": "code",
   "execution_count": 46,
   "metadata": {
    "ExecuteTime": {
     "end_time": "2020-04-21T02:04:26.463879Z",
     "start_time": "2020-04-21T02:04:26.454875Z"
    }
   },
   "outputs": [
    {
     "data": {
      "text/latex": [
       "$\\displaystyle \\frac{d}{d x} f{\\left(x \\right)} + \\frac{d}{d x} g{\\left(x \\right)}$"
      ],
      "text/plain": [
       "Derivative(f(x), x) + Derivative(g(x), x)"
      ]
     },
     "execution_count": 46,
     "metadata": {},
     "output_type": "execute_result"
    }
   ],
   "source": [
    "diff(f(x) + g(x), x)"
   ]
  },
  {
   "cell_type": "code",
   "execution_count": 47,
   "metadata": {
    "ExecuteTime": {
     "end_time": "2020-04-21T02:04:41.650699Z",
     "start_time": "2020-04-21T02:04:41.635647Z"
    }
   },
   "outputs": [
    {
     "data": {
      "text/latex": [
       "$\\displaystyle f{\\left(x \\right)} \\frac{d}{d x} g{\\left(x \\right)} + g{\\left(x \\right)} \\frac{d}{d x} f{\\left(x \\right)}$"
      ],
      "text/plain": [
       "f(x)*Derivative(g(x), x) + g(x)*Derivative(f(x), x)"
      ]
     },
     "execution_count": 47,
     "metadata": {},
     "output_type": "execute_result"
    }
   ],
   "source": [
    "diff(f(x) *g(x), x)"
   ]
  },
  {
   "cell_type": "code",
   "execution_count": 48,
   "metadata": {
    "ExecuteTime": {
     "end_time": "2020-04-21T02:04:50.283670Z",
     "start_time": "2020-04-21T02:04:50.262657Z"
    }
   },
   "outputs": [
    {
     "data": {
      "text/latex": [
       "$\\displaystyle \\frac{- f{\\left(x \\right)} \\frac{d}{d x} g{\\left(x \\right)} + g{\\left(x \\right)} \\frac{d}{d x} f{\\left(x \\right)}}{g^{2}{\\left(x \\right)}}$"
      ],
      "text/plain": [
       "(-f(x)*Derivative(g(x), x) + g(x)*Derivative(f(x), x))/g(x)**2"
      ]
     },
     "execution_count": 48,
     "metadata": {},
     "output_type": "execute_result"
    }
   ],
   "source": [
    "together(diff(f(x)/ g(x), x))"
   ]
  },
  {
   "cell_type": "code",
   "execution_count": 49,
   "metadata": {
    "ExecuteTime": {
     "end_time": "2020-04-21T02:04:57.223086Z",
     "start_time": "2020-04-21T02:04:57.214054Z"
    }
   },
   "outputs": [
    {
     "data": {
      "text/latex": [
       "$\\displaystyle \\frac{d}{d g{\\left(x \\right)}} f{\\left(g{\\left(x \\right)} \\right)} \\frac{d}{d x} g{\\left(x \\right)}$"
      ],
      "text/plain": [
       "Derivative(f(g(x)), g(x))*Derivative(g(x), x)"
      ]
     },
     "execution_count": 49,
     "metadata": {},
     "output_type": "execute_result"
    }
   ],
   "source": [
    "diff(f(g(x)), x)"
   ]
  },
  {
   "cell_type": "code",
   "execution_count": 51,
   "metadata": {
    "ExecuteTime": {
     "end_time": "2020-04-21T02:05:19.356968Z",
     "start_time": "2020-04-21T02:05:19.339000Z"
    }
   },
   "outputs": [
    {
     "data": {
      "text/latex": [
       "$\\displaystyle f{\\left(x \\right)} g{\\left(x \\right)} \\frac{d}{d x} h{\\left(x \\right)} + f{\\left(x \\right)} h{\\left(x \\right)} \\frac{d}{d x} g{\\left(x \\right)} + g{\\left(x \\right)} h{\\left(x \\right)} \\frac{d}{d x} f{\\left(x \\right)}$"
      ],
      "text/plain": [
       "f(x)*g(x)*Derivative(h(x), x) + f(x)*h(x)*Derivative(g(x), x) + g(x)*h(x)*Derivative(f(x), x)"
      ]
     },
     "execution_count": 51,
     "metadata": {},
     "output_type": "execute_result"
    }
   ],
   "source": [
    "h=Function(\"h\")\n",
    "diff(f(x)* g(x)* h(x), x)"
   ]
  },
  {
   "cell_type": "code",
   "execution_count": 52,
   "metadata": {
    "ExecuteTime": {
     "end_time": "2020-04-21T02:05:30.601185Z",
     "start_time": "2020-04-21T02:05:30.593164Z"
    }
   },
   "outputs": [
    {
     "data": {
      "text/latex": [
       "$\\displaystyle \\frac{\\partial^{2}}{\\partial y\\partial x} f{\\left(x,y \\right)}$"
      ],
      "text/plain": [
       "Derivative(f(x, y), x, y)"
      ]
     },
     "execution_count": 52,
     "metadata": {},
     "output_type": "execute_result"
    }
   ],
   "source": [
    "diff(f(x, y), x, y)"
   ]
  },
  {
   "cell_type": "code",
   "execution_count": 53,
   "metadata": {
    "ExecuteTime": {
     "end_time": "2020-04-21T02:05:57.236385Z",
     "start_time": "2020-04-21T02:05:57.207369Z"
    }
   },
   "outputs": [
    {
     "data": {
      "text/latex": [
       "$\\displaystyle \\sum_{k_{1}=0}^{n} \\frac{n! \\frac{d^{k_{1}}}{d x^{k_{1}}} f{\\left(x \\right)} \\frac{d^{\\max\\left(0, - k_{1} + n\\right)}}{d x^{\\max\\left(0, - k_{1} + n\\right)}} g{\\left(x \\right)}}{k_{1}! \\left(- k_{1} + n\\right)!}$"
      ],
      "text/plain": [
       "Sum(factorial(n)*Derivative(f(x), (x, _k1))*Derivative(g(x), (x, Max(0, -_k1 + n)))/(factorial(_k1)*factorial(-_k1 + n)), (_k1, 0, n))"
      ]
     },
     "execution_count": 53,
     "metadata": {},
     "output_type": "execute_result"
    }
   ],
   "source": [
    "diff(f(x)* g(x), (x, n))"
   ]
  },
  {
   "cell_type": "code",
   "execution_count": 54,
   "metadata": {
    "ExecuteTime": {
     "end_time": "2020-04-21T02:09:52.290082Z",
     "start_time": "2020-04-21T02:09:52.283061Z"
    }
   },
   "outputs": [
    {
     "data": {
      "text/latex": [
       "$\\displaystyle \\frac{d^{n}}{d x^{n}} f{\\left(g{\\left(x \\right)} \\right)}$"
      ],
      "text/plain": [
       "Derivative(f(g(x)), (x, n))"
      ]
     },
     "execution_count": 54,
     "metadata": {},
     "output_type": "execute_result"
    }
   ],
   "source": [
    "diff(f(g(x)), (x, n))"
   ]
  },
  {
   "cell_type": "code",
   "execution_count": 55,
   "metadata": {
    "ExecuteTime": {
     "end_time": "2020-04-21T02:10:06.021027Z",
     "start_time": "2020-04-21T02:10:06.004036Z"
    }
   },
   "outputs": [
    {
     "data": {
      "text/latex": [
       "$\\displaystyle 4 a x^{3} + 3 b x^{2}$"
      ],
      "text/plain": [
       "4*a*x**3 + 3*b*x**2"
      ]
     },
     "execution_count": 55,
     "metadata": {},
     "output_type": "execute_result"
    }
   ],
   "source": [
    "diff(a* x**4 + b* x**3 + c, x)"
   ]
  },
  {
   "cell_type": "code",
   "execution_count": 58,
   "metadata": {
    "ExecuteTime": {
     "end_time": "2020-04-21T02:10:32.808356Z",
     "start_time": "2020-04-21T02:10:32.783402Z"
    }
   },
   "outputs": [
    {
     "data": {
      "text/latex": [
       "$\\displaystyle \\frac{2 x^{2} + 3 x + \\left(- 4 x - 3\\right) \\left(x - 7\\right) + 11}{\\left(2 x^{2} + 3 x + 11\\right)^{2}}$"
      ],
      "text/plain": [
       "(2*x**2 + 3*x + (-4*x - 3)*(x - 7) + 11)/(2*x**2 + 3*x + 11)**2"
      ]
     },
     "execution_count": 58,
     "metadata": {},
     "output_type": "execute_result"
    }
   ],
   "source": [
    "together(diff((x - 7)/(2 *x**2 + 3 *x + 11), x))"
   ]
  },
  {
   "cell_type": "code",
   "execution_count": 59,
   "metadata": {
    "ExecuteTime": {
     "end_time": "2020-04-21T02:10:46.702657Z",
     "start_time": "2020-04-21T02:10:46.687667Z"
    }
   },
   "outputs": [
    {
     "data": {
      "text/latex": [
       "$\\displaystyle \\frac{3 x^{2}}{2 \\sqrt{x^{3} + 1}}$"
      ],
      "text/plain": [
       "3*x**2/(2*sqrt(x**3 + 1))"
      ]
     },
     "execution_count": 59,
     "metadata": {},
     "output_type": "execute_result"
    }
   ],
   "source": [
    "diff(sqrt(1 + x**3), x)"
   ]
  },
  {
   "cell_type": "code",
   "execution_count": 62,
   "metadata": {
    "ExecuteTime": {
     "end_time": "2020-04-21T02:11:24.395743Z",
     "start_time": "2020-04-21T02:11:24.358706Z"
    }
   },
   "outputs": [
    {
     "data": {
      "text/latex": [
       "$\\displaystyle \\frac{3 \\left(- 50 x^{\\frac{2}{5}} \\left(x^{\\frac{3}{5}} + 1\\right) + 3 x + 1\\right)}{10 x^{\\frac{2}{5}} \\sqrt{x^{\\frac{3}{5}} + 1} \\left(3 x + 1\\right)^{6}}$"
      ],
      "text/plain": [
       "3*(-50*x**(2/5)*(x**(3/5) + 1) + 3*x + 1)/(10*x**(2/5)*sqrt(x**(3/5) + 1)*(3*x + 1)**6)"
      ]
     },
     "execution_count": 62,
     "metadata": {},
     "output_type": "execute_result"
    }
   ],
   "source": [
    "together(diff((1 + x**(Rational(3,5)))**Rational(1,2)/(3 *x + 1)**5, x))"
   ]
  },
  {
   "cell_type": "code",
   "execution_count": 63,
   "metadata": {
    "ExecuteTime": {
     "end_time": "2020-04-21T02:11:35.939127Z",
     "start_time": "2020-04-21T02:11:35.906163Z"
    }
   },
   "outputs": [
    {
     "data": {
      "text/latex": [
       "$\\displaystyle - (\\sin{\\left(x \\right)} \\cos{\\left(x + y \\right)} + \\sin{\\left(x + y \\right)} \\cos{\\left(x \\right)})$"
      ],
      "text/plain": [
       "-(sin(x)*cos(x + y) + sin(x + y)*cos(x))"
      ]
     },
     "execution_count": 63,
     "metadata": {},
     "output_type": "execute_result"
    }
   ],
   "source": [
    "diff(sin(x) *cos(x + y), x, y)"
   ]
  },
  {
   "cell_type": "code",
   "execution_count": 64,
   "metadata": {
    "ExecuteTime": {
     "end_time": "2020-04-21T02:11:46.527337Z",
     "start_time": "2020-04-21T02:11:46.519339Z"
    }
   },
   "outputs": [
    {
     "data": {
      "text/latex": [
       "$\\displaystyle \\frac{1}{x^{2} + 1}$"
      ],
      "text/plain": [
       "1/(x**2 + 1)"
      ]
     },
     "execution_count": 64,
     "metadata": {},
     "output_type": "execute_result"
    }
   ],
   "source": [
    "diff(atan(x), x)"
   ]
  },
  {
   "cell_type": "code",
   "execution_count": 65,
   "metadata": {
    "ExecuteTime": {
     "end_time": "2020-04-21T02:11:58.499943Z",
     "start_time": "2020-04-21T02:11:58.234025Z"
    }
   },
   "outputs": [
    {
     "data": {
      "text/latex": [
       "$\\displaystyle \\frac{\\left(\\tan{\\left(x \\right)} - 1\\right) \\sec{\\left(x \\right)}}{\\left(\\tan{\\left(x \\right)} + 1\\right)^{2}}$"
      ],
      "text/plain": [
       "(tan(x) - 1)*sec(x)/(tan(x) + 1)**2"
      ]
     },
     "execution_count": 65,
     "metadata": {},
     "output_type": "execute_result"
    }
   ],
   "source": [
    "diff(sec(x)/(1 + tan(x)), x).simplify()"
   ]
  },
  {
   "cell_type": "code",
   "execution_count": 67,
   "metadata": {
    "ExecuteTime": {
     "end_time": "2020-04-21T02:12:09.771558Z",
     "start_time": "2020-04-21T02:12:09.757557Z"
    }
   },
   "outputs": [
    {
     "data": {
      "text/latex": [
       "$\\displaystyle \\frac{d^{n}}{d x^{n}} \\cos{\\left(3 x + 5 \\right)}$"
      ],
      "text/plain": [
       "Derivative(cos(3*x + 5), (x, n))"
      ]
     },
     "execution_count": 67,
     "metadata": {},
     "output_type": "execute_result"
    }
   ],
   "source": [
    "diff(cos(3 *x + 5), (x, n))"
   ]
  },
  {
   "cell_type": "code",
   "execution_count": 69,
   "metadata": {
    "ExecuteTime": {
     "end_time": "2020-04-21T02:12:33.258418Z",
     "start_time": "2020-04-21T02:12:33.242418Z"
    }
   },
   "outputs": [
    {
     "data": {
      "text/latex": [
       "$\\displaystyle 2 \\left(x \\left(2 x + 5\\right) + 1\\right) e^{x^{2}}$"
      ],
      "text/plain": [
       "2*(x*(2*x + 5) + 1)*exp(x**2)"
      ]
     },
     "execution_count": 69,
     "metadata": {},
     "output_type": "execute_result"
    }
   ],
   "source": [
    "together(diff((2 *x + 5) *E**(x**2), x))"
   ]
  },
  {
   "cell_type": "code",
   "execution_count": 70,
   "metadata": {
    "ExecuteTime": {
     "end_time": "2020-04-21T02:12:48.466136Z",
     "start_time": "2020-04-21T02:12:48.443177Z"
    }
   },
   "outputs": [
    {
     "data": {
      "text/latex": [
       "$\\displaystyle - \\frac{6}{\\left(x - 5\\right) \\left(x + 1\\right)}$"
      ],
      "text/plain": [
       "-6/((x - 5)*(x + 1))"
      ]
     },
     "execution_count": 70,
     "metadata": {},
     "output_type": "execute_result"
    }
   ],
   "source": [
    "together(diff(log((x + 1)/(x - 5)), x))"
   ]
  },
  {
   "cell_type": "code",
   "execution_count": 71,
   "metadata": {
    "ExecuteTime": {
     "end_time": "2020-04-21T02:13:05.221490Z",
     "start_time": "2020-04-21T02:13:05.193451Z"
    }
   },
   "outputs": [
    {
     "data": {
      "text/latex": [
       "$\\displaystyle \\left(x^{x} x^{x^{x}} \\left(x \\left(\\log{\\left(x \\right)} + 1\\right) \\log{\\left(x \\right)} + 1\\right) + 1\\right) e^{x^{x^{x}}}$"
      ],
      "text/plain": [
       "(x**x*x**(x**x)*(x*(log(x) + 1)*log(x) + 1) + 1)*exp(x**(x**x))"
      ]
     },
     "execution_count": 71,
     "metadata": {},
     "output_type": "execute_result"
    }
   ],
   "source": [
    "together(diff(x *E**(x**x**x), x) )"
   ]
  },
  {
   "cell_type": "code",
   "execution_count": 72,
   "metadata": {
    "ExecuteTime": {
     "end_time": "2020-04-21T02:13:16.673017Z",
     "start_time": "2020-04-21T02:13:16.623021Z"
    }
   },
   "outputs": [
    {
     "data": {
      "text/latex": [
       "$\\displaystyle 2 x \\cosh{\\left(x^{2} \\right)}$"
      ],
      "text/plain": [
       "2*x*cosh(x**2)"
      ]
     },
     "execution_count": 72,
     "metadata": {},
     "output_type": "execute_result"
    }
   ],
   "source": [
    "diff(sinh(x**2), x)"
   ]
  },
  {
   "cell_type": "code",
   "execution_count": 73,
   "metadata": {
    "ExecuteTime": {
     "end_time": "2020-04-21T02:13:23.274512Z",
     "start_time": "2020-04-21T02:13:23.253512Z"
    }
   },
   "outputs": [
    {
     "data": {
      "text/latex": [
       "$\\displaystyle \\frac{2 x}{\\left(x^{2} - 1\\right)^{2}}$"
      ],
      "text/plain": [
       "2*x/(x**2 - 1)**2"
      ]
     },
     "execution_count": 73,
     "metadata": {},
     "output_type": "execute_result"
    }
   ],
   "source": [
    "diff(acoth(x), (x, 2))"
   ]
  },
  {
   "cell_type": "code",
   "execution_count": 74,
   "metadata": {
    "ExecuteTime": {
     "end_time": "2020-04-21T02:13:36.123170Z",
     "start_time": "2020-04-21T02:13:36.111168Z"
    }
   },
   "outputs": [
    {
     "data": {
      "text/latex": [
       "$\\displaystyle \\operatorname{polygamma}{\\left(0,x \\right)}$"
      ],
      "text/plain": [
       "polygamma(0, x)"
      ]
     },
     "execution_count": 74,
     "metadata": {},
     "output_type": "execute_result"
    }
   ],
   "source": [
    "diff(log(gamma(x)), x)"
   ]
  },
  {
   "cell_type": "code",
   "execution_count": 75,
   "metadata": {
    "ExecuteTime": {
     "end_time": "2020-04-21T02:13:43.653469Z",
     "start_time": "2020-04-21T02:13:43.609496Z"
    }
   },
   "outputs": [
    {
     "data": {
      "text/latex": [
       "$\\displaystyle x^{3} Ai^\\prime\\left(x\\right) + 9 x^{2} Ai\\left(x\\right) + 10 Ai^\\prime\\left(x\\right)$"
      ],
      "text/plain": [
       "x**3*airyaiprime(x) + 9*x**2*airyai(x) + 10*airyaiprime(x)"
      ]
     },
     "execution_count": 75,
     "metadata": {},
     "output_type": "execute_result"
    }
   ],
   "source": [
    "diff(airyai(x), (x, 7))"
   ]
  },
  {
   "cell_type": "code",
   "execution_count": 77,
   "metadata": {
    "ExecuteTime": {
     "end_time": "2020-04-21T02:13:58.890598Z",
     "start_time": "2020-04-21T02:13:58.878603Z"
    }
   },
   "outputs": [
    {
     "data": {
      "text/latex": [
       "$\\displaystyle \\left(x + 1\\right) \\cos{\\left(x \\right)} Bi^\\prime\\left(\\sin{\\left(x \\right)}\\right) + Bi\\left(\\sin{\\left(x \\right)}\\right)$"
      ],
      "text/plain": [
       "(x + 1)*cos(x)*airybiprime(sin(x)) + airybi(sin(x))"
      ]
     },
     "execution_count": 77,
     "metadata": {},
     "output_type": "execute_result"
    }
   ],
   "source": [
    "diff((x + 1)* airybi(sin(x)), x)"
   ]
  },
  {
   "cell_type": "code",
   "execution_count": 79,
   "metadata": {
    "ExecuteTime": {
     "end_time": "2020-04-21T02:14:47.462574Z",
     "start_time": "2020-04-21T02:14:47.456569Z"
    }
   },
   "outputs": [
    {
     "data": {
      "text/latex": [
       "$\\displaystyle \\frac{d}{d x} \\zeta\\left(x\\right)$"
      ],
      "text/plain": [
       "Derivative(zeta(x), x)"
      ]
     },
     "execution_count": 79,
     "metadata": {},
     "output_type": "execute_result"
    }
   ],
   "source": [
    "der = diff(zeta(x), x)\n",
    "der"
   ]
  },
  {
   "cell_type": "code",
   "execution_count": 80,
   "metadata": {
    "ExecuteTime": {
     "end_time": "2020-04-21T02:15:06.213539Z",
     "start_time": "2020-04-21T02:15:06.204501Z"
    }
   },
   "outputs": [
    {
     "data": {
      "text/latex": [
       "$\\displaystyle \\left. \\frac{d}{d x} \\zeta\\left(x\\right) \\right|_{\\substack{ x=0 }}$"
      ],
      "text/plain": [
       "Subs(Derivative(zeta(x), x), x, 0)"
      ]
     },
     "execution_count": 80,
     "metadata": {},
     "output_type": "execute_result"
    }
   ],
   "source": [
    "der .subs( x , 0)"
   ]
  },
  {
   "cell_type": "code",
   "execution_count": 81,
   "metadata": {
    "ExecuteTime": {
     "end_time": "2020-04-21T02:15:23.650320Z",
     "start_time": "2020-04-21T02:15:23.640364Z"
    }
   },
   "outputs": [
    {
     "ename": "NameError",
     "evalue": "name 'ellipticf' is not defined",
     "output_type": "error",
     "traceback": [
      "\u001b[1;31m---------------------------------------------------------------------------\u001b[0m",
      "\u001b[1;31mNameError\u001b[0m                                 Traceback (most recent call last)",
      "\u001b[1;32m<ipython-input-81-841a91d6ddcb>\u001b[0m in \u001b[0;36m<module>\u001b[1;34m\u001b[0m\n\u001b[1;32m----> 1\u001b[1;33m \u001b[0mdiff\u001b[0m\u001b[1;33m(\u001b[0m\u001b[0mellipticf\u001b[0m\u001b[1;33m(\u001b[0m\u001b[0mx\u001b[0m\u001b[1;33m,\u001b[0m \u001b[0mm\u001b[0m\u001b[1;33m)\u001b[0m\u001b[1;33m,\u001b[0m \u001b[0mx\u001b[0m\u001b[1;33m)\u001b[0m\u001b[1;33m\u001b[0m\u001b[0m\n\u001b[0m",
      "\u001b[1;31mNameError\u001b[0m: name 'ellipticf' is not defined"
     ]
    }
   ],
   "source": [
    "diff(ellipticf(x, m), x)"
   ]
  },
  {
   "cell_type": "code",
   "execution_count": 82,
   "metadata": {
    "ExecuteTime": {
     "end_time": "2020-04-21T02:15:32.967474Z",
     "start_time": "2020-04-21T02:15:32.957476Z"
    }
   },
   "outputs": [
    {
     "data": {
      "text/latex": [
       "$\\displaystyle \\frac{4 x e^{- x^{4}}}{\\sqrt{\\pi}}$"
      ],
      "text/plain": [
       "4*x*exp(-x**4)/sqrt(pi)"
      ]
     },
     "execution_count": 82,
     "metadata": {},
     "output_type": "execute_result"
    }
   ],
   "source": [
    "diff(erf(x**2), x)"
   ]
  },
  {
   "cell_type": "code",
   "execution_count": 83,
   "metadata": {
    "ExecuteTime": {
     "end_time": "2020-04-21T02:15:39.276193Z",
     "start_time": "2020-04-21T02:15:39.258192Z"
    }
   },
   "outputs": [
    {
     "data": {
      "text/latex": [
       "$\\displaystyle \\frac{J_{n - 1}\\left(x\\right)}{2} - \\frac{J_{n + 1}\\left(x\\right)}{2}$"
      ],
      "text/plain": [
       "besselj(n - 1, x)/2 - besselj(n + 1, x)/2"
      ]
     },
     "execution_count": 83,
     "metadata": {},
     "output_type": "execute_result"
    }
   ],
   "source": [
    "diff(besselj(n, x), x)"
   ]
  },
  {
   "cell_type": "code",
   "execution_count": 84,
   "metadata": {
    "ExecuteTime": {
     "end_time": "2020-04-21T02:15:45.137017Z",
     "start_time": "2020-04-21T02:15:45.123987Z"
    }
   },
   "outputs": [
    {
     "ename": "NameError",
     "evalue": "name 'gegenbauerc' is not defined",
     "output_type": "error",
     "traceback": [
      "\u001b[1;31m---------------------------------------------------------------------------\u001b[0m",
      "\u001b[1;31mNameError\u001b[0m                                 Traceback (most recent call last)",
      "\u001b[1;32m<ipython-input-84-a92dc503833d>\u001b[0m in \u001b[0;36m<module>\u001b[1;34m\u001b[0m\n\u001b[1;32m----> 1\u001b[1;33m \u001b[0mdiff\u001b[0m\u001b[1;33m(\u001b[0m\u001b[0mgegenbauerc\u001b[0m\u001b[1;33m(\u001b[0m\u001b[0mn\u001b[0m\u001b[1;33m,\u001b[0m \u001b[0mm\u001b[0m\u001b[1;33m,\u001b[0m \u001b[0mx\u001b[0m\u001b[1;33m)\u001b[0m\u001b[1;33m,\u001b[0m \u001b[0mx\u001b[0m\u001b[1;33m)\u001b[0m\u001b[1;33m\u001b[0m\u001b[0m\n\u001b[0m",
      "\u001b[1;31mNameError\u001b[0m: name 'gegenbauerc' is not defined"
     ]
    }
   ],
   "source": [
    "diff(gegenbauerc(n, m, x), x)"
   ]
  },
  {
   "cell_type": "code",
   "execution_count": 86,
   "metadata": {
    "ExecuteTime": {
     "end_time": "2020-04-21T02:16:06.093548Z",
     "start_time": "2020-04-21T02:16:06.074498Z"
    }
   },
   "outputs": [
    {
     "data": {
      "text/latex": [
       "$\\displaystyle \\frac{a b {{}_{2}F_{1}\\left(\\begin{matrix} a + 1, b + 1 \\\\ c + 1 \\end{matrix}\\middle| {x} \\right)}}{c}$"
      ],
      "text/plain": [
       "a*b*hyper((a + 1, b + 1), (c + 1,), x)/c"
      ]
     },
     "execution_count": 86,
     "metadata": {},
     "output_type": "execute_result"
    }
   ],
   "source": [
    "diff(hyper([a, b], [c], x), x)"
   ]
  },
  {
   "cell_type": "code",
   "execution_count": 87,
   "metadata": {
    "ExecuteTime": {
     "end_time": "2020-04-21T02:16:29.369251Z",
     "start_time": "2020-04-21T02:16:29.354291Z"
    }
   },
   "outputs": [
    {
     "ename": "NameError",
     "evalue": "name 'jacobisn' is not defined",
     "output_type": "error",
     "traceback": [
      "\u001b[1;31m---------------------------------------------------------------------------\u001b[0m",
      "\u001b[1;31mNameError\u001b[0m                                 Traceback (most recent call last)",
      "\u001b[1;32m<ipython-input-87-94ba46804110>\u001b[0m in \u001b[0;36m<module>\u001b[1;34m\u001b[0m\n\u001b[1;32m----> 1\u001b[1;33m \u001b[0mdiff\u001b[0m\u001b[1;33m(\u001b[0m\u001b[0mjacobisn\u001b[0m\u001b[1;33m(\u001b[0m\u001b[0mx\u001b[0m\u001b[1;33m,\u001b[0m \u001b[0mm\u001b[0m\u001b[1;33m)\u001b[0m\u001b[1;33m**\u001b[0m\u001b[1;36m2\u001b[0m\u001b[1;33m,\u001b[0m \u001b[0mx\u001b[0m\u001b[1;33m)\u001b[0m\u001b[1;33m\u001b[0m\u001b[0m\n\u001b[0m",
      "\u001b[1;31mNameError\u001b[0m: name 'jacobisn' is not defined"
     ]
    }
   ],
   "source": [
    "diff(jacobisn(x, m)**2, x)"
   ]
  },
  {
   "cell_type": "code",
   "execution_count": 88,
   "metadata": {
    "ExecuteTime": {
     "end_time": "2020-04-21T02:16:35.785068Z",
     "start_time": "2020-04-21T02:16:35.770069Z"
    }
   },
   "outputs": [
    {
     "ename": "NameError",
     "evalue": "name 'jacobicdiff' is not defined",
     "output_type": "error",
     "traceback": [
      "\u001b[1;31m---------------------------------------------------------------------------\u001b[0m",
      "\u001b[1;31mNameError\u001b[0m                                 Traceback (most recent call last)",
      "\u001b[1;32m<ipython-input-88-26dbf4d32a86>\u001b[0m in \u001b[0;36m<module>\u001b[1;34m\u001b[0m\n\u001b[1;32m----> 1\u001b[1;33m \u001b[0mdiff\u001b[0m\u001b[1;33m(\u001b[0m\u001b[0mjacobicdiff\u001b[0m\u001b[1;33m(\u001b[0m\u001b[0mx\u001b[0m\u001b[1;33m,\u001b[0m \u001b[0mm\u001b[0m\u001b[1;33m)\u001b[0m\u001b[1;33m,\u001b[0m \u001b[0mx\u001b[0m\u001b[1;33m)\u001b[0m\u001b[1;33m\u001b[0m\u001b[0m\n\u001b[0m",
      "\u001b[1;31mNameError\u001b[0m: name 'jacobicdiff' is not defined"
     ]
    }
   ],
   "source": [
    "diff(jacobicdiff(x, m), x)"
   ]
  },
  {
   "cell_type": "code",
   "execution_count": 93,
   "metadata": {
    "ExecuteTime": {
     "end_time": "2020-04-21T02:17:25.353579Z",
     "start_time": "2020-04-21T02:17:25.347547Z"
    }
   },
   "outputs": [
    {
     "data": {
      "text/latex": [
       "$\\displaystyle \\frac{1}{\\log{\\left(x \\right)}}$"
      ],
      "text/plain": [
       "1/log(x)"
      ]
     },
     "execution_count": 93,
     "metadata": {},
     "output_type": "execute_result"
    }
   ],
   "source": [
    "diff(li(x), x)"
   ]
  },
  {
   "cell_type": "code",
   "execution_count": 91,
   "metadata": {
    "ExecuteTime": {
     "end_time": "2020-04-21T02:17:02.186809Z",
     "start_time": "2020-04-21T02:17:02.178831Z"
    }
   },
   "outputs": [
    {
     "data": {
      "text/latex": [
       "$\\displaystyle \\frac{e^{x}}{x}$"
      ],
      "text/plain": [
       "exp(x)/x"
      ]
     },
     "execution_count": 91,
     "metadata": {},
     "output_type": "execute_result"
    }
   ],
   "source": [
    "diff(Ei(x), x)"
   ]
  },
  {
   "cell_type": "code",
   "execution_count": 95,
   "metadata": {
    "ExecuteTime": {
     "end_time": "2020-04-21T02:17:44.297985Z",
     "start_time": "2020-04-21T02:17:44.289979Z"
    }
   },
   "outputs": [
    {
     "data": {
      "text/latex": [
       "$\\displaystyle \\frac{d^{n}}{d x^{n}} \\operatorname{Si}{\\left(x \\right)}$"
      ],
      "text/plain": [
       "Derivative(Si(x), (x, n))"
      ]
     },
     "execution_count": 95,
     "metadata": {},
     "output_type": "execute_result"
    }
   ],
   "source": [
    "diff(Si(x), (x, n))"
   ]
  },
  {
   "cell_type": "code",
   "execution_count": 96,
   "metadata": {
    "ExecuteTime": {
     "end_time": "2020-04-21T02:18:52.198202Z",
     "start_time": "2020-04-21T02:18:52.148209Z"
    }
   },
   "outputs": [
    {
     "data": {
      "text/latex": [
       "$\\displaystyle 2 x \\theta\\left(x^{2} - x\\right) + \\theta\\left(- x^{2} + x\\right)$"
      ],
      "text/plain": [
       "2*x*Heaviside(x**2 - x) + Heaviside(-x**2 + x)"
      ]
     },
     "execution_count": 96,
     "metadata": {},
     "output_type": "execute_result"
    }
   ],
   "source": [
    "diff(Max(x, x**2), x)"
   ]
  },
  {
   "cell_type": "code",
   "execution_count": 97,
   "metadata": {
    "ExecuteTime": {
     "end_time": "2020-04-21T02:19:36.021554Z",
     "start_time": "2020-04-21T02:19:36.011544Z"
    }
   },
   "outputs": [
    {
     "ename": "NameError",
     "evalue": "name 'heavisidetheta' is not defined",
     "output_type": "error",
     "traceback": [
      "\u001b[1;31m---------------------------------------------------------------------------\u001b[0m",
      "\u001b[1;31mNameError\u001b[0m                                 Traceback (most recent call last)",
      "\u001b[1;32m<ipython-input-97-e5224026799d>\u001b[0m in \u001b[0;36m<module>\u001b[1;34m\u001b[0m\n\u001b[1;32m----> 1\u001b[1;33m \u001b[0mdiff\u001b[0m\u001b[1;33m(\u001b[0m\u001b[0mheavisidetheta\u001b[0m\u001b[1;33m(\u001b[0m\u001b[0mx\u001b[0m\u001b[1;33m)\u001b[0m\u001b[1;33m,\u001b[0m \u001b[0mx\u001b[0m\u001b[1;33m)\u001b[0m\u001b[1;33m\u001b[0m\u001b[0m\n\u001b[0m",
      "\u001b[1;31mNameError\u001b[0m: name 'heavisidetheta' is not defined"
     ]
    }
   ],
   "source": [
    "diff(heavisidetheta(x), x)"
   ]
  },
  {
   "cell_type": "code",
   "execution_count": 100,
   "metadata": {
    "ExecuteTime": {
     "end_time": "2020-04-21T02:19:58.938538Z",
     "start_time": "2020-04-21T02:19:58.920517Z"
    }
   },
   "outputs": [
    {
     "ename": "NameError",
     "evalue": "name 'heavisidetheta' is not defined",
     "output_type": "error",
     "traceback": [
      "\u001b[1;31m---------------------------------------------------------------------------\u001b[0m",
      "\u001b[1;31mNameError\u001b[0m                                 Traceback (most recent call last)",
      "\u001b[1;32m<ipython-input-100-ebc31e76a620>\u001b[0m in \u001b[0;36m<module>\u001b[1;34m\u001b[0m\n\u001b[1;32m----> 1\u001b[1;33m \u001b[0mdiff\u001b[0m\u001b[1;33m(\u001b[0m\u001b[0mx\u001b[0m\u001b[1;33m*\u001b[0m \u001b[0mheavisidetheta\u001b[0m\u001b[1;33m(\u001b[0m\u001b[0mx\u001b[0m \u001b[1;33m-\u001b[0m \u001b[1;36m2\u001b[0m\u001b[1;33m)\u001b[0m\u001b[1;33m,\u001b[0m \u001b[0mx\u001b[0m\u001b[1;33m)\u001b[0m\u001b[1;33m\u001b[0m\u001b[0m\n\u001b[0m",
      "\u001b[1;31mNameError\u001b[0m: name 'heavisidetheta' is not defined"
     ]
    }
   ],
   "source": [
    "diff(x* heavisidetheta(x - 2), x)"
   ]
  },
  {
   "cell_type": "code",
   "execution_count": 101,
   "metadata": {
    "ExecuteTime": {
     "end_time": "2020-04-21T02:20:01.378230Z",
     "start_time": "2020-04-21T02:20:01.366275Z"
    }
   },
   "outputs": [
    {
     "ename": "NameError",
     "evalue": "name 'heavisidepi' is not defined",
     "output_type": "error",
     "traceback": [
      "\u001b[1;31m---------------------------------------------------------------------------\u001b[0m",
      "\u001b[1;31mNameError\u001b[0m                                 Traceback (most recent call last)",
      "\u001b[1;32m<ipython-input-101-42373c6f6d4c>\u001b[0m in \u001b[0;36m<module>\u001b[1;34m\u001b[0m\n\u001b[1;32m----> 1\u001b[1;33m \u001b[0mdiff\u001b[0m\u001b[1;33m(\u001b[0m\u001b[0mx\u001b[0m\u001b[1;33m*\u001b[0m \u001b[0mheavisidepi\u001b[0m\u001b[1;33m(\u001b[0m\u001b[0mx\u001b[0m\u001b[1;33m)\u001b[0m\u001b[1;33m,\u001b[0m \u001b[0mx\u001b[0m\u001b[1;33m)\u001b[0m\u001b[1;33m\u001b[0m\u001b[0m\n\u001b[0m",
      "\u001b[1;31mNameError\u001b[0m: name 'heavisidepi' is not defined"
     ]
    }
   ],
   "source": [
    "diff(x* heavisidepi(x), x)"
   ]
  },
  {
   "cell_type": "code",
   "execution_count": 104,
   "metadata": {
    "ExecuteTime": {
     "end_time": "2020-04-21T02:20:45.530821Z",
     "start_time": "2020-04-21T02:20:45.514818Z"
    }
   },
   "outputs": [
    {
     "data": {
      "text/latex": [
       "$\\displaystyle \\operatorname{sign}{\\left(\\operatorname{re}{\\left(x\\right)} \\right)} \\frac{d}{d x} \\operatorname{re}{\\left(x\\right)}$"
      ],
      "text/plain": [
       "sign(re(x))*Derivative(re(x), x)"
      ]
     },
     "execution_count": 104,
     "metadata": {},
     "output_type": "execute_result"
    }
   ],
   "source": [
    "diff(Abs(re(x)), x).simplify()"
   ]
  },
  {
   "cell_type": "code",
   "execution_count": 105,
   "metadata": {
    "ExecuteTime": {
     "end_time": "2020-04-21T02:21:00.055466Z",
     "start_time": "2020-04-21T02:21:00.049461Z"
    }
   },
   "outputs": [
    {
     "data": {
      "text/latex": [
       "$\\displaystyle \\frac{d}{d x} \\operatorname{sign}{\\left(x \\right)}$"
      ],
      "text/plain": [
       "Derivative(sign(x), x)"
      ]
     },
     "execution_count": 105,
     "metadata": {},
     "output_type": "execute_result"
    }
   ],
   "source": [
    "diff(sign(x), x)"
   ]
  },
  {
   "cell_type": "code",
   "execution_count": 106,
   "metadata": {
    "ExecuteTime": {
     "end_time": "2020-04-21T02:21:11.607663Z",
     "start_time": "2020-04-21T02:21:11.599705Z"
    }
   },
   "outputs": [
    {
     "data": {
      "text/latex": [
       "$\\displaystyle \\frac{d}{d x} \\left\\lfloor{x}\\right\\rfloor$"
      ],
      "text/plain": [
       "Derivative(floor(x), x)"
      ]
     },
     "execution_count": 106,
     "metadata": {},
     "output_type": "execute_result"
    }
   ],
   "source": [
    "diff(floor(x), x)"
   ]
  },
  {
   "cell_type": "code",
   "execution_count": 107,
   "metadata": {
    "ExecuteTime": {
     "end_time": "2020-04-21T02:21:18.603108Z",
     "start_time": "2020-04-21T02:21:18.596072Z"
    }
   },
   "outputs": [
    {
     "data": {
      "text/latex": [
       "$\\displaystyle \\frac{d}{d x} \\left\\lceil{x}\\right\\rceil$"
      ],
      "text/plain": [
       "Derivative(ceiling(x), x)"
      ]
     },
     "execution_count": 107,
     "metadata": {},
     "output_type": "execute_result"
    }
   ],
   "source": [
    "diff(ceiling(x), x)"
   ]
  },
  {
   "cell_type": "code",
   "execution_count": 112,
   "metadata": {
    "ExecuteTime": {
     "end_time": "2020-04-21T02:23:31.414085Z",
     "start_time": "2020-04-21T02:23:31.399107Z"
    }
   },
   "outputs": [
    {
     "data": {
      "text/latex": [
       "$\\displaystyle \\emptyset$"
      ],
      "text/plain": [
       "EmptySet"
      ]
     },
     "execution_count": 112,
     "metadata": {},
     "output_type": "execute_result"
    }
   ],
   "source": [
    "y=Function(\"y\")\n",
    "eqn = Eq(y(x)**2 + 3 *y(x) , x**2 + 1)\n",
    "solveset(diff(eqn, x), y(x).diff(x))"
   ]
  },
  {
   "cell_type": "code",
   "execution_count": 113,
   "metadata": {
    "ExecuteTime": {
     "end_time": "2020-04-21T02:24:24.197317Z",
     "start_time": "2020-04-21T02:24:24.034313Z"
    }
   },
   "outputs": [
    {
     "data": {
      "text/latex": [
       "$\\displaystyle f{\\left(x \\right)}$"
      ],
      "text/plain": [
       "f(x)"
      ]
     },
     "execution_count": 113,
     "metadata": {},
     "output_type": "execute_result"
    }
   ],
   "source": [
    "diff(integrate(f(x), x), x)"
   ]
  },
  {
   "cell_type": "code",
   "execution_count": 114,
   "metadata": {
    "ExecuteTime": {
     "end_time": "2020-04-21T02:24:31.549439Z",
     "start_time": "2020-04-21T02:24:31.401348Z"
    }
   },
   "outputs": [
    {
     "data": {
      "text/latex": [
       "$\\displaystyle f{\\left(x \\right)}$"
      ],
      "text/plain": [
       "f(x)"
      ]
     },
     "execution_count": 114,
     "metadata": {},
     "output_type": "execute_result"
    }
   ],
   "source": [
    "diff(integrate(f(t), (t, 1, x)), x)"
   ]
  },
  {
   "cell_type": "code",
   "execution_count": 115,
   "metadata": {
    "ExecuteTime": {
     "end_time": "2020-04-21T02:24:38.838901Z",
     "start_time": "2020-04-21T02:24:38.722906Z"
    }
   },
   "outputs": [
    {
     "data": {
      "text/latex": [
       "$\\displaystyle \\int\\limits_{1}^{x} \\frac{\\partial}{\\partial a} f{\\left(t,a \\right)}\\, dt$"
      ],
      "text/plain": [
       "Integral(Derivative(f(t, a), a), (t, 1, x))"
      ]
     },
     "execution_count": 115,
     "metadata": {},
     "output_type": "execute_result"
    }
   ],
   "source": [
    "diff(integrate(f(t, a), (t, 1, x)), a)"
   ]
  },
  {
   "cell_type": "code",
   "execution_count": 116,
   "metadata": {
    "ExecuteTime": {
     "end_time": "2020-04-21T02:25:08.496491Z",
     "start_time": "2020-04-21T02:25:08.485496Z"
    }
   },
   "outputs": [
    {
     "data": {
      "text/latex": [
       "$\\displaystyle \\frac{d}{d \\omega} \\mathcal{F}_{t}\\left[f{\\left(t \\right)}\\right]\\left(\\omega\\right)$"
      ],
      "text/plain": [
       "Derivative(FourierTransform(f(t), t, omega), omega)"
      ]
     },
     "execution_count": 116,
     "metadata": {},
     "output_type": "execute_result"
    }
   ],
   "source": [
    "diff(fourier_transform(f(t), t, omega),omega)"
   ]
  },
  {
   "cell_type": "code",
   "execution_count": 117,
   "metadata": {
    "ExecuteTime": {
     "end_time": "2020-04-21T02:25:38.544573Z",
     "start_time": "2020-04-21T02:25:38.536617Z"
    }
   },
   "outputs": [
    {
     "data": {
      "text/latex": [
       "$\\displaystyle \\frac{d}{d t} \\mathcal{F}^{-1}_{\\omega}\\left[f{\\left(\\omega \\right)}\\right]\\left(t\\right)$"
      ],
      "text/plain": [
       "Derivative(InverseFourierTransform(f(omega), omega, t), t)"
      ]
     },
     "execution_count": 117,
     "metadata": {},
     "output_type": "execute_result"
    }
   ],
   "source": [
    "diff(inverse_fourier_transform(f(omega),omega, t), t)"
   ]
  },
  {
   "cell_type": "code",
   "execution_count": 119,
   "metadata": {
    "ExecuteTime": {
     "end_time": "2020-04-21T02:26:41.172117Z",
     "start_time": "2020-04-21T02:26:41.159116Z"
    }
   },
   "outputs": [
    {
     "ename": "NameError",
     "evalue": "name 'fourier_cos_transform' is not defined",
     "output_type": "error",
     "traceback": [
      "\u001b[1;31m---------------------------------------------------------------------------\u001b[0m",
      "\u001b[1;31mNameError\u001b[0m                                 Traceback (most recent call last)",
      "\u001b[1;32m<ipython-input-119-9b4e9ce93c29>\u001b[0m in \u001b[0;36m<module>\u001b[1;34m\u001b[0m\n\u001b[1;32m----> 1\u001b[1;33m \u001b[0mdiff\u001b[0m\u001b[1;33m(\u001b[0m\u001b[0mfourier_cos_transform\u001b[0m\u001b[1;33m(\u001b[0m\u001b[0mf\u001b[0m\u001b[1;33m(\u001b[0m\u001b[0mt\u001b[0m\u001b[1;33m)\u001b[0m\u001b[1;33m,\u001b[0m \u001b[0mt\u001b[0m\u001b[1;33m,\u001b[0m \u001b[0momega\u001b[0m\u001b[1;33m)\u001b[0m\u001b[1;33m,\u001b[0m \u001b[0momega\u001b[0m\u001b[1;33m)\u001b[0m\u001b[1;33m\u001b[0m\u001b[0m\n\u001b[0m",
      "\u001b[1;31mNameError\u001b[0m: name 'fourier_cos_transform' is not defined"
     ]
    }
   ],
   "source": [
    "diff(fourier_cos_transform(f(t), t, omega), omega)"
   ]
  },
  {
   "cell_type": "code",
   "execution_count": 122,
   "metadata": {
    "ExecuteTime": {
     "end_time": "2020-04-21T02:27:24.147644Z",
     "start_time": "2020-04-21T02:27:23.783505Z"
    }
   },
   "outputs": [
    {
     "data": {
      "text/latex": [
       "$\\displaystyle \\frac{d}{d s} \\mathcal{L}_{t}\\left[\\Gamma\\left(t\\right)\\right]\\left(s\\right)$"
      ],
      "text/plain": [
       "Derivative(LaplaceTransform(gamma(t), t, s), s)"
      ]
     },
     "execution_count": 122,
     "metadata": {},
     "output_type": "execute_result"
    }
   ],
   "source": [
    "diff(laplace_transform(gamma(t), t, s),s)"
   ]
  },
  {
   "cell_type": "code",
   "execution_count": 124,
   "metadata": {
    "ExecuteTime": {
     "end_time": "2020-04-21T02:28:28.224236Z",
     "start_time": "2020-04-21T02:28:27.861268Z"
    }
   },
   "outputs": [
    {
     "data": {
      "text/latex": [
       "$\\displaystyle 0$"
      ],
      "text/plain": [
       "0"
      ]
     },
     "execution_count": 124,
     "metadata": {},
     "output_type": "execute_result"
    }
   ],
   "source": [
    "diff(laplace_transform(gamma(t), t, s), t)"
   ]
  },
  {
   "cell_type": "code",
   "execution_count": 126,
   "metadata": {
    "ExecuteTime": {
     "end_time": "2020-04-21T02:28:45.038529Z",
     "start_time": "2020-04-21T02:28:44.609366Z"
    }
   },
   "outputs": [
    {
     "data": {
      "text/latex": [
       "$\\displaystyle e^{- t} e^{- e^{- t}}$"
      ],
      "text/plain": [
       "exp(-t)*exp(-exp(-t))"
      ]
     },
     "execution_count": 126,
     "metadata": {},
     "output_type": "execute_result"
    }
   ],
   "source": [
    "diff(inverse_laplace_transform(gamma(s), s, t), t)"
   ]
  },
  {
   "cell_type": "code",
   "execution_count": 127,
   "metadata": {
    "ExecuteTime": {
     "end_time": "2020-04-21T02:29:59.996765Z",
     "start_time": "2020-04-21T02:29:59.984759Z"
    }
   },
   "outputs": [
    {
     "ename": "NameError",
     "evalue": "name 'convolve' is not defined",
     "output_type": "error",
     "traceback": [
      "\u001b[1;31m---------------------------------------------------------------------------\u001b[0m",
      "\u001b[1;31mNameError\u001b[0m                                 Traceback (most recent call last)",
      "\u001b[1;32m<ipython-input-127-6c4f21dea3a0>\u001b[0m in \u001b[0;36m<module>\u001b[1;34m\u001b[0m\n\u001b[1;32m----> 1\u001b[1;33m \u001b[0mdiff\u001b[0m\u001b[1;33m(\u001b[0m\u001b[0mconvolve\u001b[0m\u001b[1;33m(\u001b[0m\u001b[0mf\u001b[0m\u001b[1;33m(\u001b[0m\u001b[0mx\u001b[0m\u001b[1;33m)\u001b[0m\u001b[1;33m,\u001b[0m \u001b[0mg\u001b[0m\u001b[1;33m(\u001b[0m\u001b[0mx\u001b[0m\u001b[1;33m)\u001b[0m\u001b[1;33m,\u001b[0m \u001b[0mx\u001b[0m\u001b[1;33m,\u001b[0m \u001b[0my\u001b[0m\u001b[1;33m)\u001b[0m\u001b[1;33m,\u001b[0m \u001b[0my\u001b[0m\u001b[1;33m)\u001b[0m\u001b[1;33m\u001b[0m\u001b[0m\n\u001b[0m",
      "\u001b[1;31mNameError\u001b[0m: name 'convolve' is not defined"
     ]
    }
   ],
   "source": [
    "diff(convolve(f(x), g(x), x, y), y)"
   ]
  },
  {
   "cell_type": "code",
   "execution_count": 129,
   "metadata": {
    "ExecuteTime": {
     "end_time": "2020-04-21T02:30:26.105046Z",
     "start_time": "2020-04-21T02:30:26.042046Z"
    }
   },
   "outputs": [
    {
     "data": {
      "text/latex": [
       "$\\displaystyle \\sum_{n=1}^{k} \\Gamma\\left(n x\\right)$"
      ],
      "text/plain": [
       "Sum(gamma(n*x), (n, 1, k))"
      ]
     },
     "execution_count": 129,
     "metadata": {},
     "output_type": "execute_result"
    }
   ],
   "source": [
    "summation(gamma(n* x), (n, 1, k))"
   ]
  },
  {
   "cell_type": "code",
   "execution_count": 130,
   "metadata": {
    "ExecuteTime": {
     "end_time": "2020-04-21T02:30:39.281927Z",
     "start_time": "2020-04-21T02:30:39.254966Z"
    }
   },
   "outputs": [
    {
     "data": {
      "text/latex": [
       "$\\displaystyle \\sum_{n=1}^{k} n \\Gamma\\left(n x\\right) \\operatorname{polygamma}{\\left(0,n x \\right)}$"
      ],
      "text/plain": [
       "Sum(n*gamma(n*x)*polygamma(0, n*x), (n, 1, k))"
      ]
     },
     "execution_count": 130,
     "metadata": {},
     "output_type": "execute_result"
    }
   ],
   "source": [
    "summation(gamma(n* x), (n, 1, k)).diff(x)"
   ]
  },
  {
   "cell_type": "code",
   "execution_count": 131,
   "metadata": {
    "ExecuteTime": {
     "end_time": "2020-04-21T02:31:09.911474Z",
     "start_time": "2020-04-21T02:31:09.898471Z"
    }
   },
   "outputs": [
    {
     "data": {
      "text/latex": [
       "$\\displaystyle 0$"
      ],
      "text/plain": [
       "0"
      ]
     },
     "execution_count": 131,
     "metadata": {},
     "output_type": "execute_result"
    }
   ],
   "source": [
    "diff(summation(gamma(n *x), (n, 1, k)), n)"
   ]
  },
  {
   "cell_type": "code",
   "execution_count": 132,
   "metadata": {
    "ExecuteTime": {
     "end_time": "2020-04-21T02:31:17.004741Z",
     "start_time": "2020-04-21T02:31:16.982597Z"
    }
   },
   "outputs": [
    {
     "ename": "NameError",
     "evalue": "name 'ztransform' is not defined",
     "output_type": "error",
     "traceback": [
      "\u001b[1;31m---------------------------------------------------------------------------\u001b[0m",
      "\u001b[1;31mNameError\u001b[0m                                 Traceback (most recent call last)",
      "\u001b[1;32m<ipython-input-132-eef2b0144e01>\u001b[0m in \u001b[0;36m<module>\u001b[1;34m\u001b[0m\n\u001b[1;32m----> 1\u001b[1;33m \u001b[0mdiff\u001b[0m\u001b[1;33m(\u001b[0m\u001b[0mztransform\u001b[0m\u001b[1;33m(\u001b[0m\u001b[0mf\u001b[0m\u001b[1;33m(\u001b[0m\u001b[0mn\u001b[0m\u001b[1;33m)\u001b[0m\u001b[1;33m,\u001b[0m \u001b[0mn\u001b[0m\u001b[1;33m,\u001b[0m \u001b[0mz\u001b[0m\u001b[1;33m)\u001b[0m\u001b[1;33m,\u001b[0m \u001b[0mz\u001b[0m\u001b[1;33m)\u001b[0m\u001b[1;33m\u001b[0m\u001b[0m\n\u001b[0m",
      "\u001b[1;31mNameError\u001b[0m: name 'ztransform' is not defined"
     ]
    }
   ],
   "source": [
    "diff(ztransform(f(n), n, z), z)"
   ]
  },
  {
   "cell_type": "code",
   "execution_count": 133,
   "metadata": {
    "ExecuteTime": {
     "end_time": "2020-04-21T02:31:36.569128Z",
     "start_time": "2020-04-21T02:31:36.557125Z"
    }
   },
   "outputs": [
    {
     "ename": "TypeError",
     "evalue": "'Symbol' object is not callable",
     "output_type": "error",
     "traceback": [
      "\u001b[1;31m---------------------------------------------------------------------------\u001b[0m",
      "\u001b[1;31mTypeError\u001b[0m                                 Traceback (most recent call last)",
      "\u001b[1;32m<ipython-input-133-f4dca1b76ff2>\u001b[0m in \u001b[0;36m<module>\u001b[1;34m\u001b[0m\n\u001b[1;32m----> 1\u001b[1;33m \u001b[0mdiff\u001b[0m\u001b[1;33m(\u001b[0m\u001b[0msummation\u001b[0m\u001b[1;33m(\u001b[0m\u001b[0mf\u001b[0m\u001b[1;33m(\u001b[0m\u001b[0mx\u001b[0m\u001b[1;33m(\u001b[0m\u001b[0mi\u001b[0m\u001b[1;33m)\u001b[0m\u001b[1;33m)\u001b[0m\u001b[1;33m,\u001b[0m \u001b[1;33m(\u001b[0m\u001b[0mi\u001b[0m\u001b[1;33m,\u001b[0m \u001b[1;36m1\u001b[0m\u001b[1;33m,\u001b[0m \u001b[0mn\u001b[0m\u001b[1;33m)\u001b[0m\u001b[1;33m)\u001b[0m\u001b[1;33m,\u001b[0m \u001b[0mx\u001b[0m\u001b[1;33m(\u001b[0m\u001b[0mj\u001b[0m\u001b[1;33m)\u001b[0m\u001b[1;33m)\u001b[0m\u001b[1;33m\u001b[0m\u001b[0m\n\u001b[0m",
      "\u001b[1;31mTypeError\u001b[0m: 'Symbol' object is not callable"
     ]
    }
   ],
   "source": [
    "diff(summation(f(x(i)), (i, 1, n)), x(j))"
   ]
  },
  {
   "cell_type": "code",
   "execution_count": 138,
   "metadata": {
    "ExecuteTime": {
     "end_time": "2020-04-21T02:34:36.572067Z",
     "start_time": "2020-04-21T02:34:36.350070Z"
    }
   },
   "outputs": [
    {
     "data": {
      "image/png": "[encoded data removed]",
      "text/plain": [
       "<Figure size 432x288 with 1 Axes>"
      ]
     },
     "metadata": {
      "needs_background": "light"
     },
     "output_type": "display_data"
    },
    {
     "data": {
      "text/plain": [
       "<sympy.plotting.plot.Plot at 0x1d77dc30>"
      ]
     },
     "execution_count": 138,
     "metadata": {},
     "output_type": "execute_result"
    }
   ],
   "source": [
    "f=Function(\"f\")\n",
    "f=x**3 + 3* x**2 - 3 *x - 1\n",
    "plot(f,(x,-4,2))"
   ]
  },
  {
   "cell_type": "code",
   "execution_count": 139,
   "metadata": {
    "ExecuteTime": {
     "end_time": "2020-04-21T02:34:56.885107Z",
     "start_time": "2020-04-21T02:34:56.788111Z"
    }
   },
   "outputs": [
    {
     "data": {
      "text/latex": [
       "$\\displaystyle \\left\\{-1 + \\sqrt{2}, - \\sqrt{2} - 1\\right\\}$"
      ],
      "text/plain": [
       "FiniteSet(-1 + sqrt(2), -sqrt(2) - 1)"
      ]
     },
     "execution_count": 139,
     "metadata": {},
     "output_type": "execute_result"
    }
   ],
   "source": [
    "solveset(Eq(f.diff(x),0),x)"
   ]
  },
  {
   "cell_type": "code",
   "execution_count": 140,
   "metadata": {
    "ExecuteTime": {
     "end_time": "2020-04-21T02:35:41.168671Z",
     "start_time": "2020-04-21T02:35:41.086140Z"
    }
   },
   "outputs": [
    {
     "data": {
      "text/latex": [
       "$\\displaystyle - \\frac{1}{2} + \\frac{e^{4}}{2}$"
      ],
      "text/plain": [
       "-1/2 + exp(4)/2"
      ]
     },
     "execution_count": 140,
     "metadata": {},
     "output_type": "execute_result"
    }
   ],
   "source": [
    "integrate(x* exp(x**2), (x, 0, 2))"
   ]
  },
  {
   "cell_type": "code",
   "execution_count": 142,
   "metadata": {
    "ExecuteTime": {
     "end_time": "2020-04-21T02:36:13.665610Z",
     "start_time": "2020-04-21T02:36:13.623613Z"
    }
   },
   "outputs": [
    {
     "data": {
      "text/latex": [
       "$\\displaystyle - \\frac{1}{2} + \\frac{e^{4}}{2}$"
      ],
      "text/plain": [
       "-1/2 + exp(4)/2"
      ]
     },
     "execution_count": 142,
     "metadata": {},
     "output_type": "execute_result"
    }
   ],
   "source": [
    "integrate(t**Rational(1,2)* exp(t) *diff(t**Rational(1,2), t), (t, 0, 4))"
   ]
  },
  {
   "cell_type": "code",
   "execution_count": 143,
   "metadata": {
    "ExecuteTime": {
     "end_time": "2020-04-21T02:36:49.709295Z",
     "start_time": "2020-04-21T02:36:49.608259Z"
    }
   },
   "outputs": [],
   "source": [
    "int = integrate(x/(x**2 + 1)**3, x)"
   ]
  },
  {
   "cell_type": "code",
   "execution_count": 145,
   "metadata": {
    "ExecuteTime": {
     "end_time": "2020-04-21T02:37:02.297795Z",
     "start_time": "2020-04-21T02:37:02.232762Z"
    }
   },
   "outputs": [
    {
     "data": {
      "text/latex": [
       "$\\displaystyle \\frac{x}{x^{6} + 3 x^{4} + 3 x^{2} + 1}$"
      ],
      "text/plain": [
       "x/(x**6 + 3*x**4 + 3*x**2 + 1)"
      ]
     },
     "execution_count": 145,
     "metadata": {},
     "output_type": "execute_result"
    }
   ],
   "source": [
    "diff(int, x).simplify()"
   ]
  },
  {
   "cell_type": "code",
   "execution_count": 147,
   "metadata": {
    "ExecuteTime": {
     "end_time": "2020-04-21T02:39:25.760895Z",
     "start_time": "2020-04-21T02:39:25.720834Z"
    }
   },
   "outputs": [
    {
     "data": {
      "text/latex": [
       "$\\displaystyle \\sum_{k=-\\infty}^{\\infty} e^{a k^{2}}$"
      ],
      "text/plain": [
       "Sum(exp(a*k**2), (k, -oo, oo))"
      ]
     },
     "execution_count": 147,
     "metadata": {},
     "output_type": "execute_result"
    }
   ],
   "source": [
    "summation(exp(a* k**2), (k, -oo, oo))"
   ]
  },
  {
   "cell_type": "code",
   "execution_count": 149,
   "metadata": {
    "ExecuteTime": {
     "end_time": "2020-04-21T02:40:01.626358Z",
     "start_time": "2020-04-21T02:40:01.610366Z"
    }
   },
   "outputs": [
    {
     "ename": "NameError",
     "evalue": "name 'differencequotient' is not defined",
     "output_type": "error",
     "traceback": [
      "\u001b[1;31m---------------------------------------------------------------------------\u001b[0m",
      "\u001b[1;31mNameError\u001b[0m                                 Traceback (most recent call last)",
      "\u001b[1;32m<ipython-input-149-0da413fc3d13>\u001b[0m in \u001b[0;36m<module>\u001b[1;34m\u001b[0m\n\u001b[1;32m----> 1\u001b[1;33m \u001b[0mdifferencequotient\u001b[0m\u001b[1;33m(\u001b[0m\u001b[0msin\u001b[0m\u001b[1;33m(\u001b[0m\u001b[0mx\u001b[0m\u001b[1;33m)\u001b[0m\u001b[1;33m,\u001b[0m \u001b[1;33m(\u001b[0m\u001b[0mx\u001b[0m\u001b[1;33m,\u001b[0m \u001b[0mh\u001b[0m\u001b[1;33m)\u001b[0m\u001b[1;33m)\u001b[0m\u001b[1;33m\u001b[0m\u001b[0m\n\u001b[0m",
      "\u001b[1;31mNameError\u001b[0m: name 'differencequotient' is not defined"
     ]
    }
   ],
   "source": [
    "differencequotient(sin(x), (x, h))"
   ]
  },
  {
   "cell_type": "code",
   "execution_count": 151,
   "metadata": {
    "ExecuteTime": {
     "end_time": "2020-04-21T02:40:53.038563Z",
     "start_time": "2020-04-21T02:40:52.933526Z"
    }
   },
   "outputs": [
    {
     "data": {
      "text/latex": [
       "$\\displaystyle f{\\left(x \\right)}$"
      ],
      "text/plain": [
       "f(x)"
      ]
     },
     "execution_count": 151,
     "metadata": {},
     "output_type": "execute_result"
    }
   ],
   "source": [
    "x=symbols(\"x\")\n",
    "f=Function(\"f\")\n",
    "diff(integrate(f(x), x), x)"
   ]
  },
  {
   "cell_type": "code",
   "execution_count": 152,
   "metadata": {
    "ExecuteTime": {
     "end_time": "2020-04-21T02:41:01.059921Z",
     "start_time": "2020-04-21T02:41:00.954917Z"
    }
   },
   "outputs": [
    {
     "data": {
      "text/latex": [
       "$\\displaystyle f{\\left(x \\right)}$"
      ],
      "text/plain": [
       "f(x)"
      ]
     },
     "execution_count": 152,
     "metadata": {},
     "output_type": "execute_result"
    }
   ],
   "source": [
    "diff(integrate(f(t), (t, 0, x)), x)"
   ]
  },
  {
   "cell_type": "code",
   "execution_count": 153,
   "metadata": {
    "ExecuteTime": {
     "end_time": "2020-04-21T02:41:08.834682Z",
     "start_time": "2020-04-21T02:41:08.639257Z"
    }
   },
   "outputs": [
    {
     "data": {
      "text/latex": [
       "$\\displaystyle f{\\left(x \\right)}$"
      ],
      "text/plain": [
       "f(x)"
      ]
     },
     "execution_count": 153,
     "metadata": {},
     "output_type": "execute_result"
    }
   ],
   "source": [
    "integrate(diff(f(x), x), x)"
   ]
  },
  {
   "cell_type": "code",
   "execution_count": 154,
   "metadata": {
    "ExecuteTime": {
     "end_time": "2020-04-21T02:41:16.081181Z",
     "start_time": "2020-04-21T02:41:15.986162Z"
    }
   },
   "outputs": [
    {
     "data": {
      "text/latex": [
       "$\\displaystyle f{\\left(x \\right)}$"
      ],
      "text/plain": [
       "f(x)"
      ]
     },
     "execution_count": 154,
     "metadata": {},
     "output_type": "execute_result"
    }
   ],
   "source": [
    "diff(integrate(f(t), (t, 0, x)), x)"
   ]
  },
  {
   "cell_type": "code",
   "execution_count": 155,
   "metadata": {
    "ExecuteTime": {
     "end_time": "2020-04-21T02:41:25.262463Z",
     "start_time": "2020-04-21T02:41:25.160421Z"
    }
   },
   "outputs": [
    {
     "data": {
      "text/latex": [
       "$\\displaystyle \\int \\frac{\\partial}{\\partial a} f{\\left(a,t \\right)}\\, dt$"
      ],
      "text/plain": [
       "Integral(Derivative(f(a, t), a), t)"
      ]
     },
     "execution_count": 155,
     "metadata": {},
     "output_type": "execute_result"
    }
   ],
   "source": [
    "diff(integrate(f(a, t), t), a)"
   ]
  },
  {
   "cell_type": "code",
   "execution_count": 157,
   "metadata": {
    "ExecuteTime": {
     "end_time": "2020-04-21T02:41:44.087097Z",
     "start_time": "2020-04-21T02:41:44.080131Z"
    }
   },
   "outputs": [
    {
     "data": {
      "text/latex": [
       "$\\displaystyle \\cos{\\left(x \\right)}$"
      ],
      "text/plain": [
       "cos(x)"
      ]
     },
     "execution_count": 157,
     "metadata": {},
     "output_type": "execute_result"
    }
   ],
   "source": [
    "diff(sin(x), x)"
   ]
  },
  {
   "cell_type": "code",
   "execution_count": 158,
   "metadata": {
    "ExecuteTime": {
     "end_time": "2020-04-21T02:42:02.416642Z",
     "start_time": "2020-04-21T02:42:02.404678Z"
    }
   },
   "outputs": [
    {
     "data": {
      "text/latex": [
       "$\\displaystyle \\left. \\frac{d}{d z} \\zeta\\left(z\\right) \\right|_{\\substack{ z=3 }}$"
      ],
      "text/plain": [
       "Subs(Derivative(zeta(z), z), z, 3)"
      ]
     },
     "execution_count": 158,
     "metadata": {},
     "output_type": "execute_result"
    }
   ],
   "source": [
    "zeta(z).diff(z).subs(z,3)"
   ]
  },
  {
   "cell_type": "code",
   "execution_count": 165,
   "metadata": {
    "ExecuteTime": {
     "end_time": "2020-04-21T02:46:30.830473Z",
     "start_time": "2020-04-21T02:46:30.173261Z"
    }
   },
   "outputs": [
    {
     "data": {
      "text/latex": [
       "$\\displaystyle f{\\left(x \\right)} = \\frac{3 x^{5}}{4} - \\frac{13 x^{4}}{12} + \\frac{5 x^{3}}{6} - \\frac{5 x}{2} + 8$"
      ],
      "text/plain": [
       "Eq(f(x), 3*x**5/4 - 13*x**4/12 + 5*x**3/6 - 5*x/2 + 8)"
      ]
     },
     "execution_count": 165,
     "metadata": {},
     "output_type": "execute_result"
    }
   ],
   "source": [
    "dsolve(\n",
    "    Eq(diff(f(x), (x, 2)) , 15* x**3 - 13* x**2 + 5 *x)\n",
    "    ,\n",
    "    ics={\n",
    "        f(0) : 8, \n",
    "        f(1) : 6\n",
    "    }\n",
    ")"
   ]
  },
  {
   "cell_type": "code",
   "execution_count": 166,
   "metadata": {
    "ExecuteTime": {
     "end_time": "2020-04-21T02:47:58.624581Z",
     "start_time": "2020-04-21T02:47:58.602534Z"
    }
   },
   "outputs": [
    {
     "data": {
      "text/latex": [
       "$\\displaystyle 40 \\left(7 \\sin^{4}{\\left(x \\right)} - 117 \\sin^{2}{\\left(x \\right)} \\cos^{2}{\\left(x \\right)} + 126 \\cos^{4}{\\left(x \\right)}\\right) \\sin^{6}{\\left(x \\right)}$"
      ],
      "text/plain": [
       "40*(7*sin(x)**4 - 117*sin(x)**2*cos(x)**2 + 126*cos(x)**4)*sin(x)**6"
      ]
     },
     "execution_count": 166,
     "metadata": {},
     "output_type": "execute_result"
    }
   ],
   "source": [
    "diff(sin(x)**10, (x, 4))"
   ]
  },
  {
   "cell_type": "code",
   "execution_count": 167,
   "metadata": {
    "ExecuteTime": {
     "end_time": "2020-04-21T02:48:12.160547Z",
     "start_time": "2020-04-21T02:48:11.888833Z"
    }
   },
   "outputs": [
    {
     "data": {
      "text/latex": [
       "$\\displaystyle \\left(10000 \\sin^{4}{\\left(x \\right)} - 14760 \\sin^{2}{\\left(x \\right)} + 5040\\right) \\sin^{6}{\\left(x \\right)}$"
      ],
      "text/plain": [
       "(10000*sin(x)**4 - 14760*sin(x)**2 + 5040)*sin(x)**6"
      ]
     },
     "execution_count": 167,
     "metadata": {},
     "output_type": "execute_result"
    }
   ],
   "source": [
    "diff(sin(x)**10, (x, 4)).simplify()"
   ]
  },
  {
   "cell_type": "code",
   "execution_count": 168,
   "metadata": {
    "ExecuteTime": {
     "end_time": "2020-04-21T02:48:29.063831Z",
     "start_time": "2020-04-21T02:48:29.047831Z"
    }
   },
   "outputs": [
    {
     "data": {
      "text/latex": [
       "$\\displaystyle \\frac{1}{x^{2} + 1}$"
      ],
      "text/plain": [
       "1/(x**2 + 1)"
      ]
     },
     "execution_count": 168,
     "metadata": {},
     "output_type": "execute_result"
    }
   ],
   "source": [
    "simplify(diff(atan(x), x))"
   ]
  },
  {
   "cell_type": "code",
   "execution_count": 169,
   "metadata": {
    "ExecuteTime": {
     "end_time": "2020-04-21T02:48:37.697567Z",
     "start_time": "2020-04-21T02:48:37.673517Z"
    }
   },
   "outputs": [
    {
     "data": {
      "text/latex": [
       "$\\displaystyle \\frac{1}{x^{2} + 1}$"
      ],
      "text/plain": [
       "1/(x**2 + 1)"
      ]
     },
     "execution_count": 169,
     "metadata": {},
     "output_type": "execute_result"
    }
   ],
   "source": [
    "simplify(diff(-atan(1/x), x))"
   ]
  }
 ],
 "metadata": {
  "file_extension": ".py",
  "kernelspec": {
   "display_name": "Python 3.7.0 32-bit",
   "language": "python",
   "name": "python37032bit1f7a973f3e4e43a28dc60a300a73d1fe"
  },
  "language_info": {
   "codemirror_mode": {
    "name": "ipython",
    "version": 3
   },
   "file_extension": ".py",
   "mimetype": "text/x-python",
   "name": "python",
   "nbconvert_exporter": "python",
   "pygments_lexer": "ipython3",
   "version": "3.7.0"
  },
  "mimetype": "text/x-python",
  "name": "python",
  "npconvert_exporter": "python",
  "pygments_lexer": "ipython3",
  "toc": {
   "base_numbering": 1,
   "nav_menu": {},
   "number_sections": true,
   "sideBar": true,
   "skip_h1_title": false,
   "title_cell": "Table of Contents",
   "title_sidebar": "Contents",
   "toc_cell": false,
   "toc_position": {},
   "toc_section_display": true,
   "toc_window_display": true
  },
  "version": 3
 },
 "nbformat": 4,
 "nbformat_minor": 2
}
