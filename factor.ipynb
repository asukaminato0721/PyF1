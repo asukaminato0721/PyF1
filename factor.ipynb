{
 "cells": [
  {
   "cell_type": "markdown",
   "metadata": {},
   "source": [
    "# Examples"
   ]
  },
  {
   "cell_type": "markdown",
   "metadata": {},
   "source": [
    "## Basic Examples"
   ]
  },
  {
   "cell_type": "code",
   "execution_count": 2,
   "metadata": {
    "ExecuteTime": {
     "end_time": "2020-04-20T09:37:21.149259Z",
     "start_time": "2020-04-20T09:37:21.072218Z"
    }
   },
   "outputs": [
    {
     "data": {
      "text/latex": [
       "$\\displaystyle \\left(x + 1\\right)^{2}$"
      ],
      "text/plain": [
       "(x + 1)**2"
      ]
     },
     "execution_count": 2,
     "metadata": {},
     "output_type": "execute_result"
    }
   ],
   "source": [
    "from sympy.abc import *\n",
    "from sympy import *\n",
    "factor(1+2*x+x**2)"
   ]
  },
  {
   "cell_type": "code",
   "execution_count": 3,
   "metadata": {
    "ExecuteTime": {
     "end_time": "2020-04-20T09:37:52.844439Z",
     "start_time": "2020-04-20T09:37:52.788444Z"
    }
   },
   "outputs": [
    {
     "data": {
      "text/latex": [
       "$\\displaystyle \\left(x - 1\\right) \\left(x + 1\\right) \\left(x^{4} - x^{3} + x^{2} - x + 1\\right) \\left(x^{4} + x^{3} + x^{2} + x + 1\\right)$"
      ],
      "text/plain": [
       "(x - 1)*(x + 1)*(x**4 - x**3 + x**2 - x + 1)*(x**4 + x**3 + x**2 + x + 1)"
      ]
     },
     "execution_count": 3,
     "metadata": {},
     "output_type": "execute_result"
    }
   ],
   "source": [
    "from sympy.abc import *\n",
    "from sympy import *\n",
    "factor(x**10-1)"
   ]
  },
  {
   "cell_type": "code",
   "execution_count": 4,
   "metadata": {
    "ExecuteTime": {
     "end_time": "2020-04-20T09:37:52.844439Z",
     "start_time": "2020-04-20T09:37:52.788444Z"
    }
   },
   "outputs": [
    {
     "data": {
      "text/latex": [
       "$\\displaystyle \\left(x - y\\right) \\left(x + y\\right) \\left(x^{4} - x^{3} y + x^{2} y^{2} - x y^{3} + y^{4}\\right) \\left(x^{4} + x^{3} y + x^{2} y^{2} + x y^{3} + y^{4}\\right)$"
      ],
      "text/plain": [
       "(x - y)*(x + y)*(x**4 - x**3*y + x**2*y**2 - x*y**3 + y**4)*(x**4 + x**3*y + x**2*y**2 + x*y**3 + y**4)"
      ]
     },
     "execution_count": 4,
     "metadata": {},
     "output_type": "execute_result"
    }
   ],
   "source": [
    "from sympy.abc import *\n",
    "from sympy import *\n",
    "factor(x**10-y**10)"
   ]
  },
  {
   "cell_type": "code",
   "execution_count": 5,
   "metadata": {
    "ExecuteTime": {
     "end_time": "2020-04-20T09:38:06.404220Z",
     "start_time": "2020-04-20T09:38:06.389276Z"
    }
   },
   "outputs": [
    {
     "data": {
      "text/latex": [
       "$\\displaystyle \\left(x + 1\\right)^{2} \\left(x^{4} + x^{3} + x^{2} + x + 1\\right)^{2}$"
      ],
      "text/plain": [
       "(x + 1)**2*(x**4 + x**3 + x**2 + x + 1)**2"
      ]
     },
     "execution_count": 5,
     "metadata": {},
     "output_type": "execute_result"
    }
   ],
   "source": [
    "from sympy.abc import *\n",
    "from sympy import *\n",
    "factor(x**10-1,modulus=2)"
   ]
  },
  {
   "cell_type": "markdown",
   "metadata": {},
   "source": [
    "## Scope"
   ]
  },
  {
   "cell_type": "code",
   "execution_count": 6,
   "metadata": {
    "ExecuteTime": {
     "end_time": "2020-04-20T09:40:39.719195Z",
     "start_time": "2020-04-20T09:40:39.687151Z"
    }
   },
   "outputs": [
    {
     "data": {
      "text/latex": [
       "$\\displaystyle \\left(x - 3\\right) \\left(x - 2\\right) \\left(x - 1\\right)$"
      ],
      "text/plain": [
       "(x - 3)*(x - 2)*(x - 1)"
      ]
     },
     "execution_count": 6,
     "metadata": {},
     "output_type": "execute_result"
    }
   ],
   "source": [
    "from sympy.abc import *\n",
    "from sympy import *\n",
    "factor(x**3-6*x**2+11*x-6)"
   ]
  },
  {
   "cell_type": "code",
   "execution_count": 8,
   "metadata": {
    "ExecuteTime": {
     "end_time": "2020-04-20T09:40:39.719195Z",
     "start_time": "2020-04-20T09:40:39.687151Z"
    }
   },
   "outputs": [
    {
     "data": {
      "text/latex": [
       "$\\displaystyle \\left(- a + x\\right) \\left(a + x\\right) \\left(- 3 a^{2} + 2 x y\\right)$"
      ],
      "text/plain": [
       "(-a + x)*(a + x)*(-3*a**2 + 2*x*y)"
      ]
     },
     "execution_count": 8,
     "metadata": {},
     "output_type": "execute_result"
    }
   ],
   "source": [
    "from sympy.abc import *\n",
    "from sympy import *\n",
    "factor(2*x**3*y-2*a**2*x*y-3*a**2*x**2+3*a**4)"
   ]
  },
  {
   "cell_type": "code",
   "execution_count": 9,
   "metadata": {
    "ExecuteTime": {
     "end_time": "2020-04-20T09:40:39.719195Z",
     "start_time": "2020-04-20T09:40:39.687151Z"
    }
   },
   "outputs": [
    {
     "data": {
      "text/latex": [
       "$\\displaystyle \\frac{\\left(x - 1\\right) \\left(x + 1\\right) \\left(x + 2\\right)}{\\left(x - 2 y\\right) \\left(x + 2 y\\right)}$"
      ],
      "text/plain": [
       "(x - 1)*(x + 1)*(x + 2)/((x - 2*y)*(x + 2*y))"
      ]
     },
     "execution_count": 9,
     "metadata": {},
     "output_type": "execute_result"
    }
   ],
   "source": [
    "from sympy.abc import *\n",
    "from sympy import *\n",
    "factor((x**3 + 2* x**2)/(x**2 - 4 *y**2) - (x + 2)/(x**2 - 4 *y**2))"
   ]
  },
  {
   "cell_type": "code",
   "execution_count": 10,
   "metadata": {
    "ExecuteTime": {
     "end_time": "2020-04-20T09:41:11.377578Z",
     "start_time": "2020-04-20T09:41:11.367610Z"
    }
   },
   "outputs": [
    {
     "data": {
      "text/latex": [
       "$\\displaystyle \\left(x^{s} + 1\\right)^{2}$"
      ],
      "text/plain": [
       "(x**s + 1)**2"
      ]
     },
     "execution_count": 10,
     "metadata": {},
     "output_type": "execute_result"
    }
   ],
   "source": [
    "from sympy.abc import *\n",
    "from sympy import *\n",
    "factor(x**(2 *s) + 2* x**s + 1)"
   ]
  },
  {
   "cell_type": "code",
   "execution_count": 12,
   "metadata": {
    "ExecuteTime": {
     "end_time": "2020-04-20T09:46:35.800439Z",
     "start_time": "2020-04-20T09:46:35.788441Z"
    }
   },
   "outputs": [
    {
     "data": {
      "text/latex": [
       "$\\displaystyle x^{\\frac{2 s}{3}} + 2 x^{s} + 1$"
      ],
      "text/plain": [
       "x**(2*s/3) + 2*x**s + 1"
      ]
     },
     "execution_count": 12,
     "metadata": {},
     "output_type": "execute_result"
    }
   ],
   "source": [
    "factor(x**(Rational(2,3) *s) + 2* x**s + 1)"
   ]
  },
  {
   "cell_type": "code",
   "execution_count": 13,
   "metadata": {
    "ExecuteTime": {
     "end_time": "2020-04-20T09:47:19.621333Z",
     "start_time": "2020-04-20T09:47:19.610330Z"
    }
   },
   "outputs": [
    {
     "data": {
      "text/latex": [
       "$\\displaystyle \\left(e^{s} + 1\\right)^{2}$"
      ],
      "text/plain": [
       "(exp(s) + 1)**2"
      ]
     },
     "execution_count": 13,
     "metadata": {},
     "output_type": "execute_result"
    }
   ],
   "source": [
    "factor(exp(2* s) + 2 *exp(s) + 1)"
   ]
  },
  {
   "cell_type": "code",
   "execution_count": 14,
   "metadata": {
    "ExecuteTime": {
     "end_time": "2020-04-20T09:47:38.303462Z",
     "start_time": "2020-04-20T09:47:38.233465Z"
    },
    "scrolled": true
   },
   "outputs": [
    {
     "data": {
      "text/latex": [
       "$\\displaystyle \\left(x^{2} - \\sqrt{2} x + 1\\right) \\left(x^{2} + \\sqrt{2} x + 1\\right)$"
      ],
      "text/plain": [
       "(x**2 - sqrt(2)*x + 1)*(x**2 + sqrt(2)*x + 1)"
      ]
     },
     "execution_count": 14,
     "metadata": {},
     "output_type": "execute_result"
    }
   ],
   "source": [
    "factor(1 + x**4, extension = sqrt(2))"
   ]
  },
  {
   "cell_type": "code",
   "execution_count": 15,
   "metadata": {
    "ExecuteTime": {
     "end_time": "2020-04-20T09:48:09.327081Z",
     "start_time": "2020-04-20T09:48:09.156076Z"
    },
    "scrolled": true
   },
   "outputs": [
    {
     "data": {
      "text/latex": [
       "$\\displaystyle \\left(x - \\frac{\\sqrt{2}}{2} - \\frac{\\sqrt{2} i}{2}\\right) \\left(x - \\frac{\\sqrt{2}}{2} + \\frac{\\sqrt{2} i}{2}\\right) \\left(x + \\frac{\\sqrt{2}}{2} - \\frac{\\sqrt{2} i}{2}\\right) \\left(x + \\frac{\\sqrt{2}}{2} + \\frac{\\sqrt{2} i}{2}\\right)$"
      ],
      "text/plain": [
       "(x - sqrt(2)/2 - sqrt(2)*I/2)*(x - sqrt(2)/2 + sqrt(2)*I/2)*(x + sqrt(2)/2 - sqrt(2)*I/2)*(x + sqrt(2)/2 + sqrt(2)*I/2)"
      ]
     },
     "execution_count": 15,
     "metadata": {},
     "output_type": "execute_result"
    }
   ],
   "source": [
    "factor(1 + x**4, extension = (sqrt(2), I))"
   ]
  },
  {
   "cell_type": "code",
   "execution_count": 16,
   "metadata": {
    "ExecuteTime": {
     "end_time": "2020-04-20T09:48:30.773760Z",
     "start_time": "2020-04-20T09:48:30.761763Z"
    }
   },
   "outputs": [
    {
     "data": {
      "text/latex": [
       "$\\displaystyle x^{2} + 2 \\sqrt{2} x + 2$"
      ],
      "text/plain": [
       "x**2 + 2*sqrt(2)*x + 2"
      ]
     },
     "execution_count": 16,
     "metadata": {},
     "output_type": "execute_result"
    }
   ],
   "source": [
    "factor(2 + 2 *sqrt(2)* x + x**2)"
   ]
  },
  {
   "cell_type": "code",
   "execution_count": 18,
   "metadata": {
    "ExecuteTime": {
     "end_time": "2020-04-20T09:50:53.752403Z",
     "start_time": "2020-04-20T09:50:53.692400Z"
    }
   },
   "outputs": [
    {
     "data": {
      "text/latex": [
       "$\\displaystyle \\left(x + \\sqrt{2}\\right)^{2}$"
      ],
      "text/plain": [
       "(x + sqrt(2))**2"
      ]
     },
     "execution_count": 18,
     "metadata": {},
     "output_type": "execute_result"
    }
   ],
   "source": [
    "factor(2 + 2 *sqrt(2)* x + x**2, extension = sqrt(2))"
   ]
  },
  {
   "cell_type": "code",
   "execution_count": 20,
   "metadata": {
    "ExecuteTime": {
     "end_time": "2020-04-20T09:51:44.597429Z",
     "start_time": "2020-04-20T09:51:44.547431Z"
    }
   },
   "outputs": [
    {
     "data": {
      "text/latex": [
       "$\\displaystyle \\left(x - i\\right) \\left(x + i\\right)$"
      ],
      "text/plain": [
       "(x - I)*(x + I)"
      ]
     },
     "execution_count": 20,
     "metadata": {},
     "output_type": "execute_result"
    }
   ],
   "source": [
    "factor(1 + x**2,gaussian = True)"
   ]
  },
  {
   "cell_type": "code",
   "execution_count": 21,
   "metadata": {
    "ExecuteTime": {
     "end_time": "2020-04-20T09:52:00.124961Z",
     "start_time": "2020-04-20T09:52:00.077908Z"
    }
   },
   "outputs": [
    {
     "data": {
      "text/latex": [
       "$\\displaystyle \\left(x - i\\right) \\left(x + i\\right)$"
      ],
      "text/plain": [
       "(x - I)*(x + I)"
      ]
     },
     "execution_count": 21,
     "metadata": {},
     "output_type": "execute_result"
    }
   ],
   "source": [
    "factor(1 + x**2, extension =I)"
   ]
  },
  {
   "cell_type": "code",
   "execution_count": 22,
   "metadata": {
    "ExecuteTime": {
     "end_time": "2020-04-20T09:52:15.024633Z",
     "start_time": "2020-04-20T09:52:15.014660Z"
    }
   },
   "outputs": [
    {
     "data": {
      "text/latex": [
       "$\\displaystyle x^{12} + 5$"
      ],
      "text/plain": [
       "x**12 + 5"
      ]
     },
     "execution_count": 22,
     "metadata": {},
     "output_type": "execute_result"
    }
   ],
   "source": [
    "factor(5 + x**12)"
   ]
  },
  {
   "cell_type": "code",
   "execution_count": 23,
   "metadata": {
    "ExecuteTime": {
     "end_time": "2020-04-20T09:52:26.414180Z",
     "start_time": "2020-04-20T09:52:26.401144Z"
    }
   },
   "outputs": [
    {
     "data": {
      "text/latex": [
       "$\\displaystyle \\left(x^{3} - 2\\right) \\left(x^{3} + 2\\right) \\left(x^{6} - 3\\right)$"
      ],
      "text/plain": [
       "(x**3 - 2)*(x**3 + 2)*(x**6 - 3)"
      ]
     },
     "execution_count": 23,
     "metadata": {},
     "output_type": "execute_result"
    }
   ],
   "source": [
    "factor(5 + x**12, modulus = 7)"
   ]
  },
  {
   "cell_type": "code",
   "execution_count": 25,
   "metadata": {
    "ExecuteTime": {
     "end_time": "2020-04-20T09:53:05.959837Z",
     "start_time": "2020-04-20T09:53:05.940869Z"
    }
   },
   "outputs": [
    {
     "ename": "OptionError",
     "evalue": "'Trig' is not a valid option",
     "output_type": "error",
     "traceback": [
      "\u001b[1;31m---------------------------------------------------------------------------\u001b[0m",
      "\u001b[1;31mKeyError\u001b[0m                                  Traceback (most recent call last)",
      "\u001b[1;32mD:\\Program Files\\Python3.7\\lib\\site-packages\\sympy\\polys\\polyoptions.py\u001b[0m in \u001b[0;36mallowed_flags\u001b[1;34m(args, flags)\u001b[0m\n\u001b[0;32m    763\u001b[0m         \u001b[1;32mtry\u001b[0m\u001b[1;33m:\u001b[0m\u001b[1;33m\u001b[0m\u001b[0m\n\u001b[1;32m--> 764\u001b[1;33m             \u001b[1;32mif\u001b[0m \u001b[0mOptions\u001b[0m\u001b[1;33m.\u001b[0m\u001b[0m__options__\u001b[0m\u001b[1;33m[\u001b[0m\u001b[0marg\u001b[0m\u001b[1;33m]\u001b[0m\u001b[1;33m.\u001b[0m\u001b[0mis_Flag\u001b[0m \u001b[1;32mand\u001b[0m \u001b[1;32mnot\u001b[0m \u001b[0marg\u001b[0m \u001b[1;32min\u001b[0m \u001b[0mflags\u001b[0m\u001b[1;33m:\u001b[0m\u001b[1;33m\u001b[0m\u001b[0m\n\u001b[0m\u001b[0;32m    765\u001b[0m                 raise FlagError(\n",
      "\u001b[1;31mKeyError\u001b[0m: 'Trig'",
      "\nDuring handling of the above exception, another exception occurred:\n",
      "\u001b[1;31mOptionError\u001b[0m                               Traceback (most recent call last)",
      "\u001b[1;32m<ipython-input-25-00c36c67b4a2>\u001b[0m in \u001b[0;36m<module>\u001b[1;34m\u001b[0m\n\u001b[1;32m----> 1\u001b[1;33m \u001b[0mfactor\u001b[0m\u001b[1;33m(\u001b[0m\u001b[0msin\u001b[0m\u001b[1;33m(\u001b[0m\u001b[0mx\u001b[0m\u001b[1;33m)\u001b[0m \u001b[1;33m+\u001b[0m \u001b[0msin\u001b[0m\u001b[1;33m(\u001b[0m\u001b[0my\u001b[0m\u001b[1;33m)\u001b[0m\u001b[1;33m,\u001b[0m \u001b[0mTrig\u001b[0m \u001b[1;33m=\u001b[0m \u001b[1;32mTrue\u001b[0m\u001b[1;33m)\u001b[0m\u001b[1;33m\u001b[0m\u001b[0m\n\u001b[0m",
      "\u001b[1;32mD:\\Program Files\\Python3.7\\lib\\site-packages\\sympy\\polys\\polytools.py\u001b[0m in \u001b[0;36mfactor\u001b[1;34m(f, *gens, **args)\u001b[0m\n\u001b[0;32m   6350\u001b[0m \u001b[1;33m\u001b[0m\u001b[0m\n\u001b[0;32m   6351\u001b[0m     \u001b[1;32mtry\u001b[0m\u001b[1;33m:\u001b[0m\u001b[1;33m\u001b[0m\u001b[0m\n\u001b[1;32m-> 6352\u001b[1;33m         \u001b[1;32mreturn\u001b[0m \u001b[0m_generic_factor\u001b[0m\u001b[1;33m(\u001b[0m\u001b[0mf\u001b[0m\u001b[1;33m,\u001b[0m \u001b[0mgens\u001b[0m\u001b[1;33m,\u001b[0m \u001b[0margs\u001b[0m\u001b[1;33m,\u001b[0m \u001b[0mmethod\u001b[0m\u001b[1;33m=\u001b[0m\u001b[1;34m'factor'\u001b[0m\u001b[1;33m)\u001b[0m\u001b[1;33m\u001b[0m\u001b[0m\n\u001b[0m\u001b[0;32m   6353\u001b[0m     \u001b[1;32mexcept\u001b[0m \u001b[0mPolynomialError\u001b[0m \u001b[1;32mas\u001b[0m \u001b[0mmsg\u001b[0m\u001b[1;33m:\u001b[0m\u001b[1;33m\u001b[0m\u001b[0m\n\u001b[0;32m   6354\u001b[0m         \u001b[1;32mif\u001b[0m \u001b[1;32mnot\u001b[0m \u001b[0mf\u001b[0m\u001b[1;33m.\u001b[0m\u001b[0mis_commutative\u001b[0m\u001b[1;33m:\u001b[0m\u001b[1;33m\u001b[0m\u001b[0m\n",
      "\u001b[1;32mD:\\Program Files\\Python3.7\\lib\\site-packages\\sympy\\polys\\polytools.py\u001b[0m in \u001b[0;36m_generic_factor\u001b[1;34m(expr, gens, args, method)\u001b[0m\n\u001b[0;32m   6019\u001b[0m     \u001b[1;34m\"\"\"Helper function for :func:`sqf` and :func:`factor`. \"\"\"\u001b[0m\u001b[1;33m\u001b[0m\u001b[0m\n\u001b[0;32m   6020\u001b[0m     \u001b[0mfraction\u001b[0m \u001b[1;33m=\u001b[0m \u001b[0margs\u001b[0m\u001b[1;33m.\u001b[0m\u001b[0mpop\u001b[0m\u001b[1;33m(\u001b[0m\u001b[1;34m'fraction'\u001b[0m\u001b[1;33m,\u001b[0m \u001b[1;32mTrue\u001b[0m\u001b[1;33m)\u001b[0m\u001b[1;33m\u001b[0m\u001b[0m\n\u001b[1;32m-> 6021\u001b[1;33m     \u001b[0moptions\u001b[0m\u001b[1;33m.\u001b[0m\u001b[0mallowed_flags\u001b[0m\u001b[1;33m(\u001b[0m\u001b[0margs\u001b[0m\u001b[1;33m,\u001b[0m \u001b[1;33m[\u001b[0m\u001b[1;33m]\u001b[0m\u001b[1;33m)\u001b[0m\u001b[1;33m\u001b[0m\u001b[0m\n\u001b[0m\u001b[0;32m   6022\u001b[0m     \u001b[0mopt\u001b[0m \u001b[1;33m=\u001b[0m \u001b[0moptions\u001b[0m\u001b[1;33m.\u001b[0m\u001b[0mbuild_options\u001b[0m\u001b[1;33m(\u001b[0m\u001b[0mgens\u001b[0m\u001b[1;33m,\u001b[0m \u001b[0margs\u001b[0m\u001b[1;33m)\u001b[0m\u001b[1;33m\u001b[0m\u001b[0m\n\u001b[0;32m   6023\u001b[0m     \u001b[0mopt\u001b[0m\u001b[1;33m[\u001b[0m\u001b[1;34m'fraction'\u001b[0m\u001b[1;33m]\u001b[0m \u001b[1;33m=\u001b[0m \u001b[0mfraction\u001b[0m\u001b[1;33m\u001b[0m\u001b[0m\n",
      "\u001b[1;32mD:\\Program Files\\Python3.7\\lib\\site-packages\\sympy\\polys\\polyoptions.py\u001b[0m in \u001b[0;36mallowed_flags\u001b[1;34m(args, flags)\u001b[0m\n\u001b[0;32m    766\u001b[0m                     \"'%s' flag is not allowed in this context\" % arg)\n\u001b[0;32m    767\u001b[0m         \u001b[1;32mexcept\u001b[0m \u001b[0mKeyError\u001b[0m\u001b[1;33m:\u001b[0m\u001b[1;33m\u001b[0m\u001b[0m\n\u001b[1;32m--> 768\u001b[1;33m             \u001b[1;32mraise\u001b[0m \u001b[0mOptionError\u001b[0m\u001b[1;33m(\u001b[0m\u001b[1;34m\"'%s' is not a valid option\"\u001b[0m \u001b[1;33m%\u001b[0m \u001b[0marg\u001b[0m\u001b[1;33m)\u001b[0m\u001b[1;33m\u001b[0m\u001b[0m\n\u001b[0m\u001b[0;32m    769\u001b[0m \u001b[1;33m\u001b[0m\u001b[0m\n\u001b[0;32m    770\u001b[0m \u001b[1;33m\u001b[0m\u001b[0m\n",
      "\u001b[1;31mOptionError\u001b[0m: 'Trig' is not a valid option"
     ]
    }
   ],
   "source": [
    "factor(sin(x) + sin(y), Trig = True)\n",
    "# no trig"
   ]
  },
  {
   "cell_type": "code",
   "execution_count": null,
   "metadata": {},
   "outputs": [],
   "source": []
  },
  {
   "cell_type": "code",
   "execution_count": null,
   "metadata": {},
   "outputs": [],
   "source": []
  },
  {
   "cell_type": "code",
   "execution_count": null,
   "metadata": {},
   "outputs": [],
   "source": []
  },
  {
   "cell_type": "code",
   "execution_count": null,
   "metadata": {},
   "outputs": [],
   "source": []
  },
  {
   "cell_type": "code",
   "execution_count": null,
   "metadata": {},
   "outputs": [],
   "source": []
  },
  {
   "cell_type": "markdown",
   "metadata": {},
   "source": [
    "## Applications"
   ]
  },
  {
   "cell_type": "markdown",
   "metadata": {},
   "source": [
    "## Properties & Relations"
   ]
  },
  {
   "cell_type": "code",
   "execution_count": 26,
   "metadata": {
    "ExecuteTime": {
     "end_time": "2020-04-20T09:53:56.416170Z",
     "start_time": "2020-04-20T09:53:56.397210Z"
    }
   },
   "outputs": [
    {
     "data": {
      "text/latex": [
       "$\\displaystyle \\left(x - 1\\right) \\left(x + 1\\right) \\left(x^{4} - x^{3} + x^{2} - x + 1\\right) \\left(x^{4} + x^{3} + x^{2} + x + 1\\right) \\left(x^{20} - x^{15} + x^{10} - x^{5} + 1\\right) \\left(x^{20} + x^{15} + x^{10} + x^{5} + 1\\right)$"
      ],
      "text/plain": [
       "(x - 1)*(x + 1)*(x**4 - x**3 + x**2 - x + 1)*(x**4 + x**3 + x**2 + x + 1)*(x**20 - x**15 + x**10 - x**5 + 1)*(x**20 + x**15 + x**10 + x**5 + 1)"
      ]
     },
     "execution_count": 26,
     "metadata": {},
     "output_type": "execute_result"
    }
   ],
   "source": [
    "factor(x**50 - 1)"
   ]
  },
  {
   "cell_type": "code",
   "execution_count": 27,
   "metadata": {
    "ExecuteTime": {
     "end_time": "2020-04-20T09:54:05.532994Z",
     "start_time": "2020-04-20T09:54:05.496999Z"
    }
   },
   "outputs": [
    {
     "data": {
      "text/latex": [
       "$\\displaystyle x^{50} - 1$"
      ],
      "text/plain": [
       "x**50 - 1"
      ]
     },
     "execution_count": 27,
     "metadata": {},
     "output_type": "execute_result"
    }
   ],
   "source": [
    "expand(factor(x**50 - 1))"
   ]
  },
  {
   "cell_type": "code",
   "execution_count": 35,
   "metadata": {
    "ExecuteTime": {
     "end_time": "2020-04-20T09:58:12.522025Z",
     "start_time": "2020-04-20T09:58:12.509025Z"
    }
   },
   "outputs": [
    {
     "data": {
      "text/plain": [
       "(1, [(x + 2, 1), (x - 1, 2), (x + 1, 2), (x + 3, 3)])"
      ]
     },
     "execution_count": 35,
     "metadata": {},
     "output_type": "execute_result"
    }
   ],
   "source": [
    "factor_list(x**8 + 11 *x**7 + 43* x**6 + 59 *x**5 - 35 *x**4 - 151* x**3 - 63 *x**2 + 81 *x + 54)"
   ]
  },
  {
   "cell_type": "code",
   "execution_count": 45,
   "metadata": {
    "ExecuteTime": {
     "end_time": "2020-04-20T10:00:08.178532Z",
     "start_time": "2020-04-20T10:00:08.159527Z"
    }
   },
   "outputs": [
    {
     "data": {
      "text/latex": [
       "$\\displaystyle \\left(x - 2\\right) \\left(x - 1\\right)^{2} \\left(x + 1\\right)^{2} \\left(x + 2\\right) \\left(x + 3\\right)^{3}$"
      ],
      "text/plain": [
       "(x - 2)*(x - 1)**2*(x + 1)**2*(x + 2)*(x + 3)**3"
      ]
     },
     "execution_count": 45,
     "metadata": {},
     "output_type": "execute_result"
    }
   ],
   "source": [
    "f=Function(\"f\")\n",
    "f = (x**9 + 9* x**8 + 21* x**7 - 27 *x**6 - 153* x**5 - 81 *x**4 + 239* x**3 + 207* x**2 - 108* x - 108)\n",
    "factor(f)"
   ]
  },
  {
   "cell_type": "code",
   "execution_count": null,
   "metadata": {},
   "outputs": [],
   "source": []
  },
  {
   "cell_type": "markdown",
   "metadata": {},
   "source": [
    "## Possible Issues"
   ]
  },
  {
   "cell_type": "markdown",
   "metadata": {},
   "source": [
    "## Neat Example"
   ]
  },
  {
   "cell_type": "code",
   "execution_count": 46,
   "metadata": {
    "ExecuteTime": {
     "end_time": "2020-04-20T10:06:04.094313Z",
     "start_time": "2020-04-20T10:06:04.033317Z"
    }
   },
   "outputs": [
    {
     "data": {
      "text/latex": [
       "$\\displaystyle \\left(x - 1\\right) \\left(x^{2} + x + 1\\right) \\left(x^{4} + x^{3} + x^{2} + x + 1\\right) \\left(x^{6} + x^{5} + x^{4} + x^{3} + x^{2} + x + 1\\right) \\left(x^{8} - x^{7} + x^{5} - x^{4} + x^{3} - x + 1\\right) \\left(x^{12} - x^{11} + x^{9} - x^{8} + x^{6} - x^{4} + x^{3} - x + 1\\right) \\left(x^{24} - x^{23} + x^{19} - x^{18} + x^{17} - x^{16} + x^{14} - x^{13} + x^{12} - x^{11} + x^{10} - x^{8} + x^{7} - x^{6} + x^{5} - x + 1\\right) \\left(x^{48} + x^{47} + x^{46} - x^{43} - x^{42} - 2 x^{41} - x^{40} - x^{39} + x^{36} + x^{35} + x^{34} + x^{33} + x^{32} + x^{31} - x^{28} - x^{26} - x^{24} - x^{22} - x^{20} + x^{17} + x^{16} + x^{15} + x^{14} + x^{13} + x^{12} - x^{9} - x^{8} - 2 x^{7} - x^{6} - x^{5} + x^{2} + x + 1\\right)$"
      ],
      "text/plain": [
       "(x - 1)*(x**2 + x + 1)*(x**4 + x**3 + x**2 + x + 1)*(x**6 + x**5 + x**4 + x**3 + x**2 + x + 1)*(x**8 - x**7 + x**5 - x**4 + x**3 - x + 1)*(x**12 - x**11 + x**9 - x**8 + x**6 - x**4 + x**3 - x + 1)*(x**24 - x**23 + x**19 - x**18 + x**17 - x**16 + x**14 - x**13 + x**12 - x**11 + x**10 - x**8 + x**7 - x**6 + x**5 - x + 1)*(x**48 + x**47 + x**46 - x**43 - x**42 - 2*x**41 - x**40 - x**39 + x**36 + x**35 + x**34 + x**33 + x**32 + x**31 - x**28 - x**26 - x**24 - x**22 - x**20 + x**17 + x**16 + x**15 + x**14 + x**13 + x**12 - x**9 - x**8 - 2*x**7 - x**6 - x**5 + x**2 + x + 1)"
      ]
     },
     "execution_count": 46,
     "metadata": {},
     "output_type": "execute_result"
    }
   ],
   "source": [
    "factor(x**105 - 1)"
   ]
  },
  {
   "cell_type": "code",
   "execution_count": 55,
   "metadata": {
    "ExecuteTime": {
     "end_time": "2020-04-20T10:26:08.104379Z",
     "start_time": "2020-04-20T10:26:08.066358Z"
    }
   },
   "outputs": [
    {
     "data": {
      "text/latex": [
       "$\\displaystyle \\left[\\begin{matrix}1 & 1\\\\2 & 2\\\\3 & 2\\\\4 & 3\\\\5 & 2\\\\6 & 4\\\\7 & 2\\\\8 & 4\\\\9 & 3\\\\10 & 4\\\\11 & 2\\\\12 & 6\\\\13 & 2\\\\14 & 4\\\\15 & 4\\\\16 & 5\\\\17 & 2\\\\18 & 6\\\\19 & 2\\end{matrix}\\right]$"
      ],
      "text/plain": [
       "[[1, 1], [2, 2], [3, 2], [4, 3], [5, 2], [6, 4], [7, 2], [8, 4], [9, 3], [10, 4], [11, 2], [12, 6], [13, 2], [14, 4], [15, 4], [16, 5], [17, 2], [18, 6], [19, 2]]"
      ]
     },
     "execution_count": 55,
     "metadata": {},
     "output_type": "execute_result"
    }
   ],
   "source": [
    "Array(zip(range(1,20),\n",
    "Array(len(factor_list(x**j - 1)[1]) for j in range(1,20))\n",
    "   ))\n",
    "# 去问了\n",
    "# 暂时不想用 matplotlib"
   ]
  },
  {
   "cell_type": "code",
   "execution_count": null,
   "metadata": {},
   "outputs": [],
   "source": []
  }
 ],
 "metadata": {
  "file_extension": ".py",
  "kernelspec": {
   "display_name": "Python 3.7.0 32-bit",
   "language": "python",
   "name": "python37032bit1f7a973f3e4e43a28dc60a300a73d1fe"
  },
  "language_info": {
   "codemirror_mode": {
    "name": "ipython",
    "version": 3
   },
   "file_extension": ".py",
   "mimetype": "text/x-python",
   "name": "python",
   "nbconvert_exporter": "python",
   "pygments_lexer": "ipython3",
   "version": "3.7.0"
  },
  "mimetype": "text/x-python",
  "name": "python",
  "npconvert_exporter": "python",
  "pygments_lexer": "ipython3",
  "toc": {
   "base_numbering": 1,
   "nav_menu": {},
   "number_sections": true,
   "sideBar": true,
   "skip_h1_title": false,
   "title_cell": "Table of Contents",
   "title_sidebar": "Contents",
   "toc_cell": false,
   "toc_position": {},
   "toc_section_display": true,
   "toc_window_display": true
  },
  "version": 3
 },
 "nbformat": 4,
 "nbformat_minor": 2
}
