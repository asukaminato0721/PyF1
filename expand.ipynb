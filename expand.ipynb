{
 "cells": [
  {
   "cell_type": "markdown",
   "metadata": {},
   "source": [
    "# Examples"
   ]
  },
  {
   "cell_type": "markdown",
   "metadata": {},
   "source": [
    "## Basic Examples"
   ]
  },
  {
   "cell_type": "code",
   "execution_count": 1,
   "metadata": {
    "ExecuteTime": {
     "end_time": "2020-04-20T08:48:16.009955Z",
     "start_time": "2020-04-20T08:48:15.596947Z"
    }
   },
   "outputs": [
    {
     "data": {
      "text/latex": [
       "$\\displaystyle x^{10} + 10 x^{9} + 45 x^{8} + 120 x^{7} + 210 x^{6} + 252 x^{5} + 210 x^{4} + 120 x^{3} + 45 x^{2} + 10 x + 1$"
      ],
      "text/plain": [
       "x**10 + 10*x**9 + 45*x**8 + 120*x**7 + 210*x**6 + 252*x**5 + 210*x**4 + 120*x**3 + 45*x**2 + 10*x + 1"
      ]
     },
     "execution_count": 1,
     "metadata": {},
     "output_type": "execute_result"
    }
   ],
   "source": [
    "from sympy.abc import *\n",
    "from sympy import *\n",
    "expand((1+x)**10)"
   ]
  },
  {
   "cell_type": "code",
   "execution_count": 2,
   "metadata": {
    "ExecuteTime": {
     "end_time": "2020-04-20T08:48:42.772064Z",
     "start_time": "2020-04-20T08:48:42.743056Z"
    }
   },
   "outputs": [
    {
     "data": {
      "text/latex": [
       "$\\displaystyle - x^{4} - x^{3} y + 5 x^{3} + 6 x^{2} y - 6 x^{2} - 12 x y - 4 x + 8 y + 8$"
      ],
      "text/plain": [
       "-x**4 - x**3*y + 5*x**3 + 6*x**2*y - 6*x**2 - 12*x*y - 4*x + 8*y + 8"
      ]
     },
     "execution_count": 2,
     "metadata": {},
     "output_type": "execute_result"
    }
   ],
   "source": [
    "from sympy.abc import *\n",
    "from sympy import *\n",
    "expand((1+x+y)*(2-x)**3)"
   ]
  },
  {
   "cell_type": "markdown",
   "metadata": {},
   "source": [
    "## Scope"
   ]
  },
  {
   "cell_type": "code",
   "execution_count": 4,
   "metadata": {
    "ExecuteTime": {
     "end_time": "2020-04-20T08:50:19.423409Z",
     "start_time": "2020-04-20T08:50:19.410407Z"
    }
   },
   "outputs": [
    {
     "data": {
      "text/latex": [
       "$\\displaystyle f^{3}{\\left(x_{1} \\right)} + 3 f^{2}{\\left(x_{1} \\right)} f{\\left(x_{2} \\right)} + 3 f{\\left(x_{1} \\right)} f^{2}{\\left(x_{2} \\right)} + f^{3}{\\left(x_{2} \\right)}$"
      ],
      "text/plain": [
       "f(x_1)**3 + 3*f(x_1)**2*f(x_2) + 3*f(x_1)*f(x_2)**2 + f(x_2)**3"
      ]
     },
     "execution_count": 4,
     "metadata": {},
     "output_type": "execute_result"
    }
   ],
   "source": [
    "from sympy.abc import *\n",
    "from sympy import *\n",
    "x1,x2=symbols(\"x_1 x_2\")\n",
    "f=Function(\"f\")\n",
    "expand((f(x1)+f(x2))**3)"
   ]
  },
  {
   "cell_type": "code",
   "execution_count": 5,
   "metadata": {
    "ExecuteTime": {
     "end_time": "2020-04-20T08:50:43.958131Z",
     "start_time": "2020-04-20T08:50:43.945130Z"
    }
   },
   "outputs": [
    {
     "data": {
      "text/latex": [
       "$\\displaystyle \\frac{x}{z} + \\frac{y}{z}$"
      ],
      "text/plain": [
       "x/z + y/z"
      ]
     },
     "execution_count": 5,
     "metadata": {},
     "output_type": "execute_result"
    }
   ],
   "source": [
    "from sympy.abc import *\n",
    "from sympy import *\n",
    "expand((x+y)/z)"
   ]
  },
  {
   "cell_type": "code",
   "execution_count": 7,
   "metadata": {
    "ExecuteTime": {
     "end_time": "2020-04-20T08:51:11.938179Z",
     "start_time": "2020-04-20T08:51:11.911220Z"
    }
   },
   "outputs": [
    {
     "data": {
      "text/latex": [
       "$\\displaystyle x^{4 s} + 4 x^{3 s} y^{s} + 6 x^{2 s} y^{2 s} + 4 x^{s} y^{3 s} + y^{4 s}$"
      ],
      "text/plain": [
       "x**(4*s) + 4*x**(3*s)*y**s + 6*x**(2*s)*y**(2*s) + 4*x**s*y**(3*s) + y**(4*s)"
      ]
     },
     "execution_count": 7,
     "metadata": {},
     "output_type": "execute_result"
    }
   ],
   "source": [
    "from sympy.abc import *\n",
    "from sympy import *\n",
    "expand((x**s+y**s)**4)"
   ]
  },
  {
   "cell_type": "code",
   "execution_count": 8,
   "metadata": {
    "ExecuteTime": {
     "end_time": "2020-04-20T08:51:31.293889Z",
     "start_time": "2020-04-20T08:51:31.285888Z"
    }
   },
   "outputs": [
    {
     "data": {
      "text/latex": [
       "$\\displaystyle x + 1$"
      ],
      "text/plain": [
       "x + 1"
      ]
     },
     "execution_count": 8,
     "metadata": {},
     "output_type": "execute_result"
    }
   ],
   "source": [
    "from sympy.abc import *\n",
    "from sympy import *\n",
    "expand(sqrt(1+x)**2)"
   ]
  },
  {
   "cell_type": "markdown",
   "metadata": {},
   "source": [
    "## Generalizations & Extensions"
   ]
  },
  {
   "cell_type": "code",
   "execution_count": 65,
   "metadata": {
    "ExecuteTime": {
     "end_time": "2020-04-20T09:33:16.811032Z",
     "start_time": "2020-04-20T09:33:16.797031Z"
    }
   },
   "outputs": [
    {
     "data": {
      "text/latex": [
       "$\\displaystyle a^{2} + 2 a b + b^{2} + x^{2} \\left(a^{2} + 2 a b + b^{2}\\right) + x \\left(2 a^{2} + 4 a b + 2 b^{2}\\right)$"
      ],
      "text/plain": [
       "a**2 + 2*a*b + b**2 + x**2*(a**2 + 2*a*b + b**2) + x*(2*a**2 + 4*a*b + 2*b**2)"
      ]
     },
     "execution_count": 65,
     "metadata": {},
     "output_type": "execute_result"
    }
   ],
   "source": [
    "from sympy.abc import *\n",
    "from sympy import *\n",
    "expand((a+b)**2*(1+x)**2).collect(x)"
   ]
  },
  {
   "cell_type": "markdown",
   "metadata": {},
   "source": [
    "## Options"
   ]
  },
  {
   "cell_type": "code",
   "execution_count": 12,
   "metadata": {
    "ExecuteTime": {
     "end_time": "2020-04-20T08:55:50.316743Z",
     "start_time": "2020-04-20T08:55:50.308746Z"
    }
   },
   "outputs": [
    {
     "data": {
      "text/latex": [
       "$\\displaystyle x^{10} + x^{8} + x^{2} + 1$"
      ],
      "text/plain": [
       "x**10 + x**8 + x**2 + 1"
      ]
     },
     "execution_count": 12,
     "metadata": {},
     "output_type": "execute_result"
    }
   ],
   "source": [
    "from sympy.abc import *\n",
    "from sympy import *\n",
    "expand((1+x)**10,modulus=2)"
   ]
  },
  {
   "cell_type": "code",
   "execution_count": 13,
   "metadata": {
    "ExecuteTime": {
     "end_time": "2020-04-20T08:56:03.455041Z",
     "start_time": "2020-04-20T08:56:03.444033Z"
    }
   },
   "outputs": [
    {
     "data": {
      "text/latex": [
       "$\\displaystyle x^{10} + 2 x^{9} + x^{8} + 2 x^{6} + 2 x^{4} + x^{2} + 2 x + 1$"
      ],
      "text/plain": [
       "x**10 + 2*x**9 + x**8 + 2*x**6 + 2*x**4 + x**2 + 2*x + 1"
      ]
     },
     "execution_count": 13,
     "metadata": {},
     "output_type": "execute_result"
    }
   ],
   "source": [
    "from sympy.abc import *\n",
    "from sympy import *\n",
    "expand((1+x)**10,modulus=4)"
   ]
  },
  {
   "cell_type": "code",
   "execution_count": 14,
   "metadata": {
    "ExecuteTime": {
     "end_time": "2020-04-20T08:57:33.492043Z",
     "start_time": "2020-04-20T08:57:33.471038Z"
    }
   },
   "outputs": [
    {
     "data": {
      "text/latex": [
       "$\\displaystyle \\sin{\\left(x \\right)} \\cos{\\left(y \\right)} + \\sin{\\left(y \\right)} \\cos{\\left(x \\right)}$"
      ],
      "text/plain": [
       "sin(x)*cos(y) + sin(y)*cos(x)"
      ]
     },
     "execution_count": 14,
     "metadata": {},
     "output_type": "execute_result"
    }
   ],
   "source": [
    "from sympy.abc import *\n",
    "from sympy import *\n",
    "expand(sin(x+y),trig=True)"
   ]
  },
  {
   "cell_type": "markdown",
   "metadata": {},
   "source": [
    "## Properties & Relations"
   ]
  },
  {
   "cell_type": "code",
   "execution_count": 15,
   "metadata": {
    "ExecuteTime": {
     "end_time": "2020-04-20T08:57:59.963904Z",
     "start_time": "2020-04-20T08:57:59.931905Z"
    }
   },
   "outputs": [
    {
     "data": {
      "text/latex": [
       "$\\displaystyle \\left(x + 1\\right) \\left(x + 2\\right) \\left(x + 3\\right) \\left(x + 4\\right) \\left(x + 5\\right) \\left(x + 6\\right)$"
      ],
      "text/plain": [
       "(x + 1)*(x + 2)*(x + 3)*(x + 4)*(x + 5)*(x + 6)"
      ]
     },
     "execution_count": 15,
     "metadata": {},
     "output_type": "execute_result"
    }
   ],
   "source": [
    "from sympy.abc import *\n",
    "from sympy import *\n",
    "product(x+i,(i,1,6))"
   ]
  },
  {
   "cell_type": "code",
   "execution_count": 16,
   "metadata": {
    "ExecuteTime": {
     "end_time": "2020-04-20T08:58:16.400936Z",
     "start_time": "2020-04-20T08:58:16.377934Z"
    }
   },
   "outputs": [
    {
     "data": {
      "text/latex": [
       "$\\displaystyle x^{6} + 21 x^{5} + 175 x^{4} + 735 x^{3} + 1624 x^{2} + 1764 x + 720$"
      ],
      "text/plain": [
       "x**6 + 21*x**5 + 175*x**4 + 735*x**3 + 1624*x**2 + 1764*x + 720"
      ]
     },
     "execution_count": 16,
     "metadata": {},
     "output_type": "execute_result"
    }
   ],
   "source": [
    "from sympy.abc import *\n",
    "from sympy import *\n",
    "expand(product(x+i,(i,1,6)))"
   ]
  },
  {
   "cell_type": "code",
   "execution_count": 17,
   "metadata": {
    "ExecuteTime": {
     "end_time": "2020-04-20T08:58:43.479935Z",
     "start_time": "2020-04-20T08:58:43.465895Z"
    }
   },
   "outputs": [
    {
     "data": {
      "text/latex": [
       "$\\displaystyle - x^{4} - x^{3} y + 5 x^{3} + 6 x^{2} y - 6 x^{2} - 12 x y - 4 x + 8 y + 8$"
      ],
      "text/plain": [
       "-x**4 - x**3*y + 5*x**3 + 6*x**2*y - 6*x**2 - 12*x*y - 4*x + 8*y + 8"
      ]
     },
     "execution_count": 17,
     "metadata": {},
     "output_type": "execute_result"
    }
   ],
   "source": [
    "from sympy.abc import *\n",
    "from sympy import *\n",
    "expand((1+x+y)*(2-x)**3)"
   ]
  },
  {
   "cell_type": "code",
   "execution_count": 18,
   "metadata": {
    "ExecuteTime": {
     "end_time": "2020-04-20T08:59:04.095973Z",
     "start_time": "2020-04-20T08:59:04.071964Z"
    }
   },
   "outputs": [
    {
     "data": {
      "text/latex": [
       "$\\displaystyle - \\left(x - 2\\right)^{3} \\left(x + y + 1\\right)$"
      ],
      "text/plain": [
       "-(x - 2)**3*(x + y + 1)"
      ]
     },
     "execution_count": 18,
     "metadata": {},
     "output_type": "execute_result"
    }
   ],
   "source": [
    "from sympy.abc import *\n",
    "from sympy import *\n",
    "factor(expand((1+x+y)*(2-x)**3))"
   ]
  },
  {
   "cell_type": "markdown",
   "metadata": {},
   "source": [
    "## Neat Example"
   ]
  },
  {
   "cell_type": "code",
   "execution_count": 24,
   "metadata": {
    "ExecuteTime": {
     "end_time": "2020-04-20T09:05:53.100451Z",
     "start_time": "2020-04-20T09:05:53.086449Z"
    }
   },
   "outputs": [
    {
     "data": {
      "text/latex": [
       "$\\displaystyle 😀^{5} + 5 😀^{4} 😭 + 10 😀^{3} 😭^{2} + 10 😀^{2} 😭^{3} + 5 😀 😭^{4} + 😭^{5}$"
      ],
      "text/plain": [
       "😀**5 + 5*😀**4*😭 + 10*😀**3*😭**2 + 10*😀**2*😭**3 + 5*😀*😭**4 + 😭**5"
      ]
     },
     "execution_count": 24,
     "metadata": {},
     "output_type": "execute_result"
    }
   ],
   "source": [
    "from sympy.abc import *\n",
    "from sympy import *\n",
    "笑, 哭=symbols(\"😀 😭\")\n",
    "expand((笑+哭)**5)"
   ]
  },
  {
   "cell_type": "code",
   "execution_count": 25,
   "metadata": {
    "ExecuteTime": {
     "end_time": "2020-04-20T09:08:08.382721Z",
     "start_time": "2020-04-20T09:08:08.370720Z"
    }
   },
   "outputs": [
    {
     "data": {
      "text/latex": [
       "$\\displaystyle ☹^{5} + 5 ☹^{4} ☺ + 10 ☹^{3} ☺^{2} + 10 ☹^{2} ☺^{3} + 5 ☹ ☺^{4} + ☺^{5}$"
      ],
      "text/plain": [
       "☹**5 + 5*☹**4*☺ + 10*☹**3*☺**2 + 10*☹**2*☺**3 + 5*☹*☺**4 + ☺**5"
      ]
     },
     "execution_count": 25,
     "metadata": {},
     "output_type": "execute_result"
    }
   ],
   "source": [
    "from sympy.abc import *\n",
    "from sympy import *\n",
    "笑, 哭=symbols(\"☺ ☹\")\n",
    "expand((笑+哭)**5)"
   ]
  },
  {
   "cell_type": "code",
   "execution_count": 19,
   "metadata": {
    "ExecuteTime": {
     "end_time": "2020-04-20T08:59:33.566332Z",
     "start_time": "2020-04-20T08:59:33.423319Z"
    }
   },
   "outputs": [
    {
     "data": {
      "text/latex": [
       "$\\displaystyle x^{100} + 100 x^{99} + 4950 x^{98} + 161700 x^{97} + 3921225 x^{96} + 75287520 x^{95} + 1192052400 x^{94} + 16007560800 x^{93} + 186087894300 x^{92} + 1902231808400 x^{91} + 17310309456440 x^{90} + 141629804643600 x^{89} + 1050421051106700 x^{88} + 7110542499799200 x^{87} + 44186942677323600 x^{86} + 253338471349988640 x^{85} + 1345860629046814650 x^{84} + 6650134872937201800 x^{83} + 30664510802988208300 x^{82} + 132341572939212267400 x^{81} + 535983370403809682970 x^{80} + 2041841411062132125600 x^{79} + 7332066885177656269200 x^{78} + 24865270306254660391200 x^{77} + 79776075565900368755100 x^{76} + 242519269720337121015504 x^{75} + 699574816500972464467800 x^{74} + 1917353200780443050763600 x^{73} + 4998813702034726525205100 x^{72} + 12410847811948286545336800 x^{71} + 29372339821610944823963760 x^{70} + 66324638306863423796047200 x^{69} + 143012501349174257560226775 x^{68} + 294692427022540894366527900 x^{67} + 580717429720889409486981450 x^{66} + 1095067153187962886461165020 x^{65} + 1977204582144932989443770175 x^{64} + 3420029547493938143902737600 x^{63} + 5670048986634686922786117600 x^{62} + 9013924030034630492634340800 x^{61} + 13746234145802811501267369720 x^{60} + 20116440213369968050635175200 x^{59} + 28258808871162574166368460400 x^{58} + 38116532895986727945334202400 x^{57} + 49378235797073715747364762200 x^{56} + 61448471214136179596720592960 x^{55} + 73470998190814997343905056800 x^{54} + 84413487283064039501507937600 x^{53} + 93206558875049876949581681100 x^{52} + 98913082887808032681188722800 x^{51} + 100891344545564193334812497256 x^{50} + 98913082887808032681188722800 x^{49} + 93206558875049876949581681100 x^{48} + 84413487283064039501507937600 x^{47} + 73470998190814997343905056800 x^{46} + 61448471214136179596720592960 x^{45} + 49378235797073715747364762200 x^{44} + 38116532895986727945334202400 x^{43} + 28258808871162574166368460400 x^{42} + 20116440213369968050635175200 x^{41} + 13746234145802811501267369720 x^{40} + 9013924030034630492634340800 x^{39} + 5670048986634686922786117600 x^{38} + 3420029547493938143902737600 x^{37} + 1977204582144932989443770175 x^{36} + 1095067153187962886461165020 x^{35} + 580717429720889409486981450 x^{34} + 294692427022540894366527900 x^{33} + 143012501349174257560226775 x^{32} + 66324638306863423796047200 x^{31} + 29372339821610944823963760 x^{30} + 12410847811948286545336800 x^{29} + 4998813702034726525205100 x^{28} + 1917353200780443050763600 x^{27} + 699574816500972464467800 x^{26} + 242519269720337121015504 x^{25} + 79776075565900368755100 x^{24} + 24865270306254660391200 x^{23} + 7332066885177656269200 x^{22} + 2041841411062132125600 x^{21} + 535983370403809682970 x^{20} + 132341572939212267400 x^{19} + 30664510802988208300 x^{18} + 6650134872937201800 x^{17} + 1345860629046814650 x^{16} + 253338471349988640 x^{15} + 44186942677323600 x^{14} + 7110542499799200 x^{13} + 1050421051106700 x^{12} + 141629804643600 x^{11} + 17310309456440 x^{10} + 1902231808400 x^{9} + 186087894300 x^{8} + 16007560800 x^{7} + 1192052400 x^{6} + 75287520 x^{5} + 3921225 x^{4} + 161700 x^{3} + 4950 x^{2} + 100 x + 1$"
      ],
      "text/plain": [
       "x**100 + 100*x**99 + 4950*x**98 + 161700*x**97 + 3921225*x**96 + 75287520*x**95 + 1192052400*x**94 + 16007560800*x**93 + 186087894300*x**92 + 1902231808400*x**91 + 17310309456440*x**90 + 141629804643600*x**89 + 1050421051106700*x**88 + 7110542499799200*x**87 + 44186942677323600*x**86 + 253338471349988640*x**85 + 1345860629046814650*x**84 + 6650134872937201800*x**83 + 30664510802988208300*x**82 + 132341572939212267400*x**81 + 535983370403809682970*x**80 + 2041841411062132125600*x**79 + 7332066885177656269200*x**78 + 24865270306254660391200*x**77 + 79776075565900368755100*x**76 + 242519269720337121015504*x**75 + 699574816500972464467800*x**74 + 1917353200780443050763600*x**73 + 4998813702034726525205100*x**72 + 12410847811948286545336800*x**71 + 29372339821610944823963760*x**70 + 66324638306863423796047200*x**69 + 143012501349174257560226775*x**68 + 294692427022540894366527900*x**67 + 580717429720889409486981450*x**66 + 1095067153187962886461165020*x**65 + 1977204582144932989443770175*x**64 + 3420029547493938143902737600*x**63 + 5670048986634686922786117600*x**62 + 9013924030034630492634340800*x**61 + 13746234145802811501267369720*x**60 + 20116440213369968050635175200*x**59 + 28258808871162574166368460400*x**58 + 38116532895986727945334202400*x**57 + 49378235797073715747364762200*x**56 + 61448471214136179596720592960*x**55 + 73470998190814997343905056800*x**54 + 84413487283064039501507937600*x**53 + 93206558875049876949581681100*x**52 + 98913082887808032681188722800*x**51 + 100891344545564193334812497256*x**50 + 98913082887808032681188722800*x**49 + 93206558875049876949581681100*x**48 + 84413487283064039501507937600*x**47 + 73470998190814997343905056800*x**46 + 61448471214136179596720592960*x**45 + 49378235797073715747364762200*x**44 + 38116532895986727945334202400*x**43 + 28258808871162574166368460400*x**42 + 20116440213369968050635175200*x**41 + 13746234145802811501267369720*x**40 + 9013924030034630492634340800*x**39 + 5670048986634686922786117600*x**38 + 3420029547493938143902737600*x**37 + 1977204582144932989443770175*x**36 + 1095067153187962886461165020*x**35 + 580717429720889409486981450*x**34 + 294692427022540894366527900*x**33 + 143012501349174257560226775*x**32 + 66324638306863423796047200*x**31 + 29372339821610944823963760*x**30 + 12410847811948286545336800*x**29 + 4998813702034726525205100*x**28 + 1917353200780443050763600*x**27 + 699574816500972464467800*x**26 + 242519269720337121015504*x**25 + 79776075565900368755100*x**24 + 24865270306254660391200*x**23 + 7332066885177656269200*x**22 + 2041841411062132125600*x**21 + 535983370403809682970*x**20 + 132341572939212267400*x**19 + 30664510802988208300*x**18 + 6650134872937201800*x**17 + 1345860629046814650*x**16 + 253338471349988640*x**15 + 44186942677323600*x**14 + 7110542499799200*x**13 + 1050421051106700*x**12 + 141629804643600*x**11 + 17310309456440*x**10 + 1902231808400*x**9 + 186087894300*x**8 + 16007560800*x**7 + 1192052400*x**6 + 75287520*x**5 + 3921225*x**4 + 161700*x**3 + 4950*x**2 + 100*x + 1"
      ]
     },
     "execution_count": 19,
     "metadata": {},
     "output_type": "execute_result"
    }
   ],
   "source": [
    "from sympy.abc import *\n",
    "from sympy import *\n",
    "expand((1+x)**100)"
   ]
  },
  {
   "cell_type": "code",
   "execution_count": 62,
   "metadata": {
    "ExecuteTime": {
     "end_time": "2020-04-20T09:29:54.934255Z",
     "start_time": "2020-04-20T09:29:54.894245Z"
    }
   },
   "outputs": [
    {
     "data": {
      "text/plain": [
       "[[1],\n",
       " [1, 1],\n",
       " [1, 0, 1],\n",
       " [1, 1, 1, 1],\n",
       " [1, 0, 0, 0, 1],\n",
       " [1, 1, 0, 0, 1, 1],\n",
       " [1, 0, 1, 0, 1, 0, 1],\n",
       " [1, 1, 1, 1, 1, 1, 1, 1],\n",
       " [1, 0, 0, 0, 0, 0, 0, 0, 1],\n",
       " [1, 1, 0, 0, 0, 0, 0, 0, 1, 1],\n",
       " [1, 0, 1, 0, 0, 0, 0, 0, 1, 0, 1],\n",
       " [1, 1, 1, 1, 0, 0, 0, 0, 1, 1, 1, 1],\n",
       " [1, 0, 0, 0, 1, 0, 0, 0, 1, 0, 0, 0, 1],\n",
       " [1, 1, 0, 0, 1, 1, 0, 0, 1, 1, 0, 0, 1, 1],\n",
       " [1, 0, 1, 0, 1, 0, 1, 0, 1, 0, 1, 0, 1, 0, 1],\n",
       " [1, 1, 1, 1, 1, 1, 1, 1, 1, 1, 1, 1, 1, 1, 1, 1],\n",
       " [1, 0, 0, 0, 0, 0, 0, 0, 0, 0, 0, 0, 0, 0, 0, 0, 1],\n",
       " [1, 1, 0, 0, 0, 0, 0, 0, 0, 0, 0, 0, 0, 0, 0, 0, 1, 1],\n",
       " [1, 0, 1, 0, 0, 0, 0, 0, 0, 0, 0, 0, 0, 0, 0, 0, 1, 0, 1],\n",
       " [1, 1, 1, 1, 0, 0, 0, 0, 0, 0, 0, 0, 0, 0, 0, 0, 1, 1, 1, 1],\n",
       " [1, 0, 0, 0, 1, 0, 0, 0, 0, 0, 0, 0, 0, 0, 0, 0, 1, 0, 0, 0, 1],\n",
       " [1, 1, 0, 0, 1, 1, 0, 0, 0, 0, 0, 0, 0, 0, 0, 0, 1, 1, 0, 0, 1, 1],\n",
       " [1, 0, 1, 0, 1, 0, 1, 0, 0, 0, 0, 0, 0, 0, 0, 0, 1, 0, 1, 0, 1, 0, 1],\n",
       " [1, 1, 1, 1, 1, 1, 1, 1, 0, 0, 0, 0, 0, 0, 0, 0, 1, 1, 1, 1, 1, 1, 1, 1],\n",
       " [1, 0, 0, 0, 0, 0, 0, 0, 1, 0, 0, 0, 0, 0, 0, 0, 1, 0, 0, 0, 0, 0, 0, 0, 1]]"
      ]
     },
     "execution_count": 62,
     "metadata": {},
     "output_type": "execute_result"
    }
   ],
   "source": [
    "from sympy.abc import *\n",
    "from sympy import *\n",
    "[[expand((1+x)**t,modulus=2).coeff(x,j) for j in range(0,t+1)] for t in range(0,25)]"
   ]
  },
  {
   "cell_type": "markdown",
   "metadata": {},
   "source": [
    "##### Possible Issues"
   ]
  }
 ],
 "metadata": {
  "file_extension": ".py",
  "kernelspec": {
   "display_name": "Python 3.7.0 32-bit",
   "language": "python",
   "name": "python37032bit1f7a973f3e4e43a28dc60a300a73d1fe"
  },
  "language_info": {
   "codemirror_mode": {
    "name": "ipython",
    "version": 3
   },
   "file_extension": ".py",
   "mimetype": "text/x-python",
   "name": "python",
   "nbconvert_exporter": "python",
   "pygments_lexer": "ipython3",
   "version": "3.7.0"
  },
  "mimetype": "text/x-python",
  "name": "python",
  "npconvert_exporter": "python",
  "pygments_lexer": "ipython3",
  "toc": {
   "base_numbering": 1,
   "nav_menu": {},
   "number_sections": true,
   "sideBar": true,
   "skip_h1_title": false,
   "title_cell": "Table of Contents",
   "title_sidebar": "Contents",
   "toc_cell": false,
   "toc_position": {},
   "toc_section_display": true,
   "toc_window_display": true
  },
  "version": 3
 },
 "nbformat": 4,
 "nbformat_minor": 2
}
