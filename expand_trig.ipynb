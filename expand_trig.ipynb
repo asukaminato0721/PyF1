{
 "cells": [
  {
   "cell_type": "markdown",
   "metadata": {},
   "source": [
    "# Examples"
   ]
  },
  {
   "cell_type": "code",
   "execution_count": 2,
   "metadata": {
    "ExecuteTime": {
     "end_time": "2020-04-21T01:29:44.603726Z",
     "start_time": "2020-04-21T01:29:44.599723Z"
    }
   },
   "outputs": [],
   "source": [
    "from sympy.abc import *\n",
    "from sympy import *"
   ]
  },
  {
   "cell_type": "markdown",
   "metadata": {},
   "source": [
    "## Basic Examples"
   ]
  },
  {
   "cell_type": "code",
   "execution_count": 3,
   "metadata": {
    "ExecuteTime": {
     "end_time": "2020-04-21T01:30:27.659910Z",
     "start_time": "2020-04-21T01:30:27.263907Z"
    }
   },
   "outputs": [
    {
     "data": {
      "text/latex": [
       "$\\displaystyle 2 \\sin{\\left(x \\right)} \\cos{\\left(x \\right)}$"
      ],
      "text/plain": [
       "2*sin(x)*cos(x)"
      ]
     },
     "execution_count": 3,
     "metadata": {},
     "output_type": "execute_result"
    }
   ],
   "source": [
    "expand_trig(sin(2 *x))"
   ]
  },
  {
   "cell_type": "code",
   "execution_count": 4,
   "metadata": {
    "ExecuteTime": {
     "end_time": "2020-04-21T01:30:59.264429Z",
     "start_time": "2020-04-21T01:30:59.251420Z"
    }
   },
   "outputs": [
    {
     "data": {
      "text/latex": [
       "$\\displaystyle \\sin{\\left(x \\right)} \\cos{\\left(y \\right)} + \\sin{\\left(y \\right)} \\cos{\\left(x \\right)}$"
      ],
      "text/plain": [
       "sin(x)*cos(y) + sin(y)*cos(x)"
      ]
     },
     "execution_count": 4,
     "metadata": {},
     "output_type": "execute_result"
    }
   ],
   "source": [
    "expand_trig(sin(x + y))"
   ]
  },
  {
   "cell_type": "code",
   "execution_count": 5,
   "metadata": {
    "ExecuteTime": {
     "end_time": "2020-04-21T01:31:34.866338Z",
     "start_time": "2020-04-21T01:31:34.834337Z"
    }
   },
   "outputs": [
    {
     "data": {
      "text/latex": [
       "$\\displaystyle 3 \\sinh^{2}{\\left(t \\right)} \\cosh{\\left(t \\right)} + \\cosh^{3}{\\left(t \\right)}$"
      ],
      "text/plain": [
       "3*sinh(t)**2*cosh(t) + cosh(t)**3"
      ]
     },
     "execution_count": 5,
     "metadata": {},
     "output_type": "execute_result"
    }
   ],
   "source": [
    "expand_trig(cosh(3 *t))"
   ]
  },
  {
   "cell_type": "code",
   "execution_count": 6,
   "metadata": {
    "ExecuteTime": {
     "end_time": "2020-04-21T01:31:42.355917Z",
     "start_time": "2020-04-21T01:31:42.347971Z"
    }
   },
   "outputs": [
    {
     "data": {
      "text/latex": [
       "$\\displaystyle \\tanh{\\left(x + y \\right)}$"
      ],
      "text/plain": [
       "tanh(x + y)"
      ]
     },
     "execution_count": 6,
     "metadata": {},
     "output_type": "execute_result"
    }
   ],
   "source": [
    "expand_trig(tanh(x + y))"
   ]
  },
  {
   "cell_type": "code",
   "execution_count": 7,
   "metadata": {
    "ExecuteTime": {
     "end_time": "2020-04-21T01:32:15.169909Z",
     "start_time": "2020-04-21T01:32:15.155908Z"
    }
   },
   "outputs": [
    {
     "data": {
      "text/latex": [
       "$\\displaystyle t \\sqrt{1 - v^{2}} + v \\sqrt{1 - t^{2}}$"
      ],
      "text/plain": [
       "t*sqrt(1 - v**2) + v*sqrt(1 - t**2)"
      ]
     },
     "execution_count": 7,
     "metadata": {},
     "output_type": "execute_result"
    }
   ],
   "source": [
    " expand_trig(sin(asin(t) + asin(v)))"
   ]
  },
  {
   "cell_type": "code",
   "execution_count": 10,
   "metadata": {
    "ExecuteTime": {
     "end_time": "2020-04-21T01:33:22.080130Z",
     "start_time": "2020-04-21T01:33:22.070123Z"
    }
   },
   "outputs": [
    {
     "data": {
      "text/latex": [
       "$\\displaystyle - \\pi$"
      ],
      "text/plain": [
       "-pi"
      ]
     },
     "execution_count": 10,
     "metadata": {},
     "output_type": "execute_result"
    }
   ],
   "source": [
    "(asin(sqrt(1 - t**2) *v + t* sqrt(1 - v**2)) - (asin(t) +  asin(v))) .subs({v:1,t:1})"
   ]
  },
  {
   "cell_type": "code",
   "execution_count": 11,
   "metadata": {
    "ExecuteTime": {
     "end_time": "2020-04-21T01:33:36.229029Z",
     "start_time": "2020-04-21T01:33:36.222058Z"
    }
   },
   "outputs": [
    {
     "data": {
      "text/latex": [
       "$\\displaystyle \\sin^{2}{\\left(x \\right)} + \\tan^{2}{\\left(x \\right)}$"
      ],
      "text/plain": [
       "sin(x)**2 + tan(x)**2"
      ]
     },
     "execution_count": 11,
     "metadata": {},
     "output_type": "execute_result"
    }
   ],
   "source": [
    "expand_trig(sin(x)**2 + tan(x)**2)"
   ]
  },
  {
   "cell_type": "code",
   "execution_count": 12,
   "metadata": {
    "ExecuteTime": {
     "end_time": "2020-04-21T01:33:56.651307Z",
     "start_time": "2020-04-21T01:33:56.640305Z"
    }
   },
   "outputs": [
    {
     "data": {
      "text/latex": [
       "$\\displaystyle 16 \\cos^{5}{\\left(x \\right)} - 20 \\cos^{3}{\\left(x \\right)} + 5 \\cos{\\left(x \\right)}$"
      ],
      "text/plain": [
       "16*cos(x)**5 - 20*cos(x)**3 + 5*cos(x)"
      ]
     },
     "execution_count": 12,
     "metadata": {},
     "output_type": "execute_result"
    }
   ],
   "source": [
    "chebyshevt(5, cos(x))"
   ]
  },
  {
   "cell_type": "code",
   "execution_count": 13,
   "metadata": {
    "ExecuteTime": {
     "end_time": "2020-04-21T01:34:03.535665Z",
     "start_time": "2020-04-21T01:34:03.529670Z"
    }
   },
   "outputs": [
    {
     "data": {
      "text/latex": [
       "$\\displaystyle \\cos{\\left(x \\right)}$"
      ],
      "text/plain": [
       "cos(x)"
      ]
     },
     "execution_count": 13,
     "metadata": {},
     "output_type": "execute_result"
    }
   ],
   "source": [
    "expand_trig(cos(x))"
   ]
  },
  {
   "cell_type": "code",
   "execution_count": 14,
   "metadata": {
    "ExecuteTime": {
     "end_time": "2020-04-21T01:34:10.713568Z",
     "start_time": "2020-04-21T01:34:10.706561Z"
    }
   },
   "outputs": [
    {
     "data": {
      "text/latex": [
       "$\\displaystyle \\cos{\\left(x \\right)}$"
      ],
      "text/plain": [
       "cos(x)"
      ]
     },
     "execution_count": 14,
     "metadata": {},
     "output_type": "execute_result"
    }
   ],
   "source": [
    "expand_trig(cos(x) + cos(x/2)) - cos(x/2)"
   ]
  }
 ],
 "metadata": {
  "file_extension": ".py",
  "kernelspec": {
   "display_name": "Python 3.7.0 32-bit",
   "language": "python",
   "name": "python37032bit1f7a973f3e4e43a28dc60a300a73d1fe"
  },
  "language_info": {
   "codemirror_mode": {
    "name": "ipython",
    "version": 3
   },
   "file_extension": ".py",
   "mimetype": "text/x-python",
   "name": "python",
   "nbconvert_exporter": "python",
   "pygments_lexer": "ipython3",
   "version": "3.7.0"
  },
  "mimetype": "text/x-python",
  "name": "python",
  "npconvert_exporter": "python",
  "pygments_lexer": "ipython3",
  "toc": {
   "base_numbering": 1,
   "nav_menu": {},
   "number_sections": true,
   "sideBar": true,
   "skip_h1_title": false,
   "title_cell": "Table of Contents",
   "title_sidebar": "Contents",
   "toc_cell": false,
   "toc_position": {},
   "toc_section_display": true,
   "toc_window_display": true
  },
  "version": 3
 },
 "nbformat": 4,
 "nbformat_minor": 2
}
