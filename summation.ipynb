{
 "cells": [
  {
   "cell_type": "markdown",
   "metadata": {},
   "source": [
    "# Examples"
   ]
  },
  {
   "cell_type": "markdown",
   "metadata": {},
   "source": [
    "## Basic Examples"
   ]
  },
  {
   "cell_type": "code",
   "execution_count": 66,
   "metadata": {
    "ExecuteTime": {
     "end_time": "2020-04-16T03:05:51.586427Z",
     "start_time": "2020-04-16T03:05:51.578456Z"
    }
   },
   "outputs": [
    {
     "data": {
      "text/latex": [
       "$\\displaystyle 385$"
      ],
      "text/plain": [
       "385"
      ]
     },
     "execution_count": 66,
     "metadata": {},
     "output_type": "execute_result"
    }
   ],
   "source": [
    "from sympy import *\n",
    "from sympy.abc import *\n",
    "summation(x**2,(x,1,10))"
   ]
  },
  {
   "cell_type": "code",
   "execution_count": 6,
   "metadata": {
    "ExecuteTime": {
     "end_time": "2020-04-16T02:30:41.802429Z",
     "start_time": "2020-04-16T02:30:41.465328Z"
    },
    "scrolled": true
   },
   "outputs": [
    {
     "data": {
      "text/latex": [
       "$\\displaystyle \\frac{n^{3}}{3} + \\frac{n^{2}}{2} + \\frac{n}{6}$"
      ],
      "text/plain": [
       "n**3/3 + n**2/2 + n/6"
      ]
     },
     "execution_count": 6,
     "metadata": {},
     "output_type": "execute_result"
    }
   ],
   "source": [
    "from sympy import *\n",
    "from sympy.abc import *\n",
    "summation(x**2,(x,1,n))"
   ]
  },
  {
   "cell_type": "code",
   "execution_count": 11,
   "metadata": {
    "ExecuteTime": {
     "end_time": "2020-04-16T02:38:22.301563Z",
     "start_time": "2020-04-16T02:38:22.293605Z"
    },
    "scrolled": true
   },
   "outputs": [],
   "source": [
    "# no 2d  input"
   ]
  },
  {
   "cell_type": "code",
   "execution_count": 6,
   "metadata": {
    "ExecuteTime": {
     "end_time": "2020-04-16T02:38:22.301563Z",
     "start_time": "2020-04-16T02:38:22.293605Z"
    },
    "scrolled": true
   },
   "outputs": [
    {
     "data": {
      "text/latex": [
       "$\\displaystyle \\frac{n^{3}}{3} + \\frac{n^{2}}{2} + \\frac{n}{6}$"
      ],
      "text/plain": [
       "n**3/3 + n**2/2 + n/6"
      ]
     },
     "execution_count": 6,
     "metadata": {},
     "output_type": "execute_result"
    }
   ],
   "source": [
    "from sympy import *\n",
    "from sympy.abc import *\n",
    "summation(x**2,(x,1,n))"
   ]
  },
  {
   "cell_type": "code",
   "execution_count": 9,
   "metadata": {
    "ExecuteTime": {
     "end_time": "2020-04-16T02:38:22.301563Z",
     "start_time": "2020-04-16T02:38:22.293605Z"
    },
    "scrolled": true
   },
   "outputs": [
    {
     "data": {
      "text/latex": [
       "$\\displaystyle \\frac{\\pi^{6}}{945}$"
      ],
      "text/plain": [
       "pi**6/945"
      ]
     },
     "execution_count": 9,
     "metadata": {},
     "output_type": "execute_result"
    }
   ],
   "source": [
    "from sympy import *\n",
    "from sympy.abc import *\n",
    "summation(1/i**6,(i,1,oo))"
   ]
  },
  {
   "cell_type": "code",
   "execution_count": 14,
   "metadata": {
    "ExecuteTime": {
     "end_time": "2020-04-16T02:38:22.301563Z",
     "start_time": "2020-04-16T02:38:22.293605Z"
    },
    "scrolled": true
   },
   "outputs": [
    {
     "data": {
      "text/latex": [
       "$\\displaystyle \\frac{i^{4}}{4} + \\frac{i^{3}}{2} + \\frac{i^{2}}{4}$"
      ],
      "text/plain": [
       "i**4/4 + i**3/2 + i**2/4"
      ]
     },
     "execution_count": 14,
     "metadata": {},
     "output_type": "execute_result"
    }
   ],
   "source": [
    "from sympy import *\n",
    "from sympy.abc import *\n",
    "summation(i**3,(i,0,i))"
   ]
  },
  {
   "cell_type": "code",
   "execution_count": 18,
   "metadata": {
    "ExecuteTime": {
     "end_time": "2020-04-16T02:38:22.301563Z",
     "start_time": "2020-04-16T02:38:22.293605Z"
    },
    "scrolled": true
   },
   "outputs": [
    {
     "data": {
      "text/latex": [
       "$\\displaystyle i^{3}$"
      ],
      "text/plain": [
       "i**3"
      ]
     },
     "execution_count": 18,
     "metadata": {},
     "output_type": "execute_result"
    }
   ],
   "source": [
    "from sympy import *\n",
    "from sympy.abc import *\n",
    "def summ(j):\n",
    "    return summation(i**3,(i,0,j))\n",
    "summ(i)-summ(i-1)"
   ]
  },
  {
   "cell_type": "code",
   "execution_count": 31,
   "metadata": {
    "ExecuteTime": {
     "end_time": "2020-04-16T02:42:35.888806Z",
     "start_time": "2020-04-16T02:42:33.278845Z"
    }
   },
   "outputs": [
    {
     "data": {
      "text/latex": [
       "$\\displaystyle \\sum_{i=1}^{\\infty} \\left(\\frac{\\pi^{2}}{6 \\left(i + 1\\right)^{2}} - \\frac{\\left(i^{2} + 2 i + 1\\right) \\Phi\\left(1, 2, i + 1\\right)}{\\left(i + 1\\right)^{4}}\\right)$"
      ],
      "text/plain": [
       "Sum(pi**2/(6*(i + 1)**2) - (i**2 + 2*i + 1)*lerchphi(1, 2, i + 1)/(i + 1)**4, (i, 1, oo))"
      ]
     },
     "execution_count": 31,
     "metadata": {},
     "output_type": "execute_result"
    }
   ],
   "source": [
    "from sympy import *\n",
    "from sympy.abc import *\n",
    "summation(1/(j**2*(i+1)**2),(j,1,i),(i,1,oo))\n",
    "# should be pi**4/120"
   ]
  },
  {
   "cell_type": "markdown",
   "metadata": {},
   "source": [
    "## Scope"
   ]
  },
  {
   "cell_type": "code",
   "execution_count": 32,
   "metadata": {
    "ExecuteTime": {
     "end_time": "2020-04-16T02:43:57.223546Z",
     "start_time": "2020-04-16T02:43:57.212545Z"
    }
   },
   "outputs": [
    {
     "data": {
      "text/latex": [
       "$\\displaystyle f{\\left(1 \\right)} + f{\\left(2 \\right)} + f{\\left(3 \\right)} + f{\\left(4 \\right)} + f{\\left(5 \\right)}$"
      ],
      "text/plain": [
       "f(1) + f(2) + f(3) + f(4) + f(5)"
      ]
     },
     "execution_count": 32,
     "metadata": {},
     "output_type": "execute_result"
    }
   ],
   "source": [
    "from sympy import *\n",
    "from sympy.abc import *\n",
    "f=symbols(\"f\",cls=Function)\n",
    "summation(f(i),(i,1,5))"
   ]
  },
  {
   "cell_type": "code",
   "execution_count": 34,
   "metadata": {
    "ExecuteTime": {
     "end_time": "2020-04-16T03:14:09.624292Z",
     "start_time": "2020-04-16T03:14:09.574296Z"
    }
   },
   "outputs": [
    {
     "data": {
      "text/latex": [
       "$\\displaystyle f{\\left(1 \\right)} + f{\\left(3 \\right)} + f{\\left(5 \\right)}$"
      ],
      "text/plain": [
       "f(1) + f(3) + f(5)"
      ]
     },
     "execution_count": 34,
     "metadata": {},
     "output_type": "execute_result"
    }
   ],
   "source": [
    "from sympy import *\n",
    "from sympy.abc import *\n",
    "f=symbols(\"f\",cls=Function)\n",
    "summation(f(2*i-1),(i,1,3))"
   ]
  },
  {
   "cell_type": "code",
   "execution_count": 35,
   "metadata": {
    "ExecuteTime": {
     "end_time": "2020-04-16T03:14:09.624292Z",
     "start_time": "2020-04-16T03:14:09.574296Z"
    }
   },
   "outputs": [],
   "source": [
    "# Using a finite list of elements"
   ]
  },
  {
   "cell_type": "code",
   "execution_count": 50,
   "metadata": {
    "ExecuteTime": {
     "end_time": "2020-04-16T03:14:09.624292Z",
     "start_time": "2020-04-16T03:14:09.574296Z"
    }
   },
   "outputs": [
    {
     "data": {
      "text/plain": [
       "{0: 1/1099511627776,\n",
       " 1: 5/137438953472,\n",
       " 2: 195/274877906944,\n",
       " 3: 1235/137438953472,\n",
       " 4: 45695/549755813888,\n",
       " 5: 82251/137438953472,\n",
       " 6: 959595/274877906944,\n",
       " 7: 2330445/137438953472,\n",
       " 8: 76904685/1099511627776,\n",
       " 9: 8544965/34359738368,\n",
       " 10: 52978783/68719476736,\n",
       " 11: 72243795/34359738368,\n",
       " 12: 698356685/137438953472,\n",
       " 13: 376038215/34359738368,\n",
       " 14: 1450433115/68719476736,\n",
       " 15: 1257042033/34359738368,\n",
       " 16: 31426050825/549755813888,\n",
       " 17: 5545773675/68719476736,\n",
       " 18: 14172532725/137438953472,\n",
       " 19: 8205150525/68719476736,\n",
       " 20: 34461632205/274877906944,\n",
       " 21: 8205150525/68719476736,\n",
       " 22: 14172532725/137438953472,\n",
       " 23: 5545773675/68719476736,\n",
       " 24: 31426050825/549755813888,\n",
       " 25: 1257042033/34359738368,\n",
       " 26: 1450433115/68719476736,\n",
       " 27: 376038215/34359738368,\n",
       " 28: 698356685/137438953472,\n",
       " 29: 72243795/34359738368,\n",
       " 30: 52978783/68719476736,\n",
       " 31: 8544965/34359738368,\n",
       " 32: 76904685/1099511627776,\n",
       " 33: 2330445/137438953472,\n",
       " 34: 959595/274877906944,\n",
       " 35: 82251/137438953472,\n",
       " 36: 45695/549755813888,\n",
       " 37: 1235/137438953472,\n",
       " 38: 195/274877906944,\n",
       " 39: 5/137438953472,\n",
       " 40: 1/1099511627776}"
      ]
     },
     "execution_count": 50,
     "metadata": {},
     "output_type": "execute_result"
    }
   ],
   "source": [
    "from sympy import *\n",
    "from sympy.stats import *\n",
    "X=Binomial(\"X\",40,S.Half)\n",
    "density(X).dict"
   ]
  },
  {
   "cell_type": "code",
   "execution_count": 53,
   "metadata": {
    "ExecuteTime": {
     "end_time": "2020-04-16T03:00:36.829573Z",
     "start_time": "2020-04-16T03:00:36.809597Z"
    }
   },
   "outputs": [
    {
     "data": {
      "text/latex": [
       "$\\displaystyle f{\\left(1,1 \\right)} + f{\\left(1,2 \\right)} + f{\\left(1,3 \\right)} + f{\\left(2,1 \\right)} + f{\\left(2,2 \\right)} + f{\\left(2,3 \\right)} + f{\\left(3,1 \\right)} + f{\\left(3,2 \\right)} + f{\\left(3,3 \\right)}$"
      ],
      "text/plain": [
       "f(1, 1) + f(1, 2) + f(1, 3) + f(2, 1) + f(2, 2) + f(2, 3) + f(3, 1) + f(3, 2) + f(3, 3)"
      ]
     },
     "execution_count": 53,
     "metadata": {},
     "output_type": "execute_result"
    }
   ],
   "source": [
    "from sympy import *\n",
    "from sympy.abc import *\n",
    "f=symbols(\"f\",cls=Function)\n",
    "summation(f(i,j),(i,1,3),(j,1,3))"
   ]
  },
  {
   "cell_type": "code",
   "execution_count": 57,
   "metadata": {
    "ExecuteTime": {
     "end_time": "2020-04-16T03:14:09.624292Z",
     "start_time": "2020-04-16T03:14:09.574296Z"
    }
   },
   "outputs": [
    {
     "data": {
      "text/latex": [
       "$\\displaystyle \\sum_{\\substack{1 \\leq j \\leq i\\\\1 \\leq i \\leq 3}} f{\\left(i,j \\right)}$"
      ],
      "text/plain": [
       "Sum(f(i, j), (j, 1, i), (i, 1, 3))"
      ]
     },
     "execution_count": 57,
     "metadata": {},
     "output_type": "execute_result"
    }
   ],
   "source": [
    "from sympy import *\n",
    "from sympy.abc import *\n",
    "f=symbols(\"f\",cls=Function)\n",
    "summation(f(i,j),(j,1,i),(i,1,3))\n",
    "# dont know how to expand it"
   ]
  },
  {
   "cell_type": "code",
   "execution_count": 139,
   "metadata": {
    "ExecuteTime": {
     "end_time": "2020-04-16T04:00:39.794517Z",
     "start_time": "2020-04-16T04:00:39.695553Z"
    }
   },
   "outputs": [
    {
     "data": {
      "text/latex": [
       "$\\displaystyle \\sum_{i=-\\infty}^{\\infty} \\frac{1}{i^{2} + 1}$"
      ],
      "text/plain": [
       "Sum(1/(i**2 + 1), (i, -oo, oo))"
      ]
     },
     "execution_count": 139,
     "metadata": {},
     "output_type": "execute_result"
    }
   ],
   "source": [
    "from sympy.abc import *\n",
    "from sympy import *\n",
    "summation(1/(i**2+1),(i,S.NegativeInfinity,oo))\n",
    "# pi coth (pi)"
   ]
  },
  {
   "cell_type": "code",
   "execution_count": 65,
   "metadata": {
    "ExecuteTime": {
     "end_time": "2020-04-16T03:05:38.808421Z",
     "start_time": "2020-04-16T03:05:38.394420Z"
    }
   },
   "outputs": [
    {
     "data": {
      "text/latex": [
       "$\\displaystyle \\sum_{j=1}^{\\infty} \\frac{\\left(j^{3} + 6 j^{2} + 12 j + 8\\right) \\Phi\\left(1, 3, j + 2\\right)}{\\left(j + 2\\right)^{3}}$"
      ],
      "text/plain": [
       "Sum((j**3 + 6*j**2 + 12*j + 8)*lerchphi(1, 3, j + 2)/(j + 2)**3, (j, 1, oo))"
      ]
     },
     "execution_count": 65,
     "metadata": {},
     "output_type": "execute_result"
    }
   ],
   "source": [
    "from sympy import *\n",
    "from sympy.abc import *\n",
    "summation(1/(1+i+j)**3,(i,1,oo),(j,1,oo))\n",
    "# mma can do"
   ]
  },
  {
   "cell_type": "code",
   "execution_count": 67,
   "metadata": {
    "ExecuteTime": {
     "end_time": "2020-04-16T03:14:09.624292Z",
     "start_time": "2020-04-16T03:14:09.574296Z"
    }
   },
   "outputs": [
    {
     "data": {
      "text/latex": [
       "$\\displaystyle \\frac{n^{2}}{2} + \\frac{n}{2}$"
      ],
      "text/plain": [
       "n**2/2 + n/2"
      ]
     },
     "execution_count": 67,
     "metadata": {},
     "output_type": "execute_result"
    }
   ],
   "source": [
    "from sympy import *\n",
    "from sympy.abc import *\n",
    "summation(i,(i,1,n))"
   ]
  },
  {
   "cell_type": "code",
   "execution_count": 69,
   "metadata": {
    "ExecuteTime": {
     "end_time": "2020-04-16T03:14:09.624292Z",
     "start_time": "2020-04-16T03:14:09.574296Z"
    }
   },
   "outputs": [
    {
     "data": {
      "text/latex": [
       "$\\displaystyle \\sum_{\\substack{1 \\leq i \\leq n\\\\1 \\leq j \\leq m}} \\frac{1}{i + j + 1}$"
      ],
      "text/plain": [
       "Sum(1/(i + j + 1), (i, 1, n), (j, 1, m))"
      ]
     },
     "execution_count": 69,
     "metadata": {},
     "output_type": "execute_result"
    }
   ],
   "source": [
    "from sympy import *\n",
    "from sympy.abc import *\n",
    "summation(1/(1+i+j),(i,1,n),(j,1,m))"
   ]
  },
  {
   "cell_type": "code",
   "execution_count": 79,
   "metadata": {
    "ExecuteTime": {
     "end_time": "2020-04-16T03:14:09.624292Z",
     "start_time": "2020-04-16T03:14:09.574296Z"
    }
   },
   "outputs": [
    {
     "data": {
      "text/latex": [
       "$\\displaystyle \\frac{i j \\left(i + 1\\right) \\left(j + 1\\right)}{4}$"
      ],
      "text/plain": [
       "i*j*(i + 1)*(j + 1)/4"
      ]
     },
     "execution_count": 79,
     "metadata": {},
     "output_type": "execute_result"
    }
   ],
   "source": [
    "from sympy import *\n",
    "from sympy.abc import *\n",
    "summation(i*j,(j,1,j),(i,1,i)).simplify()\n",
    "# mma 是 j-1 ，不知为何"
   ]
  },
  {
   "cell_type": "code",
   "execution_count": 81,
   "metadata": {
    "ExecuteTime": {
     "end_time": "2020-04-16T03:14:09.624292Z",
     "start_time": "2020-04-16T03:14:09.574296Z"
    }
   },
   "outputs": [
    {
     "data": {
      "text/latex": [
       "$\\displaystyle \\frac{j n \\left(j + 1\\right) \\left(n + 1\\right)}{4}$"
      ],
      "text/plain": [
       "j*n*(j + 1)*(n + 1)/4"
      ]
     },
     "execution_count": 81,
     "metadata": {},
     "output_type": "execute_result"
    }
   ],
   "source": [
    "from sympy import *\n",
    "from sympy.abc import *\n",
    "summation(i*j,(j,0,j),(i,0,n)).simplify()\n",
    "# i dont know it"
   ]
  },
  {
   "cell_type": "code",
   "execution_count": 82,
   "metadata": {
    "ExecuteTime": {
     "end_time": "2020-04-16T03:20:07.407961Z",
     "start_time": "2020-04-16T03:20:07.378993Z"
    }
   },
   "outputs": [
    {
     "data": {
      "text/latex": [
       "$\\displaystyle \\begin{cases} \\frac{1}{1 - a} & \\text{for}\\: \\left|{a}\\right| < 1 \\\\\\sum_{i=0}^{\\infty} a^{i} & \\text{otherwise} \\end{cases}$"
      ],
      "text/plain": [
       "Piecewise((1/(1 - a), Abs(a) < 1), (Sum(a**i, (i, 0, oo)), True))"
      ]
     },
     "execution_count": 82,
     "metadata": {},
     "output_type": "execute_result"
    }
   ],
   "source": [
    "from sympy import *\n",
    "from sympy.abc import *\n",
    "summation(a**i,(i,0,oo))"
   ]
  },
  {
   "cell_type": "code",
   "execution_count": 85,
   "metadata": {
    "ExecuteTime": {
     "end_time": "2020-04-16T03:20:07.407961Z",
     "start_time": "2020-04-16T03:20:07.378993Z"
    }
   },
   "outputs": [
    {
     "data": {
      "text/latex": [
       "$\\displaystyle \\frac{1}{1 - a}$"
      ],
      "text/plain": [
       "1/(1 - a)"
      ]
     },
     "execution_count": 85,
     "metadata": {},
     "output_type": "execute_result"
    }
   ],
   "source": [
    "from sympy.abc import *\n",
    "from sympy import *\n",
    "refine(summation(a**i,(i,0,oo)),Q.is_true(Abs(a)<1))"
   ]
  },
  {
   "cell_type": "code",
   "execution_count": 87,
   "metadata": {
    "ExecuteTime": {
     "end_time": "2020-04-16T03:20:07.407961Z",
     "start_time": "2020-04-16T03:20:07.378993Z"
    }
   },
   "outputs": [
    {
     "data": {
      "text/latex": [
       "$\\displaystyle \\sum_{i=0}^{\\infty} \\left(-1\\right)^{i}$"
      ],
      "text/plain": [
       "Sum((-1)**i, (i, 0, oo))"
      ]
     },
     "execution_count": 87,
     "metadata": {},
     "output_type": "execute_result"
    }
   ],
   "source": [
    "from sympy import *\n",
    "from sympy.abc import *\n",
    "summation((-1)**i,(i,0,oo)).simplify()"
   ]
  },
  {
   "cell_type": "code",
   "execution_count": 81,
   "metadata": {
    "ExecuteTime": {
     "end_time": "2020-04-16T03:20:07.407961Z",
     "start_time": "2020-04-16T03:20:07.378993Z"
    }
   },
   "outputs": [
    {
     "data": {
      "text/latex": [
       "$\\displaystyle \\frac{j n \\left(j + 1\\right) \\left(n + 1\\right)}{4}$"
      ],
      "text/plain": [
       "j*n*(j + 1)*(n + 1)/4"
      ]
     },
     "execution_count": 81,
     "metadata": {},
     "output_type": "execute_result"
    }
   ],
   "source": [
    "# no Regularization"
   ]
  },
  {
   "cell_type": "code",
   "execution_count": 90,
   "metadata": {
    "ExecuteTime": {
     "end_time": "2020-04-16T03:21:07.473649Z",
     "start_time": "2020-04-16T03:21:07.423611Z"
    }
   },
   "outputs": [
    {
     "data": {
      "text/latex": [
       "$\\displaystyle 0.367879441171455$"
      ],
      "text/plain": [
       "0.367879441171455"
      ]
     },
     "execution_count": 90,
     "metadata": {},
     "output_type": "execute_result"
    }
   ],
   "source": [
    "from sympy import *\n",
    "from sympy.abc import *\n",
    "summation(exp(-i**5),(i,1,oo)).evalf()"
   ]
  },
  {
   "cell_type": "markdown",
   "metadata": {},
   "source": [
    "### Indefinite Sums "
   ]
  },
  {
   "cell_type": "code",
   "execution_count": 91,
   "metadata": {
    "ExecuteTime": {
     "end_time": "2020-04-16T03:22:46.069518Z",
     "start_time": "2020-04-16T03:22:46.054558Z"
    }
   },
   "outputs": [
    {
     "data": {
      "text/latex": [
       "$\\displaystyle - f{\\left(0 \\right)} + f{\\left(i + 1 \\right)}$"
      ],
      "text/plain": [
       "-f(0) + f(i + 1)"
      ]
     },
     "execution_count": 91,
     "metadata": {},
     "output_type": "execute_result"
    }
   ],
   "source": [
    "from sympy import *\n",
    "from sympy.abc import *\n",
    "f=symbols(\"f\",cls=Function)\n",
    "summation(f(i+1)-f(i),(i,0,i))\n",
    "# dont know"
   ]
  },
  {
   "cell_type": "code",
   "execution_count": 95,
   "metadata": {
    "ExecuteTime": {
     "end_time": "2020-04-16T03:24:46.052778Z",
     "start_time": "2020-04-16T03:24:46.030785Z"
    }
   },
   "outputs": [
    {
     "data": {
      "text/latex": [
       "$\\displaystyle \\left[\\begin{matrix}\\frac{i^{2}}{2} + \\frac{i}{2} & \\frac{i^{3}}{3} + \\frac{i^{2}}{2} + \\frac{i}{6} & \\frac{i^{4}}{4} + \\frac{i^{3}}{2} + \\frac{i^{2}}{4}\\end{matrix}\\right]$"
      ],
      "text/plain": [
       "[i**2/2 + i/2, i**3/3 + i**2/2 + i/6, i**4/4 + i**3/2 + i**2/4]"
      ]
     },
     "execution_count": 95,
     "metadata": {},
     "output_type": "execute_result"
    }
   ],
   "source": [
    "from sympy import *\n",
    "from sympy.abc import *\n",
    "Array([1,2,3]).applyfunc(lambda k: summation(i**k,(i,0,i)) )  \n",
    "# dont know how to do"
   ]
  },
  {
   "cell_type": "code",
   "execution_count": 98,
   "metadata": {
    "ExecuteTime": {
     "end_time": "2020-04-16T03:31:50.795934Z",
     "start_time": "2020-04-16T03:31:50.776976Z"
    }
   },
   "outputs": [
    {
     "data": {
      "text/latex": [
       "$\\displaystyle \\begin{cases} i + 1 & \\text{for}\\: a = 1 \\\\\\frac{1 - a^{i + 1}}{1 - a} & \\text{otherwise} \\end{cases}$"
      ],
      "text/plain": [
       "Piecewise((i + 1, Eq(a, 1)), ((1 - a**(i + 1))/(1 - a), True))"
      ]
     },
     "execution_count": 98,
     "metadata": {},
     "output_type": "execute_result"
    }
   ],
   "source": [
    "from sympy import *\n",
    "from sympy.abc import *\n",
    "summation(a**i,(i,0,i))\n",
    "# dont know"
   ]
  },
  {
   "cell_type": "code",
   "execution_count": 99,
   "metadata": {
    "ExecuteTime": {
     "end_time": "2020-04-16T03:34:13.735562Z",
     "start_time": "2020-04-16T03:34:13.708601Z"
    }
   },
   "outputs": [
    {
     "data": {
      "text/latex": [
       "$\\displaystyle \\sum_{i=0}^{i} F_{i}$"
      ],
      "text/plain": [
       "Sum(fibonacci(i), (i, 0, i))"
      ]
     },
     "execution_count": 99,
     "metadata": {},
     "output_type": "execute_result"
    }
   ],
   "source": [
    "from sympy import *\n",
    "from sympy.abc import *\n",
    "summation(fibonacci(i),(i,0,i))\n",
    "# dont know"
   ]
  },
  {
   "cell_type": "code",
   "execution_count": 101,
   "metadata": {
    "ExecuteTime": {
     "end_time": "2020-04-16T03:35:14.340571Z",
     "start_time": "2020-04-16T03:35:13.957563Z"
    }
   },
   "outputs": [
    {
     "data": {
      "text/latex": [
       "$\\displaystyle \\frac{3 \\cdot 3^{i} i}{2} + \\frac{27 \\cdot 3^{i}}{4} - \\frac{7}{4}$"
      ],
      "text/plain": [
       "3*3**i*i/2 + 27*3**i/4 - 7/4"
      ]
     },
     "execution_count": 101,
     "metadata": {},
     "output_type": "execute_result"
    }
   ],
   "source": [
    "from sympy import *\n",
    "from sympy.abc import *\n",
    "summation(3**i*(i+5),(i,0,i)).simplify()"
   ]
  },
  {
   "cell_type": "code",
   "execution_count": 105,
   "metadata": {
    "ExecuteTime": {
     "end_time": "2020-04-16T03:36:15.034571Z",
     "start_time": "2020-04-16T03:36:14.992565Z"
    }
   },
   "outputs": [
    {
     "data": {
      "text/latex": [
       "$\\displaystyle \\frac{i}{i + 1}$"
      ],
      "text/plain": [
       "i/(i + 1)"
      ]
     },
     "execution_count": 105,
     "metadata": {},
     "output_type": "execute_result"
    }
   ],
   "source": [
    "from sympy import *\n",
    "from sympy.abc import *\n",
    "summation(1/(i*(i+1)),(i,1,i))\n",
    "# dont know"
   ]
  },
  {
   "cell_type": "code",
   "execution_count": 106,
   "metadata": {
    "ExecuteTime": {
     "end_time": "2020-04-16T03:40:35.896881Z",
     "start_time": "2020-04-16T03:40:35.759879Z"
    }
   },
   "outputs": [
    {
     "data": {
      "text/latex": [
       "$\\displaystyle \\begin{cases} \\frac{a \\left(- a - 1\\right)}{\\left(a - 1\\right)^{3}} & \\text{for}\\: \\left|{a}\\right| < 1 \\\\\\sum_{i=0}^{\\infty} a^{i} i^{2} & \\text{otherwise} \\end{cases}$"
      ],
      "text/plain": [
       "Piecewise((a*(-a - 1)/(a - 1)**3, Abs(a) < 1), (Sum(a**i*i**2, (i, 0, oo)), True))"
      ]
     },
     "execution_count": 106,
     "metadata": {},
     "output_type": "execute_result"
    }
   ],
   "source": [
    "from sympy import *\n",
    "from sympy.abc import *\n",
    "summation(i**2*a**i,(i,0,oo))"
   ]
  },
  {
   "cell_type": "code",
   "execution_count": 107,
   "metadata": {
    "ExecuteTime": {
     "end_time": "2020-04-16T03:43:41.872274Z",
     "start_time": "2020-04-16T03:43:41.384277Z"
    }
   },
   "outputs": [
    {
     "data": {
      "text/latex": [
       "$\\displaystyle \\frac{n \\left(49 n^{5} + 909 n^{4} + 6475 n^{3} + 22015 n^{2} + 35476 n + 21476\\right)}{120 \\left(n + 1\\right) \\left(n + 2\\right) \\left(n + 3\\right) \\left(n + 4\\right) \\left(n + 5\\right) \\left(n + 6\\right)}$"
      ],
      "text/plain": [
       "n*(49*n**5 + 909*n**4 + 6475*n**3 + 22015*n**2 + 35476*n + 21476)/(120*(n + 1)*(n + 2)*(n + 3)*(n + 4)*(n + 5)*(n + 6))"
      ]
     },
     "execution_count": 107,
     "metadata": {},
     "output_type": "execute_result"
    }
   ],
   "source": [
    "from sympy import *\n",
    "from sympy.abc import *\n",
    "summation(1/(i*(i+6)),(i,1,n))"
   ]
  },
  {
   "cell_type": "code",
   "execution_count": 108,
   "metadata": {
    "ExecuteTime": {
     "end_time": "2020-04-16T03:43:41.872274Z",
     "start_time": "2020-04-16T03:43:41.384277Z"
    }
   },
   "outputs": [
    {
     "data": {
      "text/latex": [
       "$\\displaystyle \\sum_{i=1}^{\\infty} \\frac{1}{i^{2} + 1}$"
      ],
      "text/plain": [
       "Sum(1/(i**2 + 1), (i, 1, oo))"
      ]
     },
     "execution_count": 108,
     "metadata": {},
     "output_type": "execute_result"
    }
   ],
   "source": [
    "from sympy import *\n",
    "from sympy.abc import *\n",
    "summation(1/(i**2+1),(i,1,oo))"
   ]
  },
  {
   "cell_type": "code",
   "execution_count": 109,
   "metadata": {
    "ExecuteTime": {
     "end_time": "2020-04-16T03:43:41.872274Z",
     "start_time": "2020-04-16T03:43:41.384277Z"
    }
   },
   "outputs": [
    {
     "data": {
      "text/latex": [
       "$\\displaystyle \\text{NaN}$"
      ],
      "text/plain": [
       "nan"
      ]
     },
     "execution_count": 109,
     "metadata": {},
     "output_type": "execute_result"
    }
   ],
   "source": [
    "from sympy import *\n",
    "from sympy.abc import *\n",
    "summation(1/(i*(2*i+1)),(i,1,oo))\n",
    "# 2-2log (2)"
   ]
  },
  {
   "cell_type": "code",
   "execution_count": 110,
   "metadata": {
    "ExecuteTime": {
     "end_time": "2020-04-16T03:43:41.872274Z",
     "start_time": "2020-04-16T03:43:41.384277Z"
    }
   },
   "outputs": [
    {
     "data": {
      "text/latex": [
       "$\\displaystyle \\sum_{i=1}^{\\infty} \\frac{1}{i^{10} + 1}$"
      ],
      "text/plain": [
       "Sum(1/(i**10 + 1), (i, 1, oo))"
      ]
     },
     "execution_count": 110,
     "metadata": {},
     "output_type": "execute_result"
    }
   ],
   "source": [
    "from sympy import *\n",
    "from sympy.abc import *\n",
    "summation(1/(i**10+1),(i,1,oo))"
   ]
  },
  {
   "cell_type": "code",
   "execution_count": 111,
   "metadata": {
    "ExecuteTime": {
     "end_time": "2020-04-16T03:43:41.872274Z",
     "start_time": "2020-04-16T03:43:41.384277Z"
    }
   },
   "outputs": [
    {
     "data": {
      "text/latex": [
       "$\\displaystyle - \\frac{2^{- n - 1} \\left(\\left(- n^{2} - 3 n - 2\\right) \\Phi\\left(\\frac{1}{2}, 1, n + 2\\right) + \\left(n^{2} + 3 n + 2\\right) \\Phi\\left(\\frac{1}{2}, 1, n + 1\\right)\\right)}{\\left(n + 1\\right) \\left(n + 2\\right)} - \\log{\\left(2 \\right)} + 1$"
      ],
      "text/plain": [
       "-2**(-n - 1)*((-n**2 - 3*n - 2)*lerchphi(1/2, 1, n + 2) + (n**2 + 3*n + 2)*lerchphi(1/2, 1, n + 1))/((n + 1)*(n + 2)) - log(2) + 1"
      ]
     },
     "execution_count": 111,
     "metadata": {},
     "output_type": "execute_result"
    }
   ],
   "source": [
    "from sympy import *\n",
    "from sympy.abc import *\n",
    "summation(2**(-i)/(i*(i+1)),(i,1,n))"
   ]
  },
  {
   "cell_type": "code",
   "execution_count": 112,
   "metadata": {
    "ExecuteTime": {
     "end_time": "2020-04-16T03:44:17.611275Z",
     "start_time": "2020-04-16T03:44:17.503241Z"
    }
   },
   "outputs": [
    {
     "data": {
      "text/latex": [
       "$\\displaystyle 1 - \\log{\\left(2 \\right)}$"
      ],
      "text/plain": [
       "1 - log(2)"
      ]
     },
     "execution_count": 112,
     "metadata": {},
     "output_type": "execute_result"
    }
   ],
   "source": [
    "from sympy import *\n",
    "from sympy.abc import *\n",
    "summation(2**(-i)/(i*(i+1)),(i,1,oo))"
   ]
  },
  {
   "cell_type": "code",
   "execution_count": 113,
   "metadata": {
    "ExecuteTime": {
     "end_time": "2020-04-16T03:50:34.495394Z",
     "start_time": "2020-04-16T03:50:34.450429Z"
    }
   },
   "outputs": [
    {
     "data": {
      "text/latex": [
       "$\\displaystyle \\sum_{i=1}^{n} \\sin{\\left(b + i \\right)} \\cos{\\left(i \\right)}$"
      ],
      "text/plain": [
       "Sum(sin(b + i)*cos(i), (i, 1, n))"
      ]
     },
     "execution_count": 113,
     "metadata": {},
     "output_type": "execute_result"
    }
   ],
   "source": [
    "from sympy import *\n",
    "from sympy.abc import *\n",
    "summation(sin(i+b)*cos(i),(i,1,n))"
   ]
  },
  {
   "cell_type": "code",
   "execution_count": 114,
   "metadata": {
    "ExecuteTime": {
     "end_time": "2020-04-16T03:50:34.495394Z",
     "start_time": "2020-04-16T03:50:34.450429Z"
    }
   },
   "outputs": [
    {
     "data": {
      "text/latex": [
       "$\\displaystyle \\sum_{i=1}^{n} i \\sin{\\left(i \\right)}$"
      ],
      "text/plain": [
       "Sum(i*sin(i), (i, 1, n))"
      ]
     },
     "execution_count": 114,
     "metadata": {},
     "output_type": "execute_result"
    }
   ],
   "source": [
    "from sympy import *\n",
    "from sympy.abc import *\n",
    "summation(i*sin(i),(i,1,n))"
   ]
  },
  {
   "cell_type": "code",
   "execution_count": 115,
   "metadata": {
    "ExecuteTime": {
     "end_time": "2020-04-16T03:50:34.495394Z",
     "start_time": "2020-04-16T03:50:34.450429Z"
    }
   },
   "outputs": [
    {
     "data": {
      "text/latex": [
       "$\\displaystyle \\sum_{i=1}^{n} \\frac{\\sin{\\left(i \\right)}}{i}$"
      ],
      "text/plain": [
       "Sum(sin(i)/i, (i, 1, n))"
      ]
     },
     "execution_count": 115,
     "metadata": {},
     "output_type": "execute_result"
    }
   ],
   "source": [
    "from sympy import *\n",
    "from sympy.abc import *\n",
    "summation(sin(i)/i,(i,1,n))"
   ]
  },
  {
   "cell_type": "code",
   "execution_count": 118,
   "metadata": {
    "ExecuteTime": {
     "end_time": "2020-04-16T03:50:34.495394Z",
     "start_time": "2020-04-16T03:50:34.450429Z"
    }
   },
   "outputs": [
    {
     "data": {
      "text/latex": [
       "$\\displaystyle \\sum_{i=1}^{\\infty} 10^{- i} \\cosh{\\left(i \\right)}$"
      ],
      "text/plain": [
       "Sum(10**(-i)*cosh(i), (i, 1, oo))"
      ]
     },
     "execution_count": 118,
     "metadata": {},
     "output_type": "execute_result"
    }
   ],
   "source": [
    "from sympy import *\n",
    "from sympy.abc import *\n",
    "summation(cosh(i)/10**i,(i,1,oo))"
   ]
  },
  {
   "cell_type": "code",
   "execution_count": 123,
   "metadata": {
    "ExecuteTime": {
     "end_time": "2020-04-16T03:49:24.693388Z",
     "start_time": "2020-04-16T03:49:24.448435Z"
    }
   },
   "outputs": [
    {
     "data": {
      "text/latex": [
       "$\\displaystyle \\sum_{i=1}^{n} \\log{\\left(\\frac{i + 1}{i + 2} \\right)}$"
      ],
      "text/plain": [
       "Sum(log((i + 1)/(i + 2)), (i, 1, n))"
      ]
     },
     "execution_count": 123,
     "metadata": {},
     "output_type": "execute_result"
    }
   ],
   "source": [
    "from sympy import *\n",
    "from sympy.abc import *\n",
    "summation(log((i+1)/(i+2)),(i,1,n))"
   ]
  },
  {
   "cell_type": "code",
   "execution_count": 124,
   "metadata": {
    "ExecuteTime": {
     "end_time": "2020-04-16T03:49:24.693388Z",
     "start_time": "2020-04-16T03:49:24.448435Z"
    }
   },
   "outputs": [
    {
     "data": {
      "text/latex": [
       "$\\displaystyle \\sum_{i=a}^{b} i \\left(i + 1\\right) \\log{\\left(i + 1 \\right)}$"
      ],
      "text/plain": [
       "Sum(i*(i + 1)*log(i + 1), (i, a, b))"
      ]
     },
     "execution_count": 124,
     "metadata": {},
     "output_type": "execute_result"
    }
   ],
   "source": [
    "from sympy import *\n",
    "from sympy.abc import *\n",
    "summation(i*(i+1)*log(i+1),(i,a,b))"
   ]
  },
  {
   "cell_type": "code",
   "execution_count": 125,
   "metadata": {
    "ExecuteTime": {
     "end_time": "2020-04-16T03:49:24.693388Z",
     "start_time": "2020-04-16T03:49:24.448435Z"
    }
   },
   "outputs": [
    {
     "data": {
      "text/latex": [
       "$\\displaystyle \\sum_{i=1}^{\\infty} \\frac{\\log{\\left(i \\right)}}{i^{2}}$"
      ],
      "text/plain": [
       "Sum(log(i)/i**2, (i, 1, oo))"
      ]
     },
     "execution_count": 125,
     "metadata": {},
     "output_type": "execute_result"
    }
   ],
   "source": [
    "from sympy import *\n",
    "from sympy.abc import *\n",
    "summation(log(i)/i**2,(i,1,oo))"
   ]
  },
  {
   "cell_type": "code",
   "execution_count": 126,
   "metadata": {
    "ExecuteTime": {
     "end_time": "2020-04-16T03:49:24.693388Z",
     "start_time": "2020-04-16T03:49:24.448435Z"
    }
   },
   "outputs": [
    {
     "data": {
      "text/latex": [
       "$\\displaystyle \\sum_{i=1}^{\\infty} i^{- p} \\log{\\left(i \\right)}$"
      ],
      "text/plain": [
       "Sum(i**(-p)*log(i), (i, 1, oo))"
      ]
     },
     "execution_count": 126,
     "metadata": {},
     "output_type": "execute_result"
    }
   ],
   "source": [
    "from sympy import *\n",
    "from sympy.abc import *\n",
    "summation(log(i)/i**p,(i,1,oo))"
   ]
  },
  {
   "cell_type": "code",
   "execution_count": 129,
   "metadata": {
    "ExecuteTime": {
     "end_time": "2020-04-16T03:49:24.693388Z",
     "start_time": "2020-04-16T03:49:24.448435Z"
    }
   },
   "outputs": [
    {
     "data": {
      "text/latex": [
       "$\\displaystyle \\begin{cases} 2^{n} & \\text{for}\\: \\left(\\operatorname{re}{\\left(n\\right)} \\leq 0 \\wedge \\operatorname{re}{\\left(n\\right)} > -1\\right) \\vee \\operatorname{re}{\\left(n\\right)} > 0 \\\\\\sum_{i=0}^{n} {\\binom{n}{i}} & \\text{otherwise} \\end{cases}$"
      ],
      "text/plain": [
       "Piecewise((2**n, (re(n) > 0) | ((re(n) <= 0) & (re(n) > -1))), (Sum(binomial(n, i), (i, 0, n)), True))"
      ]
     },
     "execution_count": 129,
     "metadata": {},
     "output_type": "execute_result"
    }
   ],
   "source": [
    "from sympy import *\n",
    "from sympy.abc import *\n",
    "summation(binomial(n,i),(i,0,n)).simplify()"
   ]
  },
  {
   "cell_type": "code",
   "execution_count": 130,
   "metadata": {
    "ExecuteTime": {
     "end_time": "2020-04-16T03:50:34.495394Z",
     "start_time": "2020-04-16T03:50:34.450429Z"
    }
   },
   "outputs": [
    {
     "data": {
      "text/latex": [
       "$\\displaystyle \\begin{cases} \\frac{\\sqrt{\\pi}}{2 \\Gamma\\left(n + \\frac{3}{2}\\right)} & \\text{for}\\: \\left(2 \\operatorname{re}{\\left(n\\right)} + 1 \\leq 0 \\wedge 2 \\operatorname{re}{\\left(n\\right)} + 1 > -1\\right) \\vee 2 \\operatorname{re}{\\left(n\\right)} + 1 > 0 \\\\\\sum_{i=0}^{n} \\frac{{\\binom{n}{i}} i!}{\\left(i + n + 1\\right)!} & \\text{otherwise} \\end{cases}$"
      ],
      "text/plain": [
       "Piecewise((sqrt(pi)/(2*gamma(n + 3/2)), (2*re(n) + 1 > 0) | ((2*re(n) + 1 <= 0) & (2*re(n) + 1 > -1))), (Sum(binomial(n, i)*factorial(i)/factorial(i + n + 1), (i, 0, n)), True))"
      ]
     },
     "execution_count": 130,
     "metadata": {},
     "output_type": "execute_result"
    }
   ],
   "source": [
    "from sympy import *\n",
    "from sympy.abc import *\n",
    "summation(binomial(n,i)*factorial(i)/factorial(n+1+i),(i,0,n)).simplify()"
   ]
  },
  {
   "cell_type": "code",
   "execution_count": 132,
   "metadata": {
    "ExecuteTime": {
     "end_time": "2020-04-16T03:50:34.495394Z",
     "start_time": "2020-04-16T03:50:34.450429Z"
    }
   },
   "outputs": [
    {
     "data": {
      "text/latex": [
       "$\\displaystyle e$"
      ],
      "text/plain": [
       "E"
      ]
     },
     "execution_count": 132,
     "metadata": {},
     "output_type": "execute_result"
    }
   ],
   "source": [
    "from sympy import *\n",
    "from sympy.abc import *\n",
    "summation(1/factorial(i),(i,0,oo))"
   ]
  },
  {
   "cell_type": "code",
   "execution_count": 134,
   "metadata": {
    "ExecuteTime": {
     "end_time": "2020-04-16T03:53:31.576462Z",
     "start_time": "2020-04-16T03:53:31.232500Z"
    }
   },
   "outputs": [
    {
     "data": {
      "text/latex": [
       "$\\displaystyle {{}_{1}F_{2}\\left(\\begin{matrix} a \\\\ b, c \\end{matrix}\\middle| {x} \\right)}$"
      ],
      "text/plain": [
       "hyper((a,), (b, c), x)"
      ]
     },
     "execution_count": 134,
     "metadata": {},
     "output_type": "execute_result"
    }
   ],
   "source": [
    "from sympy import *\n",
    "from sympy.abc import *\n",
    "summation(\n",
    "    rf(a,i)/(rf(b,i)*rf(c,i))*x**i/factorial(i),\n",
    "    (i,0,oo)\n",
    ")"
   ]
  },
  {
   "cell_type": "code",
   "execution_count": 136,
   "metadata": {
    "ExecuteTime": {
     "end_time": "2020-04-16T03:55:56.107842Z",
     "start_time": "2020-04-16T03:55:55.655846Z"
    }
   },
   "outputs": [
    {
     "data": {
      "text/latex": [
       "$\\displaystyle - \\frac{I_{0}\\left(2\\right)}{4} + \\frac{J_{0}\\left(2\\right)}{4} + \\frac{J_{1}\\left(2\\right)}{4} + \\frac{I_{1}\\left(2\\right)}{4}$"
      ],
      "text/plain": [
       "-besseli(0, 2)/4 + besselj(0, 2)/4 + besselj(1, 2)/4 + besseli(1, 2)/4"
      ]
     },
     "execution_count": 136,
     "metadata": {},
     "output_type": "execute_result"
    }
   ],
   "source": [
    "from sympy import *\n",
    "from sympy.abc import *\n",
    "summation(\n",
    "    i/factorial(2*i+1)**2,\n",
    "    (i,1,oo)\n",
    ").simplify()"
   ]
  },
  {
   "cell_type": "code",
   "execution_count": 144,
   "metadata": {
    "ExecuteTime": {
     "end_time": "2020-04-16T04:02:28.558679Z",
     "start_time": "2020-04-16T04:02:28.337681Z"
    }
   },
   "outputs": [
    {
     "data": {
      "text/latex": [
       "$\\displaystyle - I^{2}_{1}\\left(2\\right) + I^{2}_{0}\\left(2\\right)$"
      ],
      "text/plain": [
       "-besseli(1, 2)**2 + besseli(0, 2)**2"
      ]
     },
     "execution_count": 144,
     "metadata": {},
     "output_type": "execute_result"
    }
   ],
   "source": [
    "from sympy import *\n",
    "from sympy.abc import *\n",
    "summation(\n",
    "   catalan(i)/factorial(i)**2,\n",
    "    (i,0,oo)\n",
    ")\n",
    "# 这个是 sympy better"
   ]
  },
  {
   "cell_type": "code",
   "execution_count": null,
   "metadata": {},
   "outputs": [],
   "source": []
  },
  {
   "cell_type": "code",
   "execution_count": null,
   "metadata": {},
   "outputs": [],
   "source": []
  },
  {
   "cell_type": "code",
   "execution_count": null,
   "metadata": {},
   "outputs": [],
   "source": []
  },
  {
   "cell_type": "markdown",
   "metadata": {},
   "source": [
    "### Specific Values"
   ]
  },
  {
   "cell_type": "markdown",
   "metadata": {},
   "source": [
    "### Visualization"
   ]
  },
  {
   "cell_type": "markdown",
   "metadata": {},
   "source": [
    "## Function Properties"
   ]
  },
  {
   "cell_type": "markdown",
   "metadata": {},
   "source": [
    "### Differentiation"
   ]
  },
  {
   "cell_type": "markdown",
   "metadata": {},
   "source": [
    "### Integration"
   ]
  },
  {
   "cell_type": "markdown",
   "metadata": {},
   "source": [
    "### Series Expansions"
   ]
  },
  {
   "cell_type": "markdown",
   "metadata": {},
   "source": [
    "### Integral Transforms"
   ]
  },
  {
   "cell_type": "markdown",
   "metadata": {},
   "source": [
    "### Function Identities and Simplifications"
   ]
  },
  {
   "cell_type": "markdown",
   "metadata": {},
   "source": [
    "### Function Representations"
   ]
  },
  {
   "cell_type": "markdown",
   "metadata": {},
   "source": [
    "## Applications"
   ]
  },
  {
   "cell_type": "markdown",
   "metadata": {},
   "source": [
    "## Properties & Relations"
   ]
  },
  {
   "cell_type": "markdown",
   "metadata": {},
   "source": [
    "## Possible Issues"
   ]
  },
  {
   "cell_type": "markdown",
   "metadata": {},
   "source": [
    "## Neat Example"
   ]
  }
 ],
 "metadata": {
  "file_extension": ".py",
  "kernelspec": {
   "display_name": "Python 3.7.0 32-bit",
   "language": "python",
   "name": "python37032bit1f7a973f3e4e43a28dc60a300a73d1fe"
  },
  "language_info": {
   "codemirror_mode": {
    "name": "ipython",
    "version": 3
   },
   "file_extension": ".py",
   "mimetype": "text/x-python",
   "name": "python",
   "nbconvert_exporter": "python",
   "pygments_lexer": "ipython3",
   "version": "3.7.0"
  },
  "mimetype": "text/x-python",
  "name": "python",
  "npconvert_exporter": "python",
  "pygments_lexer": "ipython3",
  "toc": {
   "base_numbering": 1,
   "nav_menu": {},
   "number_sections": true,
   "sideBar": true,
   "skip_h1_title": false,
   "title_cell": "Table of Contents",
   "title_sidebar": "Contents",
   "toc_cell": false,
   "toc_position": {},
   "toc_section_display": true,
   "toc_window_display": true
  },
  "version": 3
 },
 "nbformat": 4,
 "nbformat_minor": 2
}
