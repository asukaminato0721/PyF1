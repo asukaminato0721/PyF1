{
 "cells": [
  {
   "cell_type": "markdown",
   "metadata": {},
   "source": [
    "# Examples"
   ]
  },
  {
   "cell_type": "markdown",
   "metadata": {},
   "source": [
    "## Basic Examples"
   ]
  },
  {
   "cell_type": "code",
   "execution_count": 2,
   "metadata": {
    "ExecuteTime": {
     "end_time": "2020-04-20T11:06:11.947971Z",
     "start_time": "2020-04-20T11:06:11.605013Z"
    }
   },
   "outputs": [
    {
     "data": {
      "text/latex": [
       "$\\displaystyle b y + x \\left(a + c\\right)$"
      ],
      "text/plain": [
       "b*y + x*(a + c)"
      ]
     },
     "execution_count": 2,
     "metadata": {},
     "output_type": "execute_result"
    }
   ],
   "source": [
    "from sympy.abc import *\n",
    "from sympy import *\n",
    "\n",
    "collect(a *x + b* y + c *x, x)"
   ]
  },
  {
   "cell_type": "code",
   "execution_count": 4,
   "metadata": {
    "ExecuteTime": {
     "end_time": "2020-04-20T11:06:45.755305Z",
     "start_time": "2020-04-20T11:06:45.728314Z"
    }
   },
   "outputs": [
    {
     "data": {
      "text/latex": [
       "$\\displaystyle a^{4} + 4 a^{3} + 6 a^{2} + 4 a + x^{4} + x^{3} \\left(4 a + 4\\right) + x^{2} \\left(6 a^{2} + 12 a + 6\\right) + x \\left(4 a^{3} + 12 a^{2} + 12 a + 4\\right) + 1$"
      ],
      "text/plain": [
       "a**4 + 4*a**3 + 6*a**2 + 4*a + x**4 + x**3*(4*a + 4) + x**2*(6*a**2 + 12*a + 6) + x*(4*a**3 + 12*a**2 + 12*a + 4) + 1"
      ]
     },
     "execution_count": 4,
     "metadata": {},
     "output_type": "execute_result"
    }
   ],
   "source": [
    "collect(expand((1 + a + x)**4), x)"
   ]
  },
  {
   "cell_type": "code",
   "execution_count": 5,
   "metadata": {
    "ExecuteTime": {
     "end_time": "2020-04-20T11:07:05.456285Z",
     "start_time": "2020-04-20T11:07:05.438321Z"
    }
   },
   "outputs": [
    {
     "data": {
      "text/latex": [
       "$\\displaystyle x^{4} \\left(a + b\\right) + x \\left(2 a^{2} - 3 b + 1\\right) - 7$"
      ],
      "text/plain": [
       "x**4*(a + b) + x*(2*a**2 - 3*b + 1) - 7"
      ]
     },
     "execution_count": 5,
     "metadata": {},
     "output_type": "execute_result"
    }
   ],
   "source": [
    "collect(a *x**4 + b *x**4 + 2* a**2* x - 3 *b *x + x - 7, x)"
   ]
  },
  {
   "cell_type": "code",
   "execution_count": 7,
   "metadata": {
    "ExecuteTime": {
     "end_time": "2020-04-20T11:07:47.255745Z",
     "start_time": "2020-04-20T11:07:47.242751Z"
    }
   },
   "outputs": [
    {
     "data": {
      "text/latex": [
       "$\\displaystyle x^{\\frac{2}{3}} \\left(1 - 2 b\\right) + \\sqrt{x} \\left(a + 1\\right) + x \\left(3 - c\\right) + 5$"
      ],
      "text/plain": [
       "x**(2/3)*(1 - 2*b) + sqrt(x)*(a + 1) + x*(3 - c) + 5"
      ]
     },
     "execution_count": 7,
     "metadata": {},
     "output_type": "execute_result"
    }
   ],
   "source": [
    "collect(a* sqrt(x) + sqrt(x) + x**Rational(2,3) - c* x + 3 *x - 2 *b* x**Rational(2,3) + 5, x)"
   ]
  },
  {
   "cell_type": "code",
   "execution_count": 10,
   "metadata": {
    "ExecuteTime": {
     "end_time": "2020-04-20T11:08:13.865476Z",
     "start_time": "2020-04-20T11:08:13.814510Z"
    }
   },
   "outputs": [
    {
     "data": {
      "text/latex": [
       "$\\displaystyle x^{4} + x^{3} \\left(4 y + 4 z + 4\\right) + x^{2} \\left(6 y^{2} + 12 y z + 12 y + 6 z^{2} + 12 z + 6\\right) + x \\left(4 y^{3} + 12 y^{2} z + 12 y^{2} + 12 y z^{2} + 24 y z + 12 y + 4 z^{3} + 12 z^{2} + 12 z + 4\\right) + y^{4} + y^{3} \\left(4 z + 4\\right) + y^{2} \\left(6 z^{2} + 12 z + 6\\right) + y \\left(4 z^{3} + 12 z^{2} + 12 z + 4\\right) + z^{4} + 4 z^{3} + 6 z^{2} + 4 z + 1$"
      ],
      "text/plain": [
       "x**4 + x**3*(4*y + 4*z + 4) + x**2*(6*y**2 + 12*y*z + 12*y + 6*z**2 + 12*z + 6) + x*(4*y**3 + 12*y**2*z + 12*y**2 + 12*y*z**2 + 24*y*z + 12*y + 4*z**3 + 12*z**2 + 12*z + 4) + y**4 + y**3*(4*z + 4) + y**2*(6*z**2 + 12*z + 6) + y*(4*z**3 + 12*z**2 + 12*z + 4) + z**4 + 4*z**3 + 6*z**2 + 4*z + 1"
      ]
     },
     "execution_count": 10,
     "metadata": {},
     "output_type": "execute_result"
    }
   ],
   "source": [
    "collect(expand((x + y + z + 1)**4), (x, y))"
   ]
  },
  {
   "cell_type": "code",
   "execution_count": 15,
   "metadata": {
    "ExecuteTime": {
     "end_time": "2020-04-20T11:09:40.858935Z",
     "start_time": "2020-04-20T11:09:40.830898Z"
    }
   },
   "outputs": [
    {
     "data": {
      "text/latex": [
       "$\\displaystyle x^{5} + x^{4} \\left(5 y + 5\\right) + x^{3} \\left(10 y^{2} + 20 y + 10\\right) + x^{2} \\left(10 y^{3} + 30 y^{2} + 30 y + 10\\right) + x \\left(5 y^{4} + 20 y^{3} + 30 y^{2} + 20 y + 5\\right) + y^{5} + 5 y^{4} + 10 y^{3} + 10 y^{2} + 5 y + 1$"
      ],
      "text/plain": [
       "x**5 + x**4*(5*y + 5) + x**3*(10*y**2 + 20*y + 10) + x**2*(10*y**3 + 30*y**2 + 30*y + 10) + x*(5*y**4 + 20*y**3 + 30*y**2 + 20*y + 5) + y**5 + 5*y**4 + 10*y**3 + 10*y**2 + 5*y + 1"
      ]
     },
     "execution_count": 15,
     "metadata": {},
     "output_type": "execute_result"
    }
   ],
   "source": [
    "f = expand((x + y + 1)**5);\n",
    "collect(f, x)"
   ]
  },
  {
   "cell_type": "code",
   "execution_count": 17,
   "metadata": {
    "ExecuteTime": {
     "end_time": "2020-04-20T11:10:15.823778Z",
     "start_time": "2020-04-20T11:10:15.807776Z"
    }
   },
   "outputs": [
    {
     "data": {
      "text/latex": [
       "$\\displaystyle x^{2} + x \\left(2 y + 2 z + 2\\right) + y^{2} + y \\left(2 z + 2\\right) + z^{2} + 2 z + 1$"
      ],
      "text/plain": [
       "x**2 + x*(2*y + 2*z + 2) + y**2 + y*(2*z + 2) + z**2 + 2*z + 1"
      ]
     },
     "execution_count": 17,
     "metadata": {},
     "output_type": "execute_result"
    }
   ],
   "source": [
    "collect(expand((1 + x + y + z)**2), (x, y))"
   ]
  },
  {
   "cell_type": "code",
   "execution_count": 18,
   "metadata": {
    "ExecuteTime": {
     "end_time": "2020-04-20T11:10:37.421483Z",
     "start_time": "2020-04-20T11:10:37.408485Z"
    }
   },
   "outputs": [
    {
     "data": {
      "text/latex": [
       "$\\displaystyle x^{2} + x \\left(2 z + 2\\right) + y^{2} + y \\left(2 x + 2 z + 2\\right) + z^{2} + 2 z + 1$"
      ],
      "text/plain": [
       "x**2 + x*(2*z + 2) + y**2 + y*(2*x + 2*z + 2) + z**2 + 2*z + 1"
      ]
     },
     "execution_count": 18,
     "metadata": {},
     "output_type": "execute_result"
    }
   ],
   "source": [
    "collect(expand((1 + x + y + z)**2), (y, x))"
   ]
  }
 ],
 "metadata": {
  "file_extension": ".py",
  "kernelspec": {
   "display_name": "Python 3.7.0 32-bit",
   "language": "python",
   "name": "python37032bit1f7a973f3e4e43a28dc60a300a73d1fe"
  },
  "language_info": {
   "codemirror_mode": {
    "name": "ipython",
    "version": 3
   },
   "file_extension": ".py",
   "mimetype": "text/x-python",
   "name": "python",
   "nbconvert_exporter": "python",
   "pygments_lexer": "ipython3",
   "version": "3.7.0"
  },
  "mimetype": "text/x-python",
  "name": "python",
  "npconvert_exporter": "python",
  "pygments_lexer": "ipython3",
  "toc": {
   "base_numbering": 1,
   "nav_menu": {},
   "number_sections": true,
   "sideBar": true,
   "skip_h1_title": false,
   "title_cell": "Table of Contents",
   "title_sidebar": "Contents",
   "toc_cell": false,
   "toc_position": {},
   "toc_section_display": true,
   "toc_window_display": true
  },
  "version": 3
 },
 "nbformat": 4,
 "nbformat_minor": 2
}
